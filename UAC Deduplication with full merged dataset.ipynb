{
 "cells": [
  {
   "cell_type": "markdown",
   "metadata": {},
   "source": [
    "# UAC Data Deduplication (30 July 2020)\n",
    "Using the full, merged dataset with corrections to the extent (only in Delhi) and geometries (polygons, instead of polylines), I do the following to prepare the unauthorized colonies dataset for the spatial index:\n",
    "* Remove all rows with duplicate geometries\n",
    "* Select only one polygon (or row) for each map number and registration number. This involves removing all other polygons (or rows) that share the same map number and registration number.\n",
    "\n",
    "## Details of UAC Data Deduplication\n",
    "* Import 4 unauthorized shapefiles **[DONE]**\n",
    "* Data exploration and pre-processing **[DONE]**\n",
    "    * Reproject CRS to EPSG 3857\n",
    "    * Look at rows/columns\n",
    "    * Set variables for key column names like map column, registration column, etc. Make sure they are consistent and include the data needed for deduplicating polygons from PDF.\n",
    "    * Set Index as Column \n",
    "* Check that there are no duplicate rows **[DONE]**\n",
    "* Check that shapefile only contains polygon geometries. **[DONE]**\n",
    "* Check for duplicate geometries. **[DONE]**\n",
    "    * First look at sample duplicate geometries. How do they relate in terms of non-geometry attributes?\n",
    "    * Delete rows and check resulting GeoDataFrame length\n",
    "* Run code to remove duplicate maps\n",
    "    * May have to modify code to revise map numbers for single-digit maps. This should turn 4 -> 04\n",
    "    * Check that no index to be deleted is in keep list (and vice versa)\n",
    "* Generate USO_ID\n",
    "    * First identify the highest USO_ID in combined NDMC+JJC dataset\n",
    "    * Add USO_ID starting with some buffer (e.g., plus 100)\n",
    "* Save/export file"
   ]
  },
  {
   "cell_type": "code",
   "execution_count": 3,
   "metadata": {},
   "outputs": [],
   "source": [
    "# Import necessary modules\n",
    "import pickle\n",
    "import re\n",
    "import importlib\n",
    "import matplotlib.pyplot as plt\n",
    "import numpy as np\n",
    "import pandas as pd\n",
    "import geopandas as gpd\n",
    "from shapely.geometry import box, Polygon, MultiPolygon, LineString, MultiLineString \n",
    "from shapely.ops import polygonize, unary_union\n",
    "from shapely.geometry.base import geom_factory\n",
    "from shapely.geos import lgeos\n",
    "from pyproj import CRS\n",
    "import rasterio\n",
    "import uac_utils\n",
    "\n",
    "%matplotlib inline"
   ]
  },
  {
   "cell_type": "code",
   "execution_count": 4,
   "metadata": {},
   "outputs": [
    {
     "data": {
      "text/plain": [
       "<module 'uac_utils' from \"C:\\\\Users\\\\bwbel\\\\Google Drive\\\\slum_project\\\\UAC's Data Deduplication\\\\uac_utils.py\">"
      ]
     },
     "execution_count": 4,
     "metadata": {},
     "output_type": "execute_result"
    }
   ],
   "source": [
    "# Reload uac_utils when it gets updated\n",
    "importlib.reload(uac_utils)"
   ]
  },
  {
   "cell_type": "markdown",
   "metadata": {},
   "source": [
    "## Import shapefiles"
   ]
  },
  {
   "cell_type": "code",
   "execution_count": null,
   "metadata": {},
   "outputs": [],
   "source": [
    "uac1 = gpd.read_file('ExtentCorrected_WithDuplicate_9July_Bijoy_QGIS.shp')\n",
    "uac2 = gpd.read_file('UC_Missing1_Polygons.shp')\n",
    "uac3 = gpd.read_file('UC_Missing2_Polygons.shp')\n",
    "uac4 = gpd.read_file('UAC_part.shp')"
   ]
  },
  {
   "cell_type": "markdown",
   "metadata": {},
   "source": [
    "## Data Exploration and Pre-Processing\n",
    "* Check (and re-project) CRS\n",
    "* Look at rows/columns\n",
    "* Set variables for key column names like map column, registration column, etc.\n",
    "* Set Index as Column "
   ]
  },
  {
   "cell_type": "markdown",
   "metadata": {},
   "source": [
    "### Reproject CRS to EPSG 3857"
   ]
  },
  {
   "cell_type": "code",
   "execution_count": null,
   "metadata": {},
   "outputs": [],
   "source": [
    "uac1 = uac_utils.reproject_gdf(uac1, 3857)"
   ]
  },
  {
   "cell_type": "code",
   "execution_count": null,
   "metadata": {},
   "outputs": [],
   "source": [
    "uac2 = uac_utils.reproject_gdf(uac2, 3857)"
   ]
  },
  {
   "cell_type": "code",
   "execution_count": null,
   "metadata": {},
   "outputs": [],
   "source": [
    "uac3 = uac_utils.reproject_gdf(uac3, 3857)"
   ]
  },
  {
   "cell_type": "code",
   "execution_count": null,
   "metadata": {},
   "outputs": [],
   "source": [
    "uac4 = uac_utils.reproject_gdf(uac4, 3857)"
   ]
  },
  {
   "cell_type": "markdown",
   "metadata": {},
   "source": [
    "### Look at rows/columns\n",
    "Common columns include the following:\n",
    "* MAP_NO\n",
    "* Registrati (except uac4)\n",
    "* fme_datase\n",
    "* geometry"
   ]
  },
  {
   "cell_type": "code",
   "execution_count": null,
   "metadata": {},
   "outputs": [],
   "source": [
    "uac1.head(2)"
   ]
  },
  {
   "cell_type": "code",
   "execution_count": null,
   "metadata": {},
   "outputs": [],
   "source": [
    "uac1.columns"
   ]
  },
  {
   "cell_type": "code",
   "execution_count": null,
   "metadata": {},
   "outputs": [],
   "source": [
    "uac2.head(2)"
   ]
  },
  {
   "cell_type": "code",
   "execution_count": null,
   "metadata": {},
   "outputs": [],
   "source": [
    "uac2.columns"
   ]
  },
  {
   "cell_type": "code",
   "execution_count": null,
   "metadata": {},
   "outputs": [],
   "source": [
    "uac3.head(2)"
   ]
  },
  {
   "cell_type": "code",
   "execution_count": null,
   "metadata": {},
   "outputs": [],
   "source": [
    "uac3.columns"
   ]
  },
  {
   "cell_type": "code",
   "execution_count": null,
   "metadata": {},
   "outputs": [],
   "source": [
    "uac4.head(16)"
   ]
  },
  {
   "cell_type": "code",
   "execution_count": null,
   "metadata": {},
   "outputs": [],
   "source": [
    "uac4.columns"
   ]
  },
  {
   "cell_type": "code",
   "execution_count": null,
   "metadata": {},
   "outputs": [],
   "source": [
    "len(uac4)"
   ]
  },
  {
   "cell_type": "markdown",
   "metadata": {},
   "source": [
    "### Create registration id for uac4 shapefile (using regex)"
   ]
  },
  {
   "cell_type": "code",
   "execution_count": null,
   "metadata": {},
   "outputs": [],
   "source": [
    "# Takes into account registration numbers that\n",
    "# are only numbers and those that include\n",
    "# dashes, underscores, and letters\n",
    "# We want to extract group 2.\n",
    "pattern = r\"\\\\(\\d+)_(\\d+.*).pdf\""
   ]
  },
  {
   "cell_type": "code",
   "execution_count": null,
   "metadata": {},
   "outputs": [],
   "source": [
    "# Initialize registration number column\n",
    "uac4['registration_no'] = -1"
   ]
  },
  {
   "cell_type": "code",
   "execution_count": null,
   "metadata": {},
   "outputs": [],
   "source": [
    "# Inspect registration number column\n",
    "uac4.head(2)"
   ]
  },
  {
   "cell_type": "code",
   "execution_count": null,
   "metadata": {},
   "outputs": [],
   "source": [
    "# Extract registration number from fme_datase entry\n",
    "# and place into its own column\n",
    "for idx, row in uac4.iterrows():\n",
    "    try:\n",
    "        matches = re.search(pattern, row['fme_datase'])\n",
    "        uac4.loc[idx, 'registration_no'] = matches.group(2)\n",
    "    except:\n",
    "        continue"
   ]
  },
  {
   "cell_type": "code",
   "execution_count": null,
   "metadata": {},
   "outputs": [],
   "source": [
    "uac4.head()"
   ]
  },
  {
   "cell_type": "markdown",
   "metadata": {},
   "source": [
    "### Harmonize columns"
   ]
  },
  {
   "cell_type": "markdown",
   "metadata": {},
   "source": [
    "#### uac1"
   ]
  },
  {
   "cell_type": "code",
   "execution_count": null,
   "metadata": {},
   "outputs": [],
   "source": [
    "uac1.columns"
   ]
  },
  {
   "cell_type": "code",
   "execution_count": null,
   "metadata": {},
   "outputs": [],
   "source": [
    "uac1_rename = {'MAP_NO': 'map_no', 'REGISTRATI': 'registration_no', 'FME_DATASE': 'fme_database'}"
   ]
  },
  {
   "cell_type": "code",
   "execution_count": null,
   "metadata": {},
   "outputs": [],
   "source": [
    "uac1 = uac1.rename(columns=uac1_rename)"
   ]
  },
  {
   "cell_type": "code",
   "execution_count": null,
   "metadata": {},
   "outputs": [],
   "source": [
    "uac1 = uac1[['map_no', 'registration_no', 'fme_database', 'geometry']]"
   ]
  },
  {
   "cell_type": "code",
   "execution_count": null,
   "metadata": {},
   "outputs": [],
   "source": [
    "uac1.head()"
   ]
  },
  {
   "cell_type": "markdown",
   "metadata": {},
   "source": [
    "#### uac2"
   ]
  },
  {
   "cell_type": "code",
   "execution_count": null,
   "metadata": {},
   "outputs": [],
   "source": [
    "uac2.columns"
   ]
  },
  {
   "cell_type": "code",
   "execution_count": null,
   "metadata": {},
   "outputs": [],
   "source": [
    "uac2_rename = {'Map_No': 'map_no', 'Registrati': 'registration_no', 'fme_datase': 'fme_database'}"
   ]
  },
  {
   "cell_type": "code",
   "execution_count": null,
   "metadata": {},
   "outputs": [],
   "source": [
    "uac2 = uac2.rename(columns=uac2_rename)"
   ]
  },
  {
   "cell_type": "code",
   "execution_count": null,
   "metadata": {},
   "outputs": [],
   "source": [
    "uac2 = uac2[['map_no', 'registration_no', 'fme_database', 'geometry']]"
   ]
  },
  {
   "cell_type": "code",
   "execution_count": null,
   "metadata": {},
   "outputs": [],
   "source": [
    "uac2.head(10)"
   ]
  },
  {
   "cell_type": "markdown",
   "metadata": {},
   "source": [
    "#### uac3"
   ]
  },
  {
   "cell_type": "code",
   "execution_count": null,
   "metadata": {},
   "outputs": [],
   "source": [
    "uac3.columns"
   ]
  },
  {
   "cell_type": "code",
   "execution_count": null,
   "metadata": {},
   "outputs": [],
   "source": [
    "uac3_rename = {'Map_No': 'map_no', 'Registrati': 'registration_no', 'fme_datase': 'fme_database'}"
   ]
  },
  {
   "cell_type": "code",
   "execution_count": null,
   "metadata": {},
   "outputs": [],
   "source": [
    "uac3 = uac3.rename(columns=uac3_rename)"
   ]
  },
  {
   "cell_type": "code",
   "execution_count": null,
   "metadata": {},
   "outputs": [],
   "source": [
    "uac3 = uac3[['map_no', 'registration_no', 'fme_database', 'geometry']]"
   ]
  },
  {
   "cell_type": "code",
   "execution_count": null,
   "metadata": {},
   "outputs": [],
   "source": [
    "uac3.head()"
   ]
  },
  {
   "cell_type": "markdown",
   "metadata": {},
   "source": [
    "#### uac4"
   ]
  },
  {
   "cell_type": "code",
   "execution_count": null,
   "metadata": {},
   "outputs": [],
   "source": [
    "uac4.columns"
   ]
  },
  {
   "cell_type": "code",
   "execution_count": null,
   "metadata": {},
   "outputs": [],
   "source": [
    "uac4_rename = {'Map_No': 'map_no', 'fme_datase': 'fme_database'}"
   ]
  },
  {
   "cell_type": "code",
   "execution_count": null,
   "metadata": {},
   "outputs": [],
   "source": [
    "uac4 = uac4.rename(columns=uac4_rename)"
   ]
  },
  {
   "cell_type": "code",
   "execution_count": null,
   "metadata": {},
   "outputs": [],
   "source": [
    "uac4 = uac4[['map_no', 'registration_no', 'fme_database', 'geometry']]"
   ]
  },
  {
   "cell_type": "code",
   "execution_count": null,
   "metadata": {},
   "outputs": [],
   "source": [
    "uac4.head()"
   ]
  },
  {
   "cell_type": "markdown",
   "metadata": {},
   "source": [
    "### Check data types for map number and registration number "
   ]
  },
  {
   "cell_type": "code",
   "execution_count": null,
   "metadata": {},
   "outputs": [],
   "source": [
    "uac1['map_no'].dtype"
   ]
  },
  {
   "cell_type": "code",
   "execution_count": null,
   "metadata": {},
   "outputs": [],
   "source": [
    "uac1['registration_no']"
   ]
  },
  {
   "cell_type": "code",
   "execution_count": null,
   "metadata": {},
   "outputs": [],
   "source": [
    "uac2['map_no']"
   ]
  },
  {
   "cell_type": "code",
   "execution_count": null,
   "metadata": {},
   "outputs": [],
   "source": [
    "uac2['registration_no']"
   ]
  },
  {
   "cell_type": "code",
   "execution_count": null,
   "metadata": {},
   "outputs": [],
   "source": [
    "uac3['map_no'].dtype"
   ]
  },
  {
   "cell_type": "code",
   "execution_count": null,
   "metadata": {},
   "outputs": [],
   "source": [
    "uac3['registration_no'].dtype"
   ]
  },
  {
   "cell_type": "code",
   "execution_count": null,
   "metadata": {},
   "outputs": [],
   "source": [
    "uac4['map_no'].dtype"
   ]
  },
  {
   "cell_type": "code",
   "execution_count": null,
   "metadata": {},
   "outputs": [],
   "source": [
    "uac4['registration_no']"
   ]
  },
  {
   "cell_type": "markdown",
   "metadata": {},
   "source": [
    "### Fix uac2 map number column\n",
    "* Extract number\n",
    "* Convert to integer\n",
    "* store in new column: `map_no_int`\n",
    "* Remove `map_no` and rename `map_no_int` as `map_no`"
   ]
  },
  {
   "cell_type": "code",
   "execution_count": null,
   "metadata": {},
   "outputs": [],
   "source": [
    "pattern = r\"(\\d+)\""
   ]
  },
  {
   "cell_type": "code",
   "execution_count": null,
   "metadata": {},
   "outputs": [],
   "source": [
    "uac2['map_no_int'] = -1"
   ]
  },
  {
   "cell_type": "code",
   "execution_count": null,
   "metadata": {},
   "outputs": [],
   "source": [
    "# iterate across all rows\n",
    "for idx, row in uac2.iterrows():\n",
    "    try:\n",
    "        # Extract numbers from map_no\n",
    "        matches = re.search(pattern, row['map_no'])\n",
    "        \n",
    "        # Place map number as integer in `map_no_int`\n",
    "        uac2.loc[idx, 'map_no_int'] = int(matches.group(1))\n",
    "    except:\n",
    "        # If regex above does not work, skip this row entry\n",
    "        continue"
   ]
  },
  {
   "cell_type": "code",
   "execution_count": null,
   "metadata": {},
   "outputs": [],
   "source": [
    "uac2.head()"
   ]
  },
  {
   "cell_type": "code",
   "execution_count": null,
   "metadata": {},
   "outputs": [],
   "source": [
    "# Check that map number is an integer\n",
    "uac2.map_no_int.dtype"
   ]
  },
  {
   "cell_type": "code",
   "execution_count": null,
   "metadata": {},
   "outputs": [],
   "source": [
    "# Drop `map_no` as columns\n",
    "uac2 = uac2.drop(columns=['map_no'])"
   ]
  },
  {
   "cell_type": "code",
   "execution_count": null,
   "metadata": {},
   "outputs": [],
   "source": [
    "# Rename `map_no_int` as `map_no`\n",
    "uac2 = uac2.rename(columns={'map_no_int':'map_no'})"
   ]
  },
  {
   "cell_type": "code",
   "execution_count": null,
   "metadata": {},
   "outputs": [],
   "source": [
    "uac2.map_no.dtype"
   ]
  },
  {
   "cell_type": "code",
   "execution_count": null,
   "metadata": {},
   "outputs": [],
   "source": [
    "uac2.head()"
   ]
  },
  {
   "cell_type": "markdown",
   "metadata": {},
   "source": [
    "### Merge uac1, uac2, uac3, uac4 into `uac`"
   ]
  },
  {
   "cell_type": "code",
   "execution_count": null,
   "metadata": {},
   "outputs": [],
   "source": [
    "# Concatenate GeoDataFrames\n",
    "concat_df = pd.concat([uac1, uac2, uac3, uac4], ignore_index=True)"
   ]
  },
  {
   "cell_type": "code",
   "execution_count": null,
   "metadata": {},
   "outputs": [],
   "source": [
    "# Create new GeoDataFrame from concatenation\n",
    "uac = gpd.GeoDataFrame(concat_df, crs=CRS.from_epsg(3857).to_wkt(), geometry='geometry')"
   ]
  },
  {
   "cell_type": "code",
   "execution_count": null,
   "metadata": {},
   "outputs": [],
   "source": [
    "len(uac)"
   ]
  },
  {
   "cell_type": "code",
   "execution_count": null,
   "metadata": {},
   "outputs": [],
   "source": [
    "uac.head()"
   ]
  },
  {
   "cell_type": "markdown",
   "metadata": {},
   "source": []
  },
  {
   "cell_type": "code",
   "execution_count": null,
   "metadata": {},
   "outputs": [],
   "source": [
    "uac['index'] = uac.index"
   ]
  },
  {
   "cell_type": "code",
   "execution_count": null,
   "metadata": {},
   "outputs": [],
   "source": [
    "uac.head()"
   ]
  },
  {
   "cell_type": "code",
   "execution_count": null,
   "metadata": {},
   "outputs": [],
   "source": [
    "uac.tail()"
   ]
  },
  {
   "cell_type": "code",
   "execution_count": null,
   "metadata": {},
   "outputs": [],
   "source": [
    "uac.crs"
   ]
  },
  {
   "cell_type": "markdown",
   "metadata": {},
   "source": [
    "### Save uac shapefile to disk"
   ]
  },
  {
   "cell_type": "code",
   "execution_count": null,
   "metadata": {},
   "outputs": [],
   "source": [
    "uac.to_file('merged_uac_28july2020.shp')"
   ]
  },
  {
   "cell_type": "code",
   "execution_count": null,
   "metadata": {},
   "outputs": [],
   "source": [
    "with open('merged_uac_28july2020.data', 'wb') as f:\n",
    "    pickle.dump(uac, f)"
   ]
  },
  {
   "cell_type": "markdown",
   "metadata": {},
   "source": [
    "### Load uac pickled file from disk"
   ]
  },
  {
   "cell_type": "code",
   "execution_count": null,
   "metadata": {},
   "outputs": [],
   "source": [
    "uac = gpd.read_file('merged_fixed_uac_30July2020.shp')"
   ]
  },
  {
   "cell_type": "code",
   "execution_count": null,
   "metadata": {},
   "outputs": [],
   "source": [
    "len(uac)"
   ]
  },
  {
   "cell_type": "code",
   "execution_count": null,
   "metadata": {},
   "outputs": [],
   "source": [
    "uac.crs"
   ]
  },
  {
   "cell_type": "code",
   "execution_count": null,
   "metadata": {},
   "outputs": [],
   "source": [
    "uac.head()"
   ]
  },
  {
   "cell_type": "markdown",
   "metadata": {},
   "source": [
    "## Check for duplicate rows"
   ]
  },
  {
   "cell_type": "code",
   "execution_count": null,
   "metadata": {},
   "outputs": [],
   "source": [
    "uac_utils.gdf_has_duplicate_rows(uac)"
   ]
  },
  {
   "cell_type": "markdown",
   "metadata": {},
   "source": [
    "## Check for and Remove None-Type in Geometry"
   ]
  },
  {
   "cell_type": "code",
   "execution_count": null,
   "metadata": {},
   "outputs": [],
   "source": [
    "uac[uac['geometry'] == None]"
   ]
  },
  {
   "cell_type": "code",
   "execution_count": null,
   "metadata": {},
   "outputs": [],
   "source": [
    "uac = uac.drop(index=[1436, 1889, 2202])"
   ]
  },
  {
   "cell_type": "markdown",
   "metadata": {},
   "source": [
    "## Check for only polygon geometries"
   ]
  },
  {
   "cell_type": "code",
   "execution_count": null,
   "metadata": {},
   "outputs": [],
   "source": [
    "uac_utils.all_polygon_geometries(uac)"
   ]
  },
  {
   "cell_type": "code",
   "execution_count": null,
   "metadata": {},
   "outputs": [],
   "source": [
    "len(uac)"
   ]
  },
  {
   "cell_type": "markdown",
   "metadata": {},
   "source": [
    "### Check validity of geometries"
   ]
  },
  {
   "cell_type": "code",
   "execution_count": null,
   "metadata": {},
   "outputs": [],
   "source": [
    "uac['valid_geom'] = uac['geometry'].is_valid"
   ]
  },
  {
   "cell_type": "code",
   "execution_count": null,
   "metadata": {},
   "outputs": [],
   "source": [
    "uac['valid_geom'].sum()"
   ]
  },
  {
   "cell_type": "markdown",
   "metadata": {},
   "source": [
    "# Figure out how to identify duplicate polygons"
   ]
  },
  {
   "cell_type": "code",
   "execution_count": null,
   "metadata": {},
   "outputs": [],
   "source": [
    "# Let's create a small, sample GeoDataFrame\n",
    "poly1 = Polygon(((0,1), (10, 20), (20, 30), (0, 1)))\n",
    "\n",
    "# Same as poly1 but in different order\n",
    "poly2 = Polygon(((10,20), (20, 30), (0, 1), (10,20)))\n",
    "\n",
    "poly3 = Polygon(((11,22), (22, 33), (0, 0), (11,22)))\n",
    "\n",
    "poly4 = Polygon(((22, 33), (0, 0), (11,22), (22,33)))\n",
    "\n",
    "poly5 = Polygon(((0, 0), (11,22), (22,33), (0,0)))\n",
    "\n",
    "df = pd.DataFrame({'geometry': [poly1, poly2, poly3, poly4, poly5]})\n",
    "\n",
    "gdf = gpd.GeoDataFrame(df, geometry='geometry')\n",
    "\n",
    "#gdf"
   ]
  },
  {
   "cell_type": "code",
   "execution_count": null,
   "metadata": {},
   "outputs": [],
   "source": [
    "uac = uac_utils.remove_duplicate_geom(uac)"
   ]
  },
  {
   "cell_type": "code",
   "execution_count": null,
   "metadata": {},
   "outputs": [],
   "source": [
    "uac.head()"
   ]
  },
  {
   "cell_type": "code",
   "execution_count": null,
   "metadata": {},
   "outputs": [],
   "source": [
    "len(uac)"
   ]
  },
  {
   "cell_type": "markdown",
   "metadata": {},
   "source": [
    "### Save File"
   ]
  },
  {
   "cell_type": "code",
   "execution_count": null,
   "metadata": {},
   "outputs": [],
   "source": [
    "uac.to_file('merged_fixed_unique_uac_30July2020.shp')"
   ]
  },
  {
   "cell_type": "code",
   "execution_count": null,
   "metadata": {},
   "outputs": [],
   "source": [
    "with open('merged_fixed_unique_uac_30July2020.data', 'wb') as f:\n",
    "    pickle.dump(uac, f)"
   ]
  },
  {
   "cell_type": "markdown",
   "metadata": {},
   "source": [
    "### Load File"
   ]
  },
  {
   "cell_type": "code",
   "execution_count": 5,
   "metadata": {},
   "outputs": [],
   "source": [
    "with open('merged_fixed_unique_uac_30July2020.data', 'rb') as f:\n",
    "    uac = pickle.load(f)"
   ]
  },
  {
   "cell_type": "code",
   "execution_count": 7,
   "metadata": {},
   "outputs": [],
   "source": [
    "uac = uac.drop(columns=['valid_geom', 'index', 'level_0'])"
   ]
  },
  {
   "cell_type": "code",
   "execution_count": 8,
   "metadata": {},
   "outputs": [
    {
     "data": {
      "text/html": [
       "<div>\n",
       "<style scoped>\n",
       "    .dataframe tbody tr th:only-of-type {\n",
       "        vertical-align: middle;\n",
       "    }\n",
       "\n",
       "    .dataframe tbody tr th {\n",
       "        vertical-align: top;\n",
       "    }\n",
       "\n",
       "    .dataframe thead th {\n",
       "        text-align: right;\n",
       "    }\n",
       "</style>\n",
       "<table border=\"1\" class=\"dataframe\">\n",
       "  <thead>\n",
       "    <tr style=\"text-align: right;\">\n",
       "      <th></th>\n",
       "      <th>map_no</th>\n",
       "      <th>registrati</th>\n",
       "      <th>fme_databa</th>\n",
       "      <th>geometry</th>\n",
       "    </tr>\n",
       "  </thead>\n",
       "  <tbody>\n",
       "    <tr>\n",
       "      <th>0</th>\n",
       "      <td>520</td>\n",
       "      <td>570</td>\n",
       "      <td>D:\\UC Downloads\\UC_501-600-Done\\520_570.pdf</td>\n",
       "      <td>POLYGON ((8568698.722 3350778.289, 8568688.910...</td>\n",
       "    </tr>\n",
       "    <tr>\n",
       "      <th>1</th>\n",
       "      <td>509</td>\n",
       "      <td>888</td>\n",
       "      <td>D:\\UC Downloads\\UC_501-600-Done\\509_888.pdf</td>\n",
       "      <td>POLYGON ((8580894.912 3343225.741, 8580905.114...</td>\n",
       "    </tr>\n",
       "    <tr>\n",
       "      <th>2</th>\n",
       "      <td>516</td>\n",
       "      <td>658</td>\n",
       "      <td>D:\\UC Downloads\\UC_501-600-Done\\516_658.pdf</td>\n",
       "      <td>POLYGON ((8574843.534 3349736.689, 8574924.630...</td>\n",
       "    </tr>\n",
       "    <tr>\n",
       "      <th>3</th>\n",
       "      <td>503</td>\n",
       "      <td>200</td>\n",
       "      <td>D:\\UC Downloads\\UC_501-600-Done\\503_200.pdf</td>\n",
       "      <td>POLYGON ((8578433.979 3352949.941, 8578436.107...</td>\n",
       "    </tr>\n",
       "    <tr>\n",
       "      <th>4</th>\n",
       "      <td>504</td>\n",
       "      <td>1194</td>\n",
       "      <td>D:\\UC Downloads\\UC_501-600-Done\\504_1194.pdf</td>\n",
       "      <td>POLYGON ((8579255.777 3353628.687, 8579180.169...</td>\n",
       "    </tr>\n",
       "  </tbody>\n",
       "</table>\n",
       "</div>"
      ],
      "text/plain": [
       "   map_no registrati                                    fme_databa  \\\n",
       "0     520        570   D:\\UC Downloads\\UC_501-600-Done\\520_570.pdf   \n",
       "1     509        888   D:\\UC Downloads\\UC_501-600-Done\\509_888.pdf   \n",
       "2     516        658   D:\\UC Downloads\\UC_501-600-Done\\516_658.pdf   \n",
       "3     503        200   D:\\UC Downloads\\UC_501-600-Done\\503_200.pdf   \n",
       "4     504       1194  D:\\UC Downloads\\UC_501-600-Done\\504_1194.pdf   \n",
       "\n",
       "                                            geometry  \n",
       "0  POLYGON ((8568698.722 3350778.289, 8568688.910...  \n",
       "1  POLYGON ((8580894.912 3343225.741, 8580905.114...  \n",
       "2  POLYGON ((8574843.534 3349736.689, 8574924.630...  \n",
       "3  POLYGON ((8578433.979 3352949.941, 8578436.107...  \n",
       "4  POLYGON ((8579255.777 3353628.687, 8579180.169...  "
      ]
     },
     "execution_count": 8,
     "metadata": {},
     "output_type": "execute_result"
    }
   ],
   "source": [
    "uac.head()"
   ]
  },
  {
   "cell_type": "markdown",
   "metadata": {},
   "source": [
    "### Set index as column"
   ]
  },
  {
   "cell_type": "code",
   "execution_count": 11,
   "metadata": {},
   "outputs": [],
   "source": [
    "uac = uac_utils.create_index_column(uac)"
   ]
  },
  {
   "cell_type": "code",
   "execution_count": 12,
   "metadata": {},
   "outputs": [
    {
     "data": {
      "text/html": [
       "<div>\n",
       "<style scoped>\n",
       "    .dataframe tbody tr th:only-of-type {\n",
       "        vertical-align: middle;\n",
       "    }\n",
       "\n",
       "    .dataframe tbody tr th {\n",
       "        vertical-align: top;\n",
       "    }\n",
       "\n",
       "    .dataframe thead th {\n",
       "        text-align: right;\n",
       "    }\n",
       "</style>\n",
       "<table border=\"1\" class=\"dataframe\">\n",
       "  <thead>\n",
       "    <tr style=\"text-align: right;\">\n",
       "      <th></th>\n",
       "      <th>map_no</th>\n",
       "      <th>registrati</th>\n",
       "      <th>fme_databa</th>\n",
       "      <th>geometry</th>\n",
       "      <th>index</th>\n",
       "    </tr>\n",
       "  </thead>\n",
       "  <tbody>\n",
       "    <tr>\n",
       "      <th>0</th>\n",
       "      <td>520</td>\n",
       "      <td>570</td>\n",
       "      <td>D:\\UC Downloads\\UC_501-600-Done\\520_570.pdf</td>\n",
       "      <td>POLYGON ((8568698.722 3350778.289, 8568688.910...</td>\n",
       "      <td>0</td>\n",
       "    </tr>\n",
       "    <tr>\n",
       "      <th>1</th>\n",
       "      <td>509</td>\n",
       "      <td>888</td>\n",
       "      <td>D:\\UC Downloads\\UC_501-600-Done\\509_888.pdf</td>\n",
       "      <td>POLYGON ((8580894.912 3343225.741, 8580905.114...</td>\n",
       "      <td>1</td>\n",
       "    </tr>\n",
       "    <tr>\n",
       "      <th>2</th>\n",
       "      <td>516</td>\n",
       "      <td>658</td>\n",
       "      <td>D:\\UC Downloads\\UC_501-600-Done\\516_658.pdf</td>\n",
       "      <td>POLYGON ((8574843.534 3349736.689, 8574924.630...</td>\n",
       "      <td>2</td>\n",
       "    </tr>\n",
       "    <tr>\n",
       "      <th>3</th>\n",
       "      <td>503</td>\n",
       "      <td>200</td>\n",
       "      <td>D:\\UC Downloads\\UC_501-600-Done\\503_200.pdf</td>\n",
       "      <td>POLYGON ((8578433.979 3352949.941, 8578436.107...</td>\n",
       "      <td>3</td>\n",
       "    </tr>\n",
       "    <tr>\n",
       "      <th>4</th>\n",
       "      <td>504</td>\n",
       "      <td>1194</td>\n",
       "      <td>D:\\UC Downloads\\UC_501-600-Done\\504_1194.pdf</td>\n",
       "      <td>POLYGON ((8579255.777 3353628.687, 8579180.169...</td>\n",
       "      <td>4</td>\n",
       "    </tr>\n",
       "  </tbody>\n",
       "</table>\n",
       "</div>"
      ],
      "text/plain": [
       "   map_no registrati                                    fme_databa  \\\n",
       "0     520        570   D:\\UC Downloads\\UC_501-600-Done\\520_570.pdf   \n",
       "1     509        888   D:\\UC Downloads\\UC_501-600-Done\\509_888.pdf   \n",
       "2     516        658   D:\\UC Downloads\\UC_501-600-Done\\516_658.pdf   \n",
       "3     503        200   D:\\UC Downloads\\UC_501-600-Done\\503_200.pdf   \n",
       "4     504       1194  D:\\UC Downloads\\UC_501-600-Done\\504_1194.pdf   \n",
       "\n",
       "                                            geometry  index  \n",
       "0  POLYGON ((8568698.722 3350778.289, 8568688.910...      0  \n",
       "1  POLYGON ((8580894.912 3343225.741, 8580905.114...      1  \n",
       "2  POLYGON ((8574843.534 3349736.689, 8574924.630...      2  \n",
       "3  POLYGON ((8578433.979 3352949.941, 8578436.107...      3  \n",
       "4  POLYGON ((8579255.777 3353628.687, 8579180.169...      4  "
      ]
     },
     "execution_count": 12,
     "metadata": {},
     "output_type": "execute_result"
    }
   ],
   "source": [
    "uac.head()"
   ]
  },
  {
   "cell_type": "markdown",
   "metadata": {},
   "source": [
    "### Rename registration column"
   ]
  },
  {
   "cell_type": "code",
   "execution_count": 18,
   "metadata": {},
   "outputs": [],
   "source": [
    "uac = uac.rename(columns={'registrati': 'registration_no'})"
   ]
  },
  {
   "cell_type": "code",
   "execution_count": 19,
   "metadata": {},
   "outputs": [
    {
     "data": {
      "text/html": [
       "<div>\n",
       "<style scoped>\n",
       "    .dataframe tbody tr th:only-of-type {\n",
       "        vertical-align: middle;\n",
       "    }\n",
       "\n",
       "    .dataframe tbody tr th {\n",
       "        vertical-align: top;\n",
       "    }\n",
       "\n",
       "    .dataframe thead th {\n",
       "        text-align: right;\n",
       "    }\n",
       "</style>\n",
       "<table border=\"1\" class=\"dataframe\">\n",
       "  <thead>\n",
       "    <tr style=\"text-align: right;\">\n",
       "      <th></th>\n",
       "      <th>map_no</th>\n",
       "      <th>registration_no</th>\n",
       "      <th>fme_databa</th>\n",
       "      <th>geometry</th>\n",
       "      <th>index</th>\n",
       "    </tr>\n",
       "  </thead>\n",
       "  <tbody>\n",
       "    <tr>\n",
       "      <th>0</th>\n",
       "      <td>520</td>\n",
       "      <td>570</td>\n",
       "      <td>D:\\UC Downloads\\UC_501-600-Done\\520_570.pdf</td>\n",
       "      <td>POLYGON ((8568698.722 3350778.289, 8568688.910...</td>\n",
       "      <td>0</td>\n",
       "    </tr>\n",
       "    <tr>\n",
       "      <th>1</th>\n",
       "      <td>509</td>\n",
       "      <td>888</td>\n",
       "      <td>D:\\UC Downloads\\UC_501-600-Done\\509_888.pdf</td>\n",
       "      <td>POLYGON ((8580894.912 3343225.741, 8580905.114...</td>\n",
       "      <td>1</td>\n",
       "    </tr>\n",
       "    <tr>\n",
       "      <th>2</th>\n",
       "      <td>516</td>\n",
       "      <td>658</td>\n",
       "      <td>D:\\UC Downloads\\UC_501-600-Done\\516_658.pdf</td>\n",
       "      <td>POLYGON ((8574843.534 3349736.689, 8574924.630...</td>\n",
       "      <td>2</td>\n",
       "    </tr>\n",
       "    <tr>\n",
       "      <th>3</th>\n",
       "      <td>503</td>\n",
       "      <td>200</td>\n",
       "      <td>D:\\UC Downloads\\UC_501-600-Done\\503_200.pdf</td>\n",
       "      <td>POLYGON ((8578433.979 3352949.941, 8578436.107...</td>\n",
       "      <td>3</td>\n",
       "    </tr>\n",
       "    <tr>\n",
       "      <th>4</th>\n",
       "      <td>504</td>\n",
       "      <td>1194</td>\n",
       "      <td>D:\\UC Downloads\\UC_501-600-Done\\504_1194.pdf</td>\n",
       "      <td>POLYGON ((8579255.777 3353628.687, 8579180.169...</td>\n",
       "      <td>4</td>\n",
       "    </tr>\n",
       "  </tbody>\n",
       "</table>\n",
       "</div>"
      ],
      "text/plain": [
       "   map_no registration_no                                    fme_databa  \\\n",
       "0     520             570   D:\\UC Downloads\\UC_501-600-Done\\520_570.pdf   \n",
       "1     509             888   D:\\UC Downloads\\UC_501-600-Done\\509_888.pdf   \n",
       "2     516             658   D:\\UC Downloads\\UC_501-600-Done\\516_658.pdf   \n",
       "3     503             200   D:\\UC Downloads\\UC_501-600-Done\\503_200.pdf   \n",
       "4     504            1194  D:\\UC Downloads\\UC_501-600-Done\\504_1194.pdf   \n",
       "\n",
       "                                            geometry  index  \n",
       "0  POLYGON ((8568698.722 3350778.289, 8568688.910...      0  \n",
       "1  POLYGON ((8580894.912 3343225.741, 8580905.114...      1  \n",
       "2  POLYGON ((8574843.534 3349736.689, 8574924.630...      2  \n",
       "3  POLYGON ((8578433.979 3352949.941, 8578436.107...      3  \n",
       "4  POLYGON ((8579255.777 3353628.687, 8579180.169...      4  "
      ]
     },
     "execution_count": 19,
     "metadata": {},
     "output_type": "execute_result"
    }
   ],
   "source": [
    "uac.head()"
   ]
  },
  {
   "cell_type": "markdown",
   "metadata": {},
   "source": [
    "### Set variables for column names"
   ]
  },
  {
   "cell_type": "code",
   "execution_count": 20,
   "metadata": {},
   "outputs": [
    {
     "data": {
      "text/plain": [
       "0     570\n",
       "1     888\n",
       "2     658\n",
       "3     200\n",
       "4    1194\n",
       "Name: registration_no, dtype: object"
      ]
     },
     "execution_count": 20,
     "metadata": {},
     "output_type": "execute_result"
    }
   ],
   "source": [
    "index_colname = 'index'\n",
    "map_colname = 'map_no'\n",
    "registration_colname = 'registration_no'\n",
    "#uac[index_colname].head()\n",
    "#uac[map_colname].head()\n",
    "uac[registration_colname].head()"
   ]
  },
  {
   "cell_type": "markdown",
   "metadata": {},
   "source": [
    "## Next tasks:\n",
    "* Read what i did before for UAC deduplication, including utils code\n",
    "* Make sure that code works for map numbers with single digits. For example, Map 1 is 01 in the URL\n",
    "* Commit changes to utils code by removing copies of gdf within functions. confirm that every function makes a copy of the object instead of references it in Python. Spend the weekend thinking through this."
   ]
  },
  {
   "cell_type": "markdown",
   "metadata": {},
   "source": [
    "### Identify which attributes have multiple labels"
   ]
  },
  {
   "cell_type": "code",
   "execution_count": 22,
   "metadata": {},
   "outputs": [],
   "source": [
    "map_registration_dict = uac_utils.create_map_registration_dict(uac, \n",
    "                                                               map_colname=map_colname, \n",
    "                                                               registration_colname=registration_colname)"
   ]
  },
  {
   "cell_type": "code",
   "execution_count": 23,
   "metadata": {},
   "outputs": [
    {
     "data": {
      "text/plain": [
       "[(520, {'570'}),\n",
       " (509, {'888'}),\n",
       " (516, {'658'}),\n",
       " (503, {'200'}),\n",
       " (504, {'1194'})]"
      ]
     },
     "execution_count": 23,
     "metadata": {},
     "output_type": "execute_result"
    }
   ],
   "source": [
    "list(map_registration_dict.items())[:5]"
   ]
  },
  {
   "cell_type": "code",
   "execution_count": 24,
   "metadata": {},
   "outputs": [
    {
     "name": "stdout",
     "output_type": "stream",
     "text": [
      "682 {'660B', '660-B'}\n",
      "1533 {'491A', '491'}\n",
      "1507 {'1072A', '1072a'}\n",
      "0 {'1460', '1022', '509', '1552', '16', '1108'}\n"
     ]
    }
   ],
   "source": [
    "# Check if number of registration numbers for each Map No is always 1\n",
    "for key, val in map_registration_dict.items():\n",
    "    if len(val) != 1:\n",
    "        print(key, val)"
   ]
  },
  {
   "cell_type": "markdown",
   "metadata": {},
   "source": [
    "## Remove rows where map_no = 0"
   ]
  },
  {
   "cell_type": "code",
   "execution_count": 29,
   "metadata": {},
   "outputs": [],
   "source": [
    "map0_indices = uac[uac['map_no'] == 0].index"
   ]
  },
  {
   "cell_type": "code",
   "execution_count": 30,
   "metadata": {},
   "outputs": [],
   "source": [
    "uac = uac.drop(index=map0_indices)"
   ]
  },
  {
   "cell_type": "code",
   "execution_count": 32,
   "metadata": {},
   "outputs": [
    {
     "data": {
      "text/html": [
       "<div>\n",
       "<style scoped>\n",
       "    .dataframe tbody tr th:only-of-type {\n",
       "        vertical-align: middle;\n",
       "    }\n",
       "\n",
       "    .dataframe tbody tr th {\n",
       "        vertical-align: top;\n",
       "    }\n",
       "\n",
       "    .dataframe thead th {\n",
       "        text-align: right;\n",
       "    }\n",
       "</style>\n",
       "<table border=\"1\" class=\"dataframe\">\n",
       "  <thead>\n",
       "    <tr style=\"text-align: right;\">\n",
       "      <th></th>\n",
       "      <th>map_no</th>\n",
       "      <th>registration_no</th>\n",
       "      <th>fme_databa</th>\n",
       "      <th>geometry</th>\n",
       "      <th>index</th>\n",
       "    </tr>\n",
       "  </thead>\n",
       "  <tbody>\n",
       "  </tbody>\n",
       "</table>\n",
       "</div>"
      ],
      "text/plain": [
       "Empty GeoDataFrame\n",
       "Columns: [map_no, registration_no, fme_databa, geometry, index]\n",
       "Index: []"
      ]
     },
     "execution_count": 32,
     "metadata": {},
     "output_type": "execute_result"
    }
   ],
   "source": [
    "uac[uac['map_no'] == 0] "
   ]
  },
  {
   "cell_type": "code",
   "execution_count": null,
   "metadata": {},
   "outputs": [],
   "source": []
  }
 ],
 "metadata": {
  "kernelspec": {
   "display_name": "Python 3",
   "language": "python",
   "name": "python3"
  },
  "language_info": {
   "codemirror_mode": {
    "name": "ipython",
    "version": 3
   },
   "file_extension": ".py",
   "mimetype": "text/x-python",
   "name": "python",
   "nbconvert_exporter": "python",
   "pygments_lexer": "ipython3",
   "version": "3.7.7"
  }
 },
 "nbformat": 4,
 "nbformat_minor": 4
}
