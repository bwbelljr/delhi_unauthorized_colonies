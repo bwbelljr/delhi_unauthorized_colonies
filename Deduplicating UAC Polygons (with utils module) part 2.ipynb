{
 "cells": [
  {
   "cell_type": "markdown",
   "metadata": {},
   "source": [
    "# Unauthorized Colonies Data De-Duplication (part 2)\n",
    "\n",
    "## Goal: Merge de-deduplicated unauthorized colonies with missing unauthorized colonies found by Shubhada and find/remove any duplicate polygons\n",
    "\n",
    "* Import all Shapefiles **[DONE]**\n",
    "* Merge all Shapefiles and harmonize all columns\n",
    "* Check that there are no duplicate rows **[DONE]**\n",
    "* Set Index as Column  **[DONE]**\n",
    "* Identify which attribute has multiple labels **[DONE]**\n",
    "* Find the subset of Map Numbers that have multiple polygons for them **[DONE]**\n",
    "* Generate PDF URLs from HTML file **[DONE]**\n",
    "    * Extract URL segments via regex\n",
    "    * Create URLs\n",
    "    * Associate each map number to PDF URL\n",
    "* Extract centroids from all PDF files **[DONE]**\n",
    "    * Store centroids in a data structure associated with map number\n",
    "    * This PDF centroid can be used in both algorithms below.\n",
    "* Algorithm: Distance from PDF centroid to Polygon Centroid\n",
    "    * Extract all PDF URL's from DDA website source (use combination of map no and registration number to figure out precise URL)\n",
    "    * Apply PDF bounds algorithm to this\n",
    "* Generate random list of 29 (5%) of map numbers to check for. This needs to be written to a text file for Anya. \n",
    "* Complete and save"
   ]
  },
  {
   "cell_type": "code",
   "execution_count": 89,
   "metadata": {},
   "outputs": [],
   "source": [
    "# Import necessary modules\n",
    "import pickle\n",
    "import re\n",
    "import importlib\n",
    "import matplotlib.pyplot as plt\n",
    "import pandas as pd\n",
    "import geopandas as gpd\n",
    "from shapely.geometry import box, Polygon, MultiPolygon, LineString, MultiLineString \n",
    "from shapely.ops import polygonize, unary_union\n",
    "from pyproj import CRS\n",
    "import rasterio\n",
    "\n",
    "import uac_utils"
   ]
  },
  {
   "cell_type": "code",
   "execution_count": 242,
   "metadata": {},
   "outputs": [
    {
     "data": {
      "text/plain": [
       "<module 'uac_utils' from \"C:\\\\Users\\\\bwbel\\\\Google Drive\\\\slum_project\\\\UAC's Data Deduplication\\\\uac_utils.py\">"
      ]
     },
     "execution_count": 242,
     "metadata": {},
     "output_type": "execute_result"
    }
   ],
   "source": [
    "# Reload uac_utils when it gets updated\n",
    "importlib.reload(uac_utils)"
   ]
  },
  {
   "cell_type": "code",
   "execution_count": 91,
   "metadata": {},
   "outputs": [],
   "source": [
    "%matplotlib inline"
   ]
  },
  {
   "cell_type": "markdown",
   "metadata": {},
   "source": [
    "## Import UAC Shapefiles"
   ]
  },
  {
   "cell_type": "code",
   "execution_count": 92,
   "metadata": {},
   "outputs": [],
   "source": [
    "uac_deduplicated = gpd.read_file(filename=\"uac_deduplicated.shp\")"
   ]
  },
  {
   "cell_type": "code",
   "execution_count": 93,
   "metadata": {},
   "outputs": [],
   "source": [
    "uac_missing1 = gpd.read_file(filename=\"Missing1_UAC.shp\")"
   ]
  },
  {
   "cell_type": "code",
   "execution_count": 94,
   "metadata": {},
   "outputs": [],
   "source": [
    "uac_missing2 = gpd.read_file(filename=\"Missing2_UAC.shp\")"
   ]
  },
  {
   "cell_type": "code",
   "execution_count": 95,
   "metadata": {},
   "outputs": [
    {
     "data": {
      "text/plain": [
       "<Projected CRS: EPSG:3857>\n",
       "Name: WGS 84 / Pseudo-Mercator\n",
       "Axis Info [cartesian]:\n",
       "- X[east]: Easting (metre)\n",
       "- Y[north]: Northing (metre)\n",
       "Area of Use:\n",
       "- name: World - 85°S to 85°N\n",
       "- bounds: (-180.0, -85.06, 180.0, 85.06)\n",
       "Coordinate Operation:\n",
       "- name: Popular Visualisation Pseudo-Mercator\n",
       "- method: Popular Visualisation Pseudo Mercator\n",
       "Datum: World Geodetic System 1984\n",
       "- Ellipsoid: WGS 84\n",
       "- Prime Meridian: Greenwich"
      ]
     },
     "execution_count": 95,
     "metadata": {},
     "output_type": "execute_result"
    }
   ],
   "source": [
    "uac_deduplicated.crs"
   ]
  },
  {
   "cell_type": "code",
   "execution_count": 96,
   "metadata": {},
   "outputs": [
    {
     "data": {
      "text/plain": [
       "<Projected CRS: EPSG:32643>\n",
       "Name: WGS 84 / UTM zone 43N\n",
       "Axis Info [cartesian]:\n",
       "- E[east]: Easting (metre)\n",
       "- N[north]: Northing (metre)\n",
       "Area of Use:\n",
       "- name: World - N hemisphere - 72°E to 78°E - by country\n",
       "- bounds: (72.0, 0.0, 78.0, 84.0)\n",
       "Coordinate Operation:\n",
       "- name: UTM zone 43N\n",
       "- method: Transverse Mercator\n",
       "Datum: World Geodetic System 1984\n",
       "- Ellipsoid: WGS 84\n",
       "- Prime Meridian: Greenwich"
      ]
     },
     "execution_count": 96,
     "metadata": {},
     "output_type": "execute_result"
    }
   ],
   "source": [
    "uac_missing1.crs"
   ]
  },
  {
   "cell_type": "code",
   "execution_count": 97,
   "metadata": {},
   "outputs": [
    {
     "data": {
      "text/plain": [
       "<Projected CRS: EPSG:32643>\n",
       "Name: WGS 84 / UTM zone 43N\n",
       "Axis Info [cartesian]:\n",
       "- E[east]: Easting (metre)\n",
       "- N[north]: Northing (metre)\n",
       "Area of Use:\n",
       "- name: World - N hemisphere - 72°E to 78°E - by country\n",
       "- bounds: (72.0, 0.0, 78.0, 84.0)\n",
       "Coordinate Operation:\n",
       "- name: UTM zone 43N\n",
       "- method: Transverse Mercator\n",
       "Datum: World Geodetic System 1984\n",
       "- Ellipsoid: WGS 84\n",
       "- Prime Meridian: Greenwich"
      ]
     },
     "execution_count": 97,
     "metadata": {},
     "output_type": "execute_result"
    }
   ],
   "source": [
    "uac_missing2.crs"
   ]
  },
  {
   "cell_type": "markdown",
   "metadata": {},
   "source": [
    "## Merge all Shapefiles and harmonize all columns"
   ]
  },
  {
   "cell_type": "code",
   "execution_count": 98,
   "metadata": {},
   "outputs": [
    {
     "data": {
      "text/html": [
       "<div>\n",
       "<style scoped>\n",
       "    .dataframe tbody tr th:only-of-type {\n",
       "        vertical-align: middle;\n",
       "    }\n",
       "\n",
       "    .dataframe tbody tr th {\n",
       "        vertical-align: top;\n",
       "    }\n",
       "\n",
       "    .dataframe thead th {\n",
       "        text-align: right;\n",
       "    }\n",
       "</style>\n",
       "<table border=\"1\" class=\"dataframe\">\n",
       "  <thead>\n",
       "    <tr style=\"text-align: right;\">\n",
       "      <th></th>\n",
       "      <th>OBJECTID</th>\n",
       "      <th>MAP_NO</th>\n",
       "      <th>REGISTRATI</th>\n",
       "      <th>IMG_NM_IND</th>\n",
       "      <th>FME_DATASE</th>\n",
       "      <th>layer</th>\n",
       "      <th>path</th>\n",
       "      <th>index</th>\n",
       "      <th>geometry</th>\n",
       "    </tr>\n",
       "  </thead>\n",
       "  <tbody>\n",
       "    <tr>\n",
       "      <th>0</th>\n",
       "      <td>1</td>\n",
       "      <td>520</td>\n",
       "      <td>570</td>\n",
       "      <td>SHIV COLNY KATEWADA</td>\n",
       "      <td>D:\\UC Downloads\\UC_501-600-Done\\520_570.pdf</td>\n",
       "      <td>1to600</td>\n",
       "      <td>/home/hb/Documents/USO/Spatial_Index_Project/U...</td>\n",
       "      <td>0</td>\n",
       "      <td>POLYGON ((8568698.722 3350778.289, 8568688.910...</td>\n",
       "    </tr>\n",
       "    <tr>\n",
       "      <th>1</th>\n",
       "      <td>2</td>\n",
       "      <td>509</td>\n",
       "      <td>888</td>\n",
       "      <td>KRISHNA COLONY</td>\n",
       "      <td>D:\\UC Downloads\\UC_501-600-Done\\509_888.pdf</td>\n",
       "      <td>1to600</td>\n",
       "      <td>/home/hb/Documents/USO/Spatial_Index_Project/U...</td>\n",
       "      <td>1</td>\n",
       "      <td>POLYGON ((8580894.912 3343225.741, 8580905.114...</td>\n",
       "    </tr>\n",
       "  </tbody>\n",
       "</table>\n",
       "</div>"
      ],
      "text/plain": [
       "   OBJECTID  MAP_NO REGISTRATI           IMG_NM_IND  \\\n",
       "0         1     520        570  SHIV COLNY KATEWADA   \n",
       "1         2     509        888       KRISHNA COLONY   \n",
       "\n",
       "                                    FME_DATASE   layer  \\\n",
       "0  D:\\UC Downloads\\UC_501-600-Done\\520_570.pdf  1to600   \n",
       "1  D:\\UC Downloads\\UC_501-600-Done\\509_888.pdf  1to600   \n",
       "\n",
       "                                                path  index  \\\n",
       "0  /home/hb/Documents/USO/Spatial_Index_Project/U...      0   \n",
       "1  /home/hb/Documents/USO/Spatial_Index_Project/U...      1   \n",
       "\n",
       "                                            geometry  \n",
       "0  POLYGON ((8568698.722 3350778.289, 8568688.910...  \n",
       "1  POLYGON ((8580894.912 3343225.741, 8580905.114...  "
      ]
     },
     "execution_count": 98,
     "metadata": {},
     "output_type": "execute_result"
    }
   ],
   "source": [
    "# See first couple of rows of uac_deduplicated\n",
    "uac_deduplicated.head(2)"
   ]
  },
  {
   "cell_type": "code",
   "execution_count": 99,
   "metadata": {},
   "outputs": [
    {
     "data": {
      "text/html": [
       "<div>\n",
       "<style scoped>\n",
       "    .dataframe tbody tr th:only-of-type {\n",
       "        vertical-align: middle;\n",
       "    }\n",
       "\n",
       "    .dataframe tbody tr th {\n",
       "        vertical-align: top;\n",
       "    }\n",
       "\n",
       "    .dataframe thead th {\n",
       "        text-align: right;\n",
       "    }\n",
       "</style>\n",
       "<table border=\"1\" class=\"dataframe\">\n",
       "  <thead>\n",
       "    <tr style=\"text-align: right;\">\n",
       "      <th></th>\n",
       "      <th>OBJECTID</th>\n",
       "      <th>MAP_NO</th>\n",
       "      <th>REGISTRATI</th>\n",
       "      <th>IMG_NM_IND</th>\n",
       "      <th>FME_DATASE</th>\n",
       "      <th>LAYER</th>\n",
       "      <th>PATH</th>\n",
       "      <th>INDEX</th>\n",
       "      <th>geometry</th>\n",
       "    </tr>\n",
       "  </thead>\n",
       "  <tbody>\n",
       "    <tr>\n",
       "      <th>0</th>\n",
       "      <td>265</td>\n",
       "      <td>697</td>\n",
       "      <td>1198</td>\n",
       "      <td>1198_HARIJAN BASTI, NEW ROHATAK ROAD</td>\n",
       "      <td>D:\\UC Downloads\\a-Missing Files\\697_1198.pdf</td>\n",
       "      <td>None</td>\n",
       "      <td>None</td>\n",
       "      <td>0</td>\n",
       "      <td>POLYGON ((712532.173 3172816.979, 712557.030 3...</td>\n",
       "    </tr>\n",
       "    <tr>\n",
       "      <th>1</th>\n",
       "      <td>266</td>\n",
       "      <td>696</td>\n",
       "      <td>1094</td>\n",
       "      <td>1094_ANAND PARBHAT COLONY</td>\n",
       "      <td>D:\\UC Downloads\\a-Missing Files\\696_1094.pdf</td>\n",
       "      <td>None</td>\n",
       "      <td>None</td>\n",
       "      <td>0</td>\n",
       "      <td>POLYGON ((712769.831 3172131.192, 712773.227 3...</td>\n",
       "    </tr>\n",
       "  </tbody>\n",
       "</table>\n",
       "</div>"
      ],
      "text/plain": [
       "   OBJECTID  MAP_NO REGISTRATI                            IMG_NM_IND  \\\n",
       "0       265     697       1198  1198_HARIJAN BASTI, NEW ROHATAK ROAD   \n",
       "1       266     696       1094             1094_ANAND PARBHAT COLONY   \n",
       "\n",
       "                                     FME_DATASE LAYER  PATH  INDEX  \\\n",
       "0  D:\\UC Downloads\\a-Missing Files\\697_1198.pdf  None  None      0   \n",
       "1  D:\\UC Downloads\\a-Missing Files\\696_1094.pdf  None  None      0   \n",
       "\n",
       "                                            geometry  \n",
       "0  POLYGON ((712532.173 3172816.979, 712557.030 3...  \n",
       "1  POLYGON ((712769.831 3172131.192, 712773.227 3...  "
      ]
     },
     "execution_count": 99,
     "metadata": {},
     "output_type": "execute_result"
    }
   ],
   "source": [
    "# See first couple of rows of uac_missing1\n",
    "uac_missing1.head(2)"
   ]
  },
  {
   "cell_type": "code",
   "execution_count": 100,
   "metadata": {},
   "outputs": [
    {
     "data": {
      "text/html": [
       "<div>\n",
       "<style scoped>\n",
       "    .dataframe tbody tr th:only-of-type {\n",
       "        vertical-align: middle;\n",
       "    }\n",
       "\n",
       "    .dataframe tbody tr th {\n",
       "        vertical-align: top;\n",
       "    }\n",
       "\n",
       "    .dataframe thead th {\n",
       "        text-align: right;\n",
       "    }\n",
       "</style>\n",
       "<table border=\"1\" class=\"dataframe\">\n",
       "  <thead>\n",
       "    <tr style=\"text-align: right;\">\n",
       "      <th></th>\n",
       "      <th>OBJECTID</th>\n",
       "      <th>MAP_NO</th>\n",
       "      <th>REGISTRATI</th>\n",
       "      <th>IMG_NM_IND</th>\n",
       "      <th>FME_DATASE</th>\n",
       "      <th>LAYER</th>\n",
       "      <th>PATH</th>\n",
       "      <th>INDEX</th>\n",
       "      <th>geometry</th>\n",
       "    </tr>\n",
       "  </thead>\n",
       "  <tbody>\n",
       "    <tr>\n",
       "      <th>0</th>\n",
       "      <td>0</td>\n",
       "      <td>0</td>\n",
       "      <td>509</td>\n",
       "      <td>509_MOONGA NAGAR</td>\n",
       "      <td>C:\\Users\\shubh\\Desktop\\Missing pdf downloads\\1...</td>\n",
       "      <td>None</td>\n",
       "      <td>None</td>\n",
       "      <td>0</td>\n",
       "      <td>POLYGON ((721307.428 3177864.962, 721309.097 3...</td>\n",
       "    </tr>\n",
       "    <tr>\n",
       "      <th>1</th>\n",
       "      <td>0</td>\n",
       "      <td>0</td>\n",
       "      <td>1552</td>\n",
       "      <td>1552_G-2,SANGAM VIHAR GALI NO 18</td>\n",
       "      <td>C:\\Users\\shubh\\Desktop\\Missing pdf downloads\\1...</td>\n",
       "      <td>None</td>\n",
       "      <td>None</td>\n",
       "      <td>0</td>\n",
       "      <td>POLYGON ((719878.107 3154528.633, 719869.967 3...</td>\n",
       "    </tr>\n",
       "  </tbody>\n",
       "</table>\n",
       "</div>"
      ],
      "text/plain": [
       "   OBJECTID  MAP_NO REGISTRATI                        IMG_NM_IND  \\\n",
       "0         0       0        509                  509_MOONGA NAGAR   \n",
       "1         0       0       1552  1552_G-2,SANGAM VIHAR GALI NO 18   \n",
       "\n",
       "                                          FME_DATASE LAYER  PATH  INDEX  \\\n",
       "0  C:\\Users\\shubh\\Desktop\\Missing pdf downloads\\1...  None  None      0   \n",
       "1  C:\\Users\\shubh\\Desktop\\Missing pdf downloads\\1...  None  None      0   \n",
       "\n",
       "                                            geometry  \n",
       "0  POLYGON ((721307.428 3177864.962, 721309.097 3...  \n",
       "1  POLYGON ((719878.107 3154528.633, 719869.967 3...  "
      ]
     },
     "execution_count": 100,
     "metadata": {},
     "output_type": "execute_result"
    }
   ],
   "source": [
    "# See first couple of rows of uac_missing2\n",
    "uac_missing2.head(2)"
   ]
  },
  {
   "cell_type": "code",
   "execution_count": 101,
   "metadata": {},
   "outputs": [
    {
     "data": {
      "text/plain": [
       "Index(['OBJECTID', 'MAP_NO', 'REGISTRATI', 'IMG_NM_IND', 'FME_DATASE', 'LAYER',\n",
       "       'PATH', 'INDEX', 'geometry'],\n",
       "      dtype='object')"
      ]
     },
     "execution_count": 101,
     "metadata": {},
     "output_type": "execute_result"
    }
   ],
   "source": [
    "# See list of uac_missing2 columns\n",
    "uac_missing2.columns"
   ]
  },
  {
   "cell_type": "code",
   "execution_count": 102,
   "metadata": {},
   "outputs": [],
   "source": [
    "# Set common columns to use from all 3 shapefiles\n",
    "common_columns = ['MAP_NO', 'REGISTRATI', 'IMG_NM_IND', 'FME_DATASE', 'geometry']"
   ]
  },
  {
   "cell_type": "code",
   "execution_count": 103,
   "metadata": {},
   "outputs": [],
   "source": [
    "# Set each GeoDataFrame to only have common columns\n",
    "uac_deduplicated = uac_deduplicated[common_columns]\n",
    "uac_missing1 = uac_missing1[common_columns]\n",
    "uac_missing2 = uac_missing2[common_columns]"
   ]
  },
  {
   "cell_type": "code",
   "execution_count": null,
   "metadata": {},
   "outputs": [],
   "source": []
  },
  {
   "cell_type": "code",
   "execution_count": 104,
   "metadata": {},
   "outputs": [],
   "source": [
    "# Create GeoDataFrame uac_merged that concatenates all 3 shapefiles above,\n",
    "# designating CRS as EPSG 3857 and geometry field as \"geometry\" column\n",
    "uac_merged = gpd.GeoDataFrame(pd.concat([uac_deduplicated, uac_missing1, uac_missing2], ignore_index=True),\n",
    "                 crs = CRS.from_epsg(3857).to_wkt(), geometry=\"geometry\")"
   ]
  },
  {
   "cell_type": "code",
   "execution_count": 105,
   "metadata": {},
   "outputs": [
    {
     "data": {
      "text/plain": [
       "2387"
      ]
     },
     "execution_count": 105,
     "metadata": {},
     "output_type": "execute_result"
    }
   ],
   "source": [
    "# Check length of uac_merged\n",
    "len(uac_merged)"
   ]
  },
  {
   "cell_type": "code",
   "execution_count": 106,
   "metadata": {},
   "outputs": [
    {
     "data": {
      "text/html": [
       "<div>\n",
       "<style scoped>\n",
       "    .dataframe tbody tr th:only-of-type {\n",
       "        vertical-align: middle;\n",
       "    }\n",
       "\n",
       "    .dataframe tbody tr th {\n",
       "        vertical-align: top;\n",
       "    }\n",
       "\n",
       "    .dataframe thead th {\n",
       "        text-align: right;\n",
       "    }\n",
       "</style>\n",
       "<table border=\"1\" class=\"dataframe\">\n",
       "  <thead>\n",
       "    <tr style=\"text-align: right;\">\n",
       "      <th></th>\n",
       "      <th>MAP_NO</th>\n",
       "      <th>REGISTRATI</th>\n",
       "      <th>IMG_NM_IND</th>\n",
       "      <th>FME_DATASE</th>\n",
       "      <th>geometry</th>\n",
       "    </tr>\n",
       "  </thead>\n",
       "  <tbody>\n",
       "    <tr>\n",
       "      <th>2367</th>\n",
       "      <td>920</td>\n",
       "      <td>879</td>\n",
       "      <td>None</td>\n",
       "      <td>D:\\UC Downloads\\a-Missing Files\\920_879.pdf</td>\n",
       "      <td>POLYGON ((701524.344 3171064.228, 701593.686 3...</td>\n",
       "    </tr>\n",
       "    <tr>\n",
       "      <th>2368</th>\n",
       "      <td>920</td>\n",
       "      <td>879</td>\n",
       "      <td>None</td>\n",
       "      <td>D:\\UC Downloads\\a-Missing Files\\920_879.pdf</td>\n",
       "      <td>POLYGON ((701877.381 3170651.421, 701878.136 3...</td>\n",
       "    </tr>\n",
       "    <tr>\n",
       "      <th>2369</th>\n",
       "      <td>1433</td>\n",
       "      <td>201</td>\n",
       "      <td>None</td>\n",
       "      <td>D:\\UC Downloads\\a-Missing Files\\1433_201.pdf</td>\n",
       "      <td>POLYGON ((698948.151 3174291.857, 698990.757 3...</td>\n",
       "    </tr>\n",
       "    <tr>\n",
       "      <th>2370</th>\n",
       "      <td>1294</td>\n",
       "      <td>133</td>\n",
       "      <td>692_GOURI SHANKAR ENCLAVE</td>\n",
       "      <td>D:\\UC Downloads\\a-Missing Files\\1294_133.pdf</td>\n",
       "      <td>POLYGON ((699307.403 3175151.958, 699399.435 3...</td>\n",
       "    </tr>\n",
       "    <tr>\n",
       "      <th>2371</th>\n",
       "      <td>1435</td>\n",
       "      <td>861</td>\n",
       "      <td>None</td>\n",
       "      <td>D:\\UC Downloads\\a-Missing Files\\1435_861.pdf</td>\n",
       "      <td>POLYGON ((699986.214 3174984.629, 700026.937 3...</td>\n",
       "    </tr>\n",
       "    <tr>\n",
       "      <th>2372</th>\n",
       "      <td>1438</td>\n",
       "      <td>4</td>\n",
       "      <td>None</td>\n",
       "      <td>D:\\UC Downloads\\a-Missing Files\\1438_4.pdf</td>\n",
       "      <td>POLYGON ((697900.763 3170042.314, 697899.032 3...</td>\n",
       "    </tr>\n",
       "    <tr>\n",
       "      <th>2373</th>\n",
       "      <td>1431</td>\n",
       "      <td>178</td>\n",
       "      <td>None</td>\n",
       "      <td>D:\\UC Downloads\\a-Missing Files\\1431_178.pdf</td>\n",
       "      <td>POLYGON ((697948.940 3174955.044, 697936.435 3...</td>\n",
       "    </tr>\n",
       "    <tr>\n",
       "      <th>2374</th>\n",
       "      <td>1436</td>\n",
       "      <td>67</td>\n",
       "      <td>None</td>\n",
       "      <td>D:\\UC Downloads\\a-Missing Files\\1436_67.pdf</td>\n",
       "      <td>POLYGON ((699233.905 3175343.388, 699234.275 3...</td>\n",
       "    </tr>\n",
       "    <tr>\n",
       "      <th>2375</th>\n",
       "      <td>1441</td>\n",
       "      <td>762</td>\n",
       "      <td>None</td>\n",
       "      <td>D:\\UC Downloads\\a-Missing Files\\1441_762.pdf</td>\n",
       "      <td>POLYGON ((701177.850 3173600.023, 701159.748 3...</td>\n",
       "    </tr>\n",
       "    <tr>\n",
       "      <th>2376</th>\n",
       "      <td>1439</td>\n",
       "      <td>1531</td>\n",
       "      <td>None</td>\n",
       "      <td>D:\\UC Downloads\\a-Missing Files\\1439_1531.pdf</td>\n",
       "      <td>POLYGON ((699223.833 3171271.948, 699223.244 3...</td>\n",
       "    </tr>\n",
       "    <tr>\n",
       "      <th>2377</th>\n",
       "      <td>1440</td>\n",
       "      <td>1059</td>\n",
       "      <td>None</td>\n",
       "      <td>D:\\UC Downloads\\a-Missing Files\\1440_1059.pdf</td>\n",
       "      <td>POLYGON ((698659.685 3170999.733, 698659.346 3...</td>\n",
       "    </tr>\n",
       "    <tr>\n",
       "      <th>2378</th>\n",
       "      <td>1294</td>\n",
       "      <td>133</td>\n",
       "      <td>202_HINDVIHAR</td>\n",
       "      <td>D:\\UC Downloads\\a-Missing Files\\1294_133.pdf</td>\n",
       "      <td>POLYGON ((699443.378 3175141.063, 699444.413 3...</td>\n",
       "    </tr>\n",
       "    <tr>\n",
       "      <th>2379</th>\n",
       "      <td>1436</td>\n",
       "      <td>67</td>\n",
       "      <td>None</td>\n",
       "      <td>D:\\UC Downloads\\a-Missing Files\\1436_67.pdf</td>\n",
       "      <td>POLYGON ((699443.034 3175140.574, 699444.119 3...</td>\n",
       "    </tr>\n",
       "    <tr>\n",
       "      <th>2380</th>\n",
       "      <td>0</td>\n",
       "      <td>509</td>\n",
       "      <td>509_MOONGA NAGAR</td>\n",
       "      <td>C:\\Users\\shubh\\Desktop\\Missing pdf downloads\\1...</td>\n",
       "      <td>POLYGON ((721307.428 3177864.962, 721309.097 3...</td>\n",
       "    </tr>\n",
       "    <tr>\n",
       "      <th>2381</th>\n",
       "      <td>0</td>\n",
       "      <td>1552</td>\n",
       "      <td>1552_G-2,SANGAM VIHAR GALI NO 18</td>\n",
       "      <td>C:\\Users\\shubh\\Desktop\\Missing pdf downloads\\1...</td>\n",
       "      <td>POLYGON ((719878.107 3154528.633, 719869.967 3...</td>\n",
       "    </tr>\n",
       "    <tr>\n",
       "      <th>2382</th>\n",
       "      <td>0</td>\n",
       "      <td>1460</td>\n",
       "      <td>1460_NEW T BLOCK, UTTAM NAGAR NEW DELHI-59</td>\n",
       "      <td>C:\\Users\\shubh\\Desktop\\Missing pdf downloads\\1...</td>\n",
       "      <td>POLYGON ((700488.839 3166838.612, 700491.088 3...</td>\n",
       "    </tr>\n",
       "    <tr>\n",
       "      <th>2383</th>\n",
       "      <td>0</td>\n",
       "      <td>16</td>\n",
       "      <td>16_SHASHTRI PARK EXT</td>\n",
       "      <td>C:\\Users\\shubh\\Desktop\\Missing pdf downloads\\1...</td>\n",
       "      <td>POLYGON ((720406.762 3173763.997, 720407.012 3...</td>\n",
       "    </tr>\n",
       "    <tr>\n",
       "      <th>2384</th>\n",
       "      <td>0</td>\n",
       "      <td>1108</td>\n",
       "      <td>1108_ADAESH NAGAR JEEVAN PARK</td>\n",
       "      <td>C:\\Users\\shubh\\Desktop\\Missing pdf downloads\\1...</td>\n",
       "      <td>POLYGON ((702471.983 3166965.449, 702470.551 3...</td>\n",
       "    </tr>\n",
       "    <tr>\n",
       "      <th>2385</th>\n",
       "      <td>0</td>\n",
       "      <td>1022</td>\n",
       "      <td>None</td>\n",
       "      <td>C:\\Users\\shubh\\Desktop\\Missing pdf downloads\\4...</td>\n",
       "      <td>POLYGON ((714477.145 3153632.769, 714468.179 3...</td>\n",
       "    </tr>\n",
       "    <tr>\n",
       "      <th>2386</th>\n",
       "      <td>0</td>\n",
       "      <td>127</td>\n",
       "      <td>692_GOURI SHANKAR ENCLAVE</td>\n",
       "      <td>C:\\Users\\shubh\\Desktop\\Missing pdf downloads\\1...</td>\n",
       "      <td>POLYGON ((699307.403 3175151.958, 699399.435 3...</td>\n",
       "    </tr>\n",
       "  </tbody>\n",
       "</table>\n",
       "</div>"
      ],
      "text/plain": [
       "      MAP_NO REGISTRATI                                  IMG_NM_IND  \\\n",
       "2367     920        879                                        None   \n",
       "2368     920        879                                        None   \n",
       "2369    1433        201                                        None   \n",
       "2370    1294        133                   692_GOURI SHANKAR ENCLAVE   \n",
       "2371    1435        861                                        None   \n",
       "2372    1438          4                                        None   \n",
       "2373    1431        178                                        None   \n",
       "2374    1436         67                                        None   \n",
       "2375    1441        762                                        None   \n",
       "2376    1439       1531                                        None   \n",
       "2377    1440       1059                                        None   \n",
       "2378    1294        133                               202_HINDVIHAR   \n",
       "2379    1436         67                                        None   \n",
       "2380       0        509                            509_MOONGA NAGAR   \n",
       "2381       0       1552            1552_G-2,SANGAM VIHAR GALI NO 18   \n",
       "2382       0       1460  1460_NEW T BLOCK, UTTAM NAGAR NEW DELHI-59   \n",
       "2383       0         16                        16_SHASHTRI PARK EXT   \n",
       "2384       0       1108               1108_ADAESH NAGAR JEEVAN PARK   \n",
       "2385       0       1022                                        None   \n",
       "2386       0        127                   692_GOURI SHANKAR ENCLAVE   \n",
       "\n",
       "                                             FME_DATASE  \\\n",
       "2367        D:\\UC Downloads\\a-Missing Files\\920_879.pdf   \n",
       "2368        D:\\UC Downloads\\a-Missing Files\\920_879.pdf   \n",
       "2369       D:\\UC Downloads\\a-Missing Files\\1433_201.pdf   \n",
       "2370       D:\\UC Downloads\\a-Missing Files\\1294_133.pdf   \n",
       "2371       D:\\UC Downloads\\a-Missing Files\\1435_861.pdf   \n",
       "2372         D:\\UC Downloads\\a-Missing Files\\1438_4.pdf   \n",
       "2373       D:\\UC Downloads\\a-Missing Files\\1431_178.pdf   \n",
       "2374        D:\\UC Downloads\\a-Missing Files\\1436_67.pdf   \n",
       "2375       D:\\UC Downloads\\a-Missing Files\\1441_762.pdf   \n",
       "2376      D:\\UC Downloads\\a-Missing Files\\1439_1531.pdf   \n",
       "2377      D:\\UC Downloads\\a-Missing Files\\1440_1059.pdf   \n",
       "2378       D:\\UC Downloads\\a-Missing Files\\1294_133.pdf   \n",
       "2379        D:\\UC Downloads\\a-Missing Files\\1436_67.pdf   \n",
       "2380  C:\\Users\\shubh\\Desktop\\Missing pdf downloads\\1...   \n",
       "2381  C:\\Users\\shubh\\Desktop\\Missing pdf downloads\\1...   \n",
       "2382  C:\\Users\\shubh\\Desktop\\Missing pdf downloads\\1...   \n",
       "2383  C:\\Users\\shubh\\Desktop\\Missing pdf downloads\\1...   \n",
       "2384  C:\\Users\\shubh\\Desktop\\Missing pdf downloads\\1...   \n",
       "2385  C:\\Users\\shubh\\Desktop\\Missing pdf downloads\\4...   \n",
       "2386  C:\\Users\\shubh\\Desktop\\Missing pdf downloads\\1...   \n",
       "\n",
       "                                               geometry  \n",
       "2367  POLYGON ((701524.344 3171064.228, 701593.686 3...  \n",
       "2368  POLYGON ((701877.381 3170651.421, 701878.136 3...  \n",
       "2369  POLYGON ((698948.151 3174291.857, 698990.757 3...  \n",
       "2370  POLYGON ((699307.403 3175151.958, 699399.435 3...  \n",
       "2371  POLYGON ((699986.214 3174984.629, 700026.937 3...  \n",
       "2372  POLYGON ((697900.763 3170042.314, 697899.032 3...  \n",
       "2373  POLYGON ((697948.940 3174955.044, 697936.435 3...  \n",
       "2374  POLYGON ((699233.905 3175343.388, 699234.275 3...  \n",
       "2375  POLYGON ((701177.850 3173600.023, 701159.748 3...  \n",
       "2376  POLYGON ((699223.833 3171271.948, 699223.244 3...  \n",
       "2377  POLYGON ((698659.685 3170999.733, 698659.346 3...  \n",
       "2378  POLYGON ((699443.378 3175141.063, 699444.413 3...  \n",
       "2379  POLYGON ((699443.034 3175140.574, 699444.119 3...  \n",
       "2380  POLYGON ((721307.428 3177864.962, 721309.097 3...  \n",
       "2381  POLYGON ((719878.107 3154528.633, 719869.967 3...  \n",
       "2382  POLYGON ((700488.839 3166838.612, 700491.088 3...  \n",
       "2383  POLYGON ((720406.762 3173763.997, 720407.012 3...  \n",
       "2384  POLYGON ((702471.983 3166965.449, 702470.551 3...  \n",
       "2385  POLYGON ((714477.145 3153632.769, 714468.179 3...  \n",
       "2386  POLYGON ((699307.403 3175151.958, 699399.435 3...  "
      ]
     },
     "execution_count": 106,
     "metadata": {},
     "output_type": "execute_result"
    }
   ],
   "source": [
    "uac_merged.tail(20)"
   ]
  },
  {
   "cell_type": "code",
   "execution_count": 107,
   "metadata": {},
   "outputs": [
    {
     "data": {
      "text/plain": [
       "<Projected CRS: EPSG:3857>\n",
       "Name: WGS 84 / Pseudo-Mercator\n",
       "Axis Info [cartesian]:\n",
       "- E[east]: Easting (metre)\n",
       "- N[north]: Northing (metre)\n",
       "Area of Use:\n",
       "- name: World - 85°S to 85°N\n",
       "- bounds: (-180.0, -85.06, 180.0, 85.06)\n",
       "Coordinate Operation:\n",
       "- name: unnamed\n",
       "- method: Popular Visualisation Pseudo Mercator\n",
       "Datum: World Geodetic System 1984\n",
       "- Ellipsoid: WGS 84\n",
       "- Prime Meridian: Greenwich"
      ]
     },
     "execution_count": 107,
     "metadata": {},
     "output_type": "execute_result"
    }
   ],
   "source": [
    "uac_merged.crs"
   ]
  },
  {
   "cell_type": "markdown",
   "metadata": {},
   "source": [
    "## Check that there are no duplicate rows"
   ]
  },
  {
   "cell_type": "code",
   "execution_count": 108,
   "metadata": {},
   "outputs": [
    {
     "data": {
      "text/plain": [
       "True"
      ]
     },
     "execution_count": 108,
     "metadata": {},
     "output_type": "execute_result"
    }
   ],
   "source": [
    "# Check for duplicate rows\n",
    "uac_utils.gdf_has_duplicate_rows(uac_merged)"
   ]
  },
  {
   "cell_type": "code",
   "execution_count": 109,
   "metadata": {},
   "outputs": [],
   "source": [
    "# Remove all duplicate rows\n",
    "uac_merged = uac_merged.drop_duplicates()"
   ]
  },
  {
   "cell_type": "code",
   "execution_count": 110,
   "metadata": {},
   "outputs": [
    {
     "data": {
      "text/plain": [
       "1754"
      ]
     },
     "execution_count": 110,
     "metadata": {},
     "output_type": "execute_result"
    }
   ],
   "source": [
    "len(uac_merged)"
   ]
  },
  {
   "cell_type": "code",
   "execution_count": 111,
   "metadata": {},
   "outputs": [
    {
     "data": {
      "text/plain": [
       "False"
      ]
     },
     "execution_count": 111,
     "metadata": {},
     "output_type": "execute_result"
    }
   ],
   "source": [
    "# Check for duplicate rows\n",
    "uac_utils.gdf_has_duplicate_rows(uac_merged)"
   ]
  },
  {
   "cell_type": "markdown",
   "metadata": {},
   "source": [
    "## Set Index as a Column"
   ]
  },
  {
   "cell_type": "code",
   "execution_count": 112,
   "metadata": {},
   "outputs": [],
   "source": [
    "uac_merged = uac_utils.create_index_column(uac_merged)"
   ]
  },
  {
   "cell_type": "code",
   "execution_count": 113,
   "metadata": {},
   "outputs": [
    {
     "data": {
      "text/html": [
       "<div>\n",
       "<style scoped>\n",
       "    .dataframe tbody tr th:only-of-type {\n",
       "        vertical-align: middle;\n",
       "    }\n",
       "\n",
       "    .dataframe tbody tr th {\n",
       "        vertical-align: top;\n",
       "    }\n",
       "\n",
       "    .dataframe thead th {\n",
       "        text-align: right;\n",
       "    }\n",
       "</style>\n",
       "<table border=\"1\" class=\"dataframe\">\n",
       "  <thead>\n",
       "    <tr style=\"text-align: right;\">\n",
       "      <th></th>\n",
       "      <th>MAP_NO</th>\n",
       "      <th>REGISTRATI</th>\n",
       "      <th>IMG_NM_IND</th>\n",
       "      <th>FME_DATASE</th>\n",
       "      <th>geometry</th>\n",
       "      <th>index</th>\n",
       "    </tr>\n",
       "  </thead>\n",
       "  <tbody>\n",
       "    <tr>\n",
       "      <th>0</th>\n",
       "      <td>520</td>\n",
       "      <td>570</td>\n",
       "      <td>SHIV COLNY KATEWADA</td>\n",
       "      <td>D:\\UC Downloads\\UC_501-600-Done\\520_570.pdf</td>\n",
       "      <td>POLYGON ((8568698.722 3350778.289, 8568688.910...</td>\n",
       "      <td>0</td>\n",
       "    </tr>\n",
       "    <tr>\n",
       "      <th>1</th>\n",
       "      <td>509</td>\n",
       "      <td>888</td>\n",
       "      <td>KRISHNA COLONY</td>\n",
       "      <td>D:\\UC Downloads\\UC_501-600-Done\\509_888.pdf</td>\n",
       "      <td>POLYGON ((8580894.912 3343225.741, 8580905.114...</td>\n",
       "      <td>1</td>\n",
       "    </tr>\n",
       "  </tbody>\n",
       "</table>\n",
       "</div>"
      ],
      "text/plain": [
       "   MAP_NO REGISTRATI           IMG_NM_IND  \\\n",
       "0     520        570  SHIV COLNY KATEWADA   \n",
       "1     509        888       KRISHNA COLONY   \n",
       "\n",
       "                                    FME_DATASE  \\\n",
       "0  D:\\UC Downloads\\UC_501-600-Done\\520_570.pdf   \n",
       "1  D:\\UC Downloads\\UC_501-600-Done\\509_888.pdf   \n",
       "\n",
       "                                            geometry  index  \n",
       "0  POLYGON ((8568698.722 3350778.289, 8568688.910...      0  \n",
       "1  POLYGON ((8580894.912 3343225.741, 8580905.114...      1  "
      ]
     },
     "execution_count": 113,
     "metadata": {},
     "output_type": "execute_result"
    }
   ],
   "source": [
    "uac_merged.head(2)"
   ]
  },
  {
   "cell_type": "markdown",
   "metadata": {},
   "source": [
    "## Confirm all Geometries are (Multi)Polygons"
   ]
  },
  {
   "cell_type": "code",
   "execution_count": 114,
   "metadata": {},
   "outputs": [
    {
     "ename": "TypeError",
     "evalue": "argument of type 'NoneType' is not iterable",
     "output_type": "error",
     "traceback": [
      "\u001b[1;31m---------------------------------------------------------------------------\u001b[0m",
      "\u001b[1;31mTypeError\u001b[0m                                 Traceback (most recent call last)",
      "\u001b[1;32m<ipython-input-114-7b7d0e7e8953>\u001b[0m in \u001b[0;36m<module>\u001b[1;34m\u001b[0m\n\u001b[1;32m----> 1\u001b[1;33m \u001b[0muac_utils\u001b[0m\u001b[1;33m.\u001b[0m\u001b[0mall_polygon_geometries\u001b[0m\u001b[1;33m(\u001b[0m\u001b[0muac_merged\u001b[0m\u001b[1;33m)\u001b[0m\u001b[1;33m\u001b[0m\u001b[1;33m\u001b[0m\u001b[0m\n\u001b[0m",
      "\u001b[1;32m~\\Google Drive\\slum_project\\UAC's Data Deduplication\\uac_utils.py\u001b[0m in \u001b[0;36mall_polygon_geometries\u001b[1;34m(gdf)\u001b[0m\n\u001b[0;32m     65\u001b[0m \u001b[1;33m\u001b[0m\u001b[0m\n\u001b[0;32m     66\u001b[0m     \u001b[1;31m# Check if each type is a Polygon feature\u001b[0m\u001b[1;33m\u001b[0m\u001b[1;33m\u001b[0m\u001b[1;33m\u001b[0m\u001b[0m\n\u001b[1;32m---> 67\u001b[1;33m     \u001b[0mgeom_is_poly\u001b[0m \u001b[1;33m=\u001b[0m \u001b[1;33m[\u001b[0m\u001b[1;34m\"Polygon\"\u001b[0m \u001b[1;32min\u001b[0m \u001b[0mgeom\u001b[0m \u001b[1;32mfor\u001b[0m \u001b[0mgeom\u001b[0m \u001b[1;32min\u001b[0m \u001b[0mgeom_type_list\u001b[0m\u001b[1;33m]\u001b[0m\u001b[1;33m\u001b[0m\u001b[1;33m\u001b[0m\u001b[0m\n\u001b[0m\u001b[0;32m     68\u001b[0m \u001b[1;33m\u001b[0m\u001b[0m\n\u001b[0;32m     69\u001b[0m     \u001b[1;31m# If at least one geometry is non-Polygon, return False\u001b[0m\u001b[1;33m\u001b[0m\u001b[1;33m\u001b[0m\u001b[1;33m\u001b[0m\u001b[0m\n",
      "\u001b[1;32m~\\Google Drive\\slum_project\\UAC's Data Deduplication\\uac_utils.py\u001b[0m in \u001b[0;36m<listcomp>\u001b[1;34m(.0)\u001b[0m\n\u001b[0;32m     65\u001b[0m \u001b[1;33m\u001b[0m\u001b[0m\n\u001b[0;32m     66\u001b[0m     \u001b[1;31m# Check if each type is a Polygon feature\u001b[0m\u001b[1;33m\u001b[0m\u001b[1;33m\u001b[0m\u001b[1;33m\u001b[0m\u001b[0m\n\u001b[1;32m---> 67\u001b[1;33m     \u001b[0mgeom_is_poly\u001b[0m \u001b[1;33m=\u001b[0m \u001b[1;33m[\u001b[0m\u001b[1;34m\"Polygon\"\u001b[0m \u001b[1;32min\u001b[0m \u001b[0mgeom\u001b[0m \u001b[1;32mfor\u001b[0m \u001b[0mgeom\u001b[0m \u001b[1;32min\u001b[0m \u001b[0mgeom_type_list\u001b[0m\u001b[1;33m]\u001b[0m\u001b[1;33m\u001b[0m\u001b[1;33m\u001b[0m\u001b[0m\n\u001b[0m\u001b[0;32m     68\u001b[0m \u001b[1;33m\u001b[0m\u001b[0m\n\u001b[0;32m     69\u001b[0m     \u001b[1;31m# If at least one geometry is non-Polygon, return False\u001b[0m\u001b[1;33m\u001b[0m\u001b[1;33m\u001b[0m\u001b[1;33m\u001b[0m\u001b[0m\n",
      "\u001b[1;31mTypeError\u001b[0m: argument of type 'NoneType' is not iterable"
     ]
    }
   ],
   "source": [
    "# Note, there is a row where geometry=None\n",
    "uac_utils.all_polygon_geometries(uac_merged)"
   ]
  },
  {
   "cell_type": "code",
   "execution_count": 115,
   "metadata": {},
   "outputs": [
    {
     "data": {
      "text/html": [
       "<div>\n",
       "<style scoped>\n",
       "    .dataframe tbody tr th:only-of-type {\n",
       "        vertical-align: middle;\n",
       "    }\n",
       "\n",
       "    .dataframe tbody tr th {\n",
       "        vertical-align: top;\n",
       "    }\n",
       "\n",
       "    .dataframe thead th {\n",
       "        text-align: right;\n",
       "    }\n",
       "</style>\n",
       "<table border=\"1\" class=\"dataframe\">\n",
       "  <thead>\n",
       "    <tr style=\"text-align: right;\">\n",
       "      <th></th>\n",
       "      <th>MAP_NO</th>\n",
       "      <th>REGISTRATI</th>\n",
       "      <th>IMG_NM_IND</th>\n",
       "      <th>FME_DATASE</th>\n",
       "      <th>geometry</th>\n",
       "      <th>index</th>\n",
       "    </tr>\n",
       "  </thead>\n",
       "  <tbody>\n",
       "    <tr>\n",
       "      <th>0</th>\n",
       "      <td>520</td>\n",
       "      <td>570</td>\n",
       "      <td>SHIV COLNY KATEWADA</td>\n",
       "      <td>D:\\UC Downloads\\UC_501-600-Done\\520_570.pdf</td>\n",
       "      <td>POLYGON ((8568698.722 3350778.289, 8568688.910...</td>\n",
       "      <td>0</td>\n",
       "    </tr>\n",
       "    <tr>\n",
       "      <th>1</th>\n",
       "      <td>509</td>\n",
       "      <td>888</td>\n",
       "      <td>KRISHNA COLONY</td>\n",
       "      <td>D:\\UC Downloads\\UC_501-600-Done\\509_888.pdf</td>\n",
       "      <td>POLYGON ((8580894.912 3343225.741, 8580905.114...</td>\n",
       "      <td>1</td>\n",
       "    </tr>\n",
       "  </tbody>\n",
       "</table>\n",
       "</div>"
      ],
      "text/plain": [
       "   MAP_NO REGISTRATI           IMG_NM_IND  \\\n",
       "0     520        570  SHIV COLNY KATEWADA   \n",
       "1     509        888       KRISHNA COLONY   \n",
       "\n",
       "                                    FME_DATASE  \\\n",
       "0  D:\\UC Downloads\\UC_501-600-Done\\520_570.pdf   \n",
       "1  D:\\UC Downloads\\UC_501-600-Done\\509_888.pdf   \n",
       "\n",
       "                                            geometry  index  \n",
       "0  POLYGON ((8568698.722 3350778.289, 8568688.910...      0  \n",
       "1  POLYGON ((8580894.912 3343225.741, 8580905.114...      1  "
      ]
     },
     "execution_count": 115,
     "metadata": {},
     "output_type": "execute_result"
    }
   ],
   "source": [
    "# Create copy of uac_merged\n",
    "uac_merged_copy = uac_merged.copy()\n",
    "uac_merged_copy.head(2)"
   ]
  },
  {
   "cell_type": "code",
   "execution_count": 120,
   "metadata": {},
   "outputs": [
    {
     "name": "stdout",
     "output_type": "stream",
     "text": [
      "Index 1869 is not a Polygon\n",
      "Its geometry is <class 'NoneType'>\n"
     ]
    }
   ],
   "source": [
    "# Find index of row where geometry is not a Polygon\n",
    "for idx, row in uac_merged_copy.iterrows():\n",
    "    if \"Polygon\" not in str(type(row['geometry'])):\n",
    "        print('Index', row['index'], 'is not a Polygon')\n",
    "        print('Its geometry is', type(row['geometry']))"
   ]
  },
  {
   "cell_type": "code",
   "execution_count": 121,
   "metadata": {},
   "outputs": [
    {
     "data": {
      "text/html": [
       "<div>\n",
       "<style scoped>\n",
       "    .dataframe tbody tr th:only-of-type {\n",
       "        vertical-align: middle;\n",
       "    }\n",
       "\n",
       "    .dataframe tbody tr th {\n",
       "        vertical-align: top;\n",
       "    }\n",
       "\n",
       "    .dataframe thead th {\n",
       "        text-align: right;\n",
       "    }\n",
       "</style>\n",
       "<table border=\"1\" class=\"dataframe\">\n",
       "  <thead>\n",
       "    <tr style=\"text-align: right;\">\n",
       "      <th></th>\n",
       "      <th>MAP_NO</th>\n",
       "      <th>REGISTRATI</th>\n",
       "      <th>IMG_NM_IND</th>\n",
       "      <th>FME_DATASE</th>\n",
       "      <th>geometry</th>\n",
       "      <th>index</th>\n",
       "    </tr>\n",
       "  </thead>\n",
       "  <tbody>\n",
       "    <tr>\n",
       "      <th>1869</th>\n",
       "      <td>1331</td>\n",
       "      <td>113-B</td>\n",
       "      <td>None</td>\n",
       "      <td>D:\\UC Downloads\\a-Missing Files\\1331_113-B.pdf</td>\n",
       "      <td>None</td>\n",
       "      <td>1869</td>\n",
       "    </tr>\n",
       "  </tbody>\n",
       "</table>\n",
       "</div>"
      ],
      "text/plain": [
       "      MAP_NO REGISTRATI IMG_NM_IND  \\\n",
       "1869    1331      113-B       None   \n",
       "\n",
       "                                          FME_DATASE geometry  index  \n",
       "1869  D:\\UC Downloads\\a-Missing Files\\1331_113-B.pdf     None   1869  "
      ]
     },
     "execution_count": 121,
     "metadata": {},
     "output_type": "execute_result"
    }
   ],
   "source": [
    "# Index 1869 has no geometry\n",
    "uac_merged[uac_merged['index'] == 1869]"
   ]
  },
  {
   "cell_type": "code",
   "execution_count": 123,
   "metadata": {},
   "outputs": [],
   "source": [
    "# Remove row 1869\n",
    "uac_merged = uac_merged.drop(index=1869)"
   ]
  },
  {
   "cell_type": "code",
   "execution_count": 126,
   "metadata": {},
   "outputs": [
    {
     "data": {
      "text/html": [
       "<div>\n",
       "<style scoped>\n",
       "    .dataframe tbody tr th:only-of-type {\n",
       "        vertical-align: middle;\n",
       "    }\n",
       "\n",
       "    .dataframe tbody tr th {\n",
       "        vertical-align: top;\n",
       "    }\n",
       "\n",
       "    .dataframe thead th {\n",
       "        text-align: right;\n",
       "    }\n",
       "</style>\n",
       "<table border=\"1\" class=\"dataframe\">\n",
       "  <thead>\n",
       "    <tr style=\"text-align: right;\">\n",
       "      <th></th>\n",
       "      <th>MAP_NO</th>\n",
       "      <th>REGISTRATI</th>\n",
       "      <th>IMG_NM_IND</th>\n",
       "      <th>FME_DATASE</th>\n",
       "      <th>geometry</th>\n",
       "      <th>index</th>\n",
       "    </tr>\n",
       "  </thead>\n",
       "  <tbody>\n",
       "  </tbody>\n",
       "</table>\n",
       "</div>"
      ],
      "text/plain": [
       "Empty GeoDataFrame\n",
       "Columns: [MAP_NO, REGISTRATI, IMG_NM_IND, FME_DATASE, geometry, index]\n",
       "Index: []"
      ]
     },
     "execution_count": 126,
     "metadata": {},
     "output_type": "execute_result"
    }
   ],
   "source": [
    "# We can see that row 1869 is now removed\n",
    "uac_merged[uac_merged['index']==1869]"
   ]
  },
  {
   "cell_type": "code",
   "execution_count": 127,
   "metadata": {},
   "outputs": [
    {
     "data": {
      "text/plain": [
       "True"
      ]
     },
     "execution_count": 127,
     "metadata": {},
     "output_type": "execute_result"
    }
   ],
   "source": [
    "# All Polygon Geometries are there!\n",
    "uac_utils.all_polygon_geometries(uac_merged)"
   ]
  },
  {
   "cell_type": "markdown",
   "metadata": {},
   "source": [
    "## Identify which attribute(s) has/have multiple labels"
   ]
  },
  {
   "cell_type": "code",
   "execution_count": 128,
   "metadata": {},
   "outputs": [],
   "source": [
    "map_registration_dict = uac_utils.create_map_registration_dict(uac_merged)"
   ]
  },
  {
   "cell_type": "code",
   "execution_count": 129,
   "metadata": {},
   "outputs": [
    {
     "data": {
      "text/plain": [
       "[(520, {'570'}),\n",
       " (509, {'888'}),\n",
       " (516, {'658'}),\n",
       " (503, {'200'}),\n",
       " (504, {'1194'})]"
      ]
     },
     "execution_count": 129,
     "metadata": {},
     "output_type": "execute_result"
    }
   ],
   "source": [
    "# Show first 5\n",
    "list(map_registration_dict.items())[:5]"
   ]
  },
  {
   "cell_type": "markdown",
   "metadata": {},
   "source": [
    "Let's write some code to see if each map number has one and only one registration number"
   ]
  },
  {
   "cell_type": "code",
   "execution_count": 130,
   "metadata": {},
   "outputs": [
    {
     "name": "stdout",
     "output_type": "stream",
     "text": [
      "1482 {'123', '123ELD'}\n",
      "1500 {'969', '969A'}\n",
      "1484 {'531', '531B'}\n",
      "1481 {'4ELD', '4'}\n",
      "1480 {'95ELD', '95'}\n",
      "1457 {'945', '945B'}\n",
      "682 {'660-B', '660B'}\n",
      "1533 {'491A', '491'}\n",
      "1507 {'1072a', '1072A'}\n",
      "0 {'1460', '1552', '1108', '1022', '509', '127', '16'}\n"
     ]
    }
   ],
   "source": [
    "# Check if number of registration numbers for each Map No is always 1\n",
    "for key, val in map_registration_dict.items():\n",
    "    if len(val) != 1:\n",
    "        print(key, val)"
   ]
  },
  {
   "cell_type": "code",
   "execution_count": 169,
   "metadata": {},
   "outputs": [
    {
     "data": {
      "text/html": [
       "<div>\n",
       "<style scoped>\n",
       "    .dataframe tbody tr th:only-of-type {\n",
       "        vertical-align: middle;\n",
       "    }\n",
       "\n",
       "    .dataframe tbody tr th {\n",
       "        vertical-align: top;\n",
       "    }\n",
       "\n",
       "    .dataframe thead th {\n",
       "        text-align: right;\n",
       "    }\n",
       "</style>\n",
       "<table border=\"1\" class=\"dataframe\">\n",
       "  <thead>\n",
       "    <tr style=\"text-align: right;\">\n",
       "      <th></th>\n",
       "      <th>MAP_NO</th>\n",
       "      <th>REGISTRATI</th>\n",
       "      <th>IMG_NM_IND</th>\n",
       "      <th>FME_DATASE</th>\n",
       "      <th>geometry</th>\n",
       "      <th>index</th>\n",
       "    </tr>\n",
       "  </thead>\n",
       "  <tbody>\n",
       "    <tr>\n",
       "      <th>2380</th>\n",
       "      <td>0</td>\n",
       "      <td>509</td>\n",
       "      <td>509_MOONGA NAGAR</td>\n",
       "      <td>C:\\Users\\shubh\\Desktop\\Missing pdf downloads\\1...</td>\n",
       "      <td>POLYGON ((721307.428 3177864.962, 721309.097 3...</td>\n",
       "      <td>2380</td>\n",
       "    </tr>\n",
       "    <tr>\n",
       "      <th>2381</th>\n",
       "      <td>0</td>\n",
       "      <td>1552</td>\n",
       "      <td>1552_G-2,SANGAM VIHAR GALI NO 18</td>\n",
       "      <td>C:\\Users\\shubh\\Desktop\\Missing pdf downloads\\1...</td>\n",
       "      <td>POLYGON ((719878.107 3154528.633, 719869.967 3...</td>\n",
       "      <td>2381</td>\n",
       "    </tr>\n",
       "    <tr>\n",
       "      <th>2382</th>\n",
       "      <td>0</td>\n",
       "      <td>1460</td>\n",
       "      <td>1460_NEW T BLOCK, UTTAM NAGAR NEW DELHI-59</td>\n",
       "      <td>C:\\Users\\shubh\\Desktop\\Missing pdf downloads\\1...</td>\n",
       "      <td>POLYGON ((700488.839 3166838.612, 700491.088 3...</td>\n",
       "      <td>2382</td>\n",
       "    </tr>\n",
       "    <tr>\n",
       "      <th>2383</th>\n",
       "      <td>0</td>\n",
       "      <td>16</td>\n",
       "      <td>16_SHASHTRI PARK EXT</td>\n",
       "      <td>C:\\Users\\shubh\\Desktop\\Missing pdf downloads\\1...</td>\n",
       "      <td>POLYGON ((720406.762 3173763.997, 720407.012 3...</td>\n",
       "      <td>2383</td>\n",
       "    </tr>\n",
       "    <tr>\n",
       "      <th>2384</th>\n",
       "      <td>0</td>\n",
       "      <td>1108</td>\n",
       "      <td>1108_ADAESH NAGAR JEEVAN PARK</td>\n",
       "      <td>C:\\Users\\shubh\\Desktop\\Missing pdf downloads\\1...</td>\n",
       "      <td>POLYGON ((702471.983 3166965.449, 702470.551 3...</td>\n",
       "      <td>2384</td>\n",
       "    </tr>\n",
       "    <tr>\n",
       "      <th>2385</th>\n",
       "      <td>0</td>\n",
       "      <td>1022</td>\n",
       "      <td>None</td>\n",
       "      <td>C:\\Users\\shubh\\Desktop\\Missing pdf downloads\\4...</td>\n",
       "      <td>POLYGON ((714477.145 3153632.769, 714468.179 3...</td>\n",
       "      <td>2385</td>\n",
       "    </tr>\n",
       "    <tr>\n",
       "      <th>2386</th>\n",
       "      <td>0</td>\n",
       "      <td>127</td>\n",
       "      <td>692_GOURI SHANKAR ENCLAVE</td>\n",
       "      <td>C:\\Users\\shubh\\Desktop\\Missing pdf downloads\\1...</td>\n",
       "      <td>POLYGON ((699307.403 3175151.958, 699399.435 3...</td>\n",
       "      <td>2386</td>\n",
       "    </tr>\n",
       "  </tbody>\n",
       "</table>\n",
       "</div>"
      ],
      "text/plain": [
       "      MAP_NO REGISTRATI                                  IMG_NM_IND  \\\n",
       "2380       0        509                            509_MOONGA NAGAR   \n",
       "2381       0       1552            1552_G-2,SANGAM VIHAR GALI NO 18   \n",
       "2382       0       1460  1460_NEW T BLOCK, UTTAM NAGAR NEW DELHI-59   \n",
       "2383       0         16                        16_SHASHTRI PARK EXT   \n",
       "2384       0       1108               1108_ADAESH NAGAR JEEVAN PARK   \n",
       "2385       0       1022                                        None   \n",
       "2386       0        127                   692_GOURI SHANKAR ENCLAVE   \n",
       "\n",
       "                                             FME_DATASE  \\\n",
       "2380  C:\\Users\\shubh\\Desktop\\Missing pdf downloads\\1...   \n",
       "2381  C:\\Users\\shubh\\Desktop\\Missing pdf downloads\\1...   \n",
       "2382  C:\\Users\\shubh\\Desktop\\Missing pdf downloads\\1...   \n",
       "2383  C:\\Users\\shubh\\Desktop\\Missing pdf downloads\\1...   \n",
       "2384  C:\\Users\\shubh\\Desktop\\Missing pdf downloads\\1...   \n",
       "2385  C:\\Users\\shubh\\Desktop\\Missing pdf downloads\\4...   \n",
       "2386  C:\\Users\\shubh\\Desktop\\Missing pdf downloads\\1...   \n",
       "\n",
       "                                               geometry  index  \n",
       "2380  POLYGON ((721307.428 3177864.962, 721309.097 3...   2380  \n",
       "2381  POLYGON ((719878.107 3154528.633, 719869.967 3...   2381  \n",
       "2382  POLYGON ((700488.839 3166838.612, 700491.088 3...   2382  \n",
       "2383  POLYGON ((720406.762 3173763.997, 720407.012 3...   2383  \n",
       "2384  POLYGON ((702471.983 3166965.449, 702470.551 3...   2384  \n",
       "2385  POLYGON ((714477.145 3153632.769, 714468.179 3...   2385  \n",
       "2386  POLYGON ((699307.403 3175151.958, 699399.435 3...   2386  "
      ]
     },
     "execution_count": 169,
     "metadata": {},
     "output_type": "execute_result"
    }
   ],
   "source": [
    "uac_merged[uac_merged['MAP_NO']==0]"
   ]
  },
  {
   "cell_type": "code",
   "execution_count": 170,
   "metadata": {},
   "outputs": [],
   "source": [
    "uac_missing_maps = uac_merged[uac_merged['MAP_NO']==0]"
   ]
  },
  {
   "cell_type": "code",
   "execution_count": 171,
   "metadata": {},
   "outputs": [
    {
     "data": {
      "text/html": [
       "<div>\n",
       "<style scoped>\n",
       "    .dataframe tbody tr th:only-of-type {\n",
       "        vertical-align: middle;\n",
       "    }\n",
       "\n",
       "    .dataframe tbody tr th {\n",
       "        vertical-align: top;\n",
       "    }\n",
       "\n",
       "    .dataframe thead th {\n",
       "        text-align: right;\n",
       "    }\n",
       "</style>\n",
       "<table border=\"1\" class=\"dataframe\">\n",
       "  <thead>\n",
       "    <tr style=\"text-align: right;\">\n",
       "      <th></th>\n",
       "      <th>MAP_NO</th>\n",
       "      <th>REGISTRATI</th>\n",
       "      <th>IMG_NM_IND</th>\n",
       "      <th>FME_DATASE</th>\n",
       "      <th>geometry</th>\n",
       "      <th>index</th>\n",
       "    </tr>\n",
       "  </thead>\n",
       "  <tbody>\n",
       "    <tr>\n",
       "      <th>2380</th>\n",
       "      <td>0</td>\n",
       "      <td>509</td>\n",
       "      <td>509_MOONGA NAGAR</td>\n",
       "      <td>C:\\Users\\shubh\\Desktop\\Missing pdf downloads\\1...</td>\n",
       "      <td>POLYGON ((721307.428 3177864.962, 721309.097 3...</td>\n",
       "      <td>2380</td>\n",
       "    </tr>\n",
       "    <tr>\n",
       "      <th>2381</th>\n",
       "      <td>0</td>\n",
       "      <td>1552</td>\n",
       "      <td>1552_G-2,SANGAM VIHAR GALI NO 18</td>\n",
       "      <td>C:\\Users\\shubh\\Desktop\\Missing pdf downloads\\1...</td>\n",
       "      <td>POLYGON ((719878.107 3154528.633, 719869.967 3...</td>\n",
       "      <td>2381</td>\n",
       "    </tr>\n",
       "    <tr>\n",
       "      <th>2382</th>\n",
       "      <td>0</td>\n",
       "      <td>1460</td>\n",
       "      <td>1460_NEW T BLOCK, UTTAM NAGAR NEW DELHI-59</td>\n",
       "      <td>C:\\Users\\shubh\\Desktop\\Missing pdf downloads\\1...</td>\n",
       "      <td>POLYGON ((700488.839 3166838.612, 700491.088 3...</td>\n",
       "      <td>2382</td>\n",
       "    </tr>\n",
       "    <tr>\n",
       "      <th>2383</th>\n",
       "      <td>0</td>\n",
       "      <td>16</td>\n",
       "      <td>16_SHASHTRI PARK EXT</td>\n",
       "      <td>C:\\Users\\shubh\\Desktop\\Missing pdf downloads\\1...</td>\n",
       "      <td>POLYGON ((720406.762 3173763.997, 720407.012 3...</td>\n",
       "      <td>2383</td>\n",
       "    </tr>\n",
       "    <tr>\n",
       "      <th>2384</th>\n",
       "      <td>0</td>\n",
       "      <td>1108</td>\n",
       "      <td>1108_ADAESH NAGAR JEEVAN PARK</td>\n",
       "      <td>C:\\Users\\shubh\\Desktop\\Missing pdf downloads\\1...</td>\n",
       "      <td>POLYGON ((702471.983 3166965.449, 702470.551 3...</td>\n",
       "      <td>2384</td>\n",
       "    </tr>\n",
       "    <tr>\n",
       "      <th>2385</th>\n",
       "      <td>0</td>\n",
       "      <td>1022</td>\n",
       "      <td>None</td>\n",
       "      <td>C:\\Users\\shubh\\Desktop\\Missing pdf downloads\\4...</td>\n",
       "      <td>POLYGON ((714477.145 3153632.769, 714468.179 3...</td>\n",
       "      <td>2385</td>\n",
       "    </tr>\n",
       "    <tr>\n",
       "      <th>2386</th>\n",
       "      <td>0</td>\n",
       "      <td>127</td>\n",
       "      <td>692_GOURI SHANKAR ENCLAVE</td>\n",
       "      <td>C:\\Users\\shubh\\Desktop\\Missing pdf downloads\\1...</td>\n",
       "      <td>POLYGON ((699307.403 3175151.958, 699399.435 3...</td>\n",
       "      <td>2386</td>\n",
       "    </tr>\n",
       "  </tbody>\n",
       "</table>\n",
       "</div>"
      ],
      "text/plain": [
       "      MAP_NO REGISTRATI                                  IMG_NM_IND  \\\n",
       "2380       0        509                            509_MOONGA NAGAR   \n",
       "2381       0       1552            1552_G-2,SANGAM VIHAR GALI NO 18   \n",
       "2382       0       1460  1460_NEW T BLOCK, UTTAM NAGAR NEW DELHI-59   \n",
       "2383       0         16                        16_SHASHTRI PARK EXT   \n",
       "2384       0       1108               1108_ADAESH NAGAR JEEVAN PARK   \n",
       "2385       0       1022                                        None   \n",
       "2386       0        127                   692_GOURI SHANKAR ENCLAVE   \n",
       "\n",
       "                                             FME_DATASE  \\\n",
       "2380  C:\\Users\\shubh\\Desktop\\Missing pdf downloads\\1...   \n",
       "2381  C:\\Users\\shubh\\Desktop\\Missing pdf downloads\\1...   \n",
       "2382  C:\\Users\\shubh\\Desktop\\Missing pdf downloads\\1...   \n",
       "2383  C:\\Users\\shubh\\Desktop\\Missing pdf downloads\\1...   \n",
       "2384  C:\\Users\\shubh\\Desktop\\Missing pdf downloads\\1...   \n",
       "2385  C:\\Users\\shubh\\Desktop\\Missing pdf downloads\\4...   \n",
       "2386  C:\\Users\\shubh\\Desktop\\Missing pdf downloads\\1...   \n",
       "\n",
       "                                               geometry  index  \n",
       "2380  POLYGON ((721307.428 3177864.962, 721309.097 3...   2380  \n",
       "2381  POLYGON ((719878.107 3154528.633, 719869.967 3...   2381  \n",
       "2382  POLYGON ((700488.839 3166838.612, 700491.088 3...   2382  \n",
       "2383  POLYGON ((720406.762 3173763.997, 720407.012 3...   2383  \n",
       "2384  POLYGON ((702471.983 3166965.449, 702470.551 3...   2384  \n",
       "2385  POLYGON ((714477.145 3153632.769, 714468.179 3...   2385  \n",
       "2386  POLYGON ((699307.403 3175151.958, 699399.435 3...   2386  "
      ]
     },
     "execution_count": 171,
     "metadata": {},
     "output_type": "execute_result"
    }
   ],
   "source": [
    "uac_missing_maps"
   ]
  },
  {
   "cell_type": "code",
   "execution_count": 172,
   "metadata": {},
   "outputs": [],
   "source": [
    "uac_merged_without_missing_maps = uac_merged.drop(index=[2380, 2381, 2382, 2383, 2384, 2385, 2386])"
   ]
  },
  {
   "cell_type": "code",
   "execution_count": 173,
   "metadata": {},
   "outputs": [
    {
     "data": {
      "text/html": [
       "<div>\n",
       "<style scoped>\n",
       "    .dataframe tbody tr th:only-of-type {\n",
       "        vertical-align: middle;\n",
       "    }\n",
       "\n",
       "    .dataframe tbody tr th {\n",
       "        vertical-align: top;\n",
       "    }\n",
       "\n",
       "    .dataframe thead th {\n",
       "        text-align: right;\n",
       "    }\n",
       "</style>\n",
       "<table border=\"1\" class=\"dataframe\">\n",
       "  <thead>\n",
       "    <tr style=\"text-align: right;\">\n",
       "      <th></th>\n",
       "      <th>MAP_NO</th>\n",
       "      <th>REGISTRATI</th>\n",
       "      <th>IMG_NM_IND</th>\n",
       "      <th>FME_DATASE</th>\n",
       "      <th>geometry</th>\n",
       "      <th>index</th>\n",
       "    </tr>\n",
       "  </thead>\n",
       "  <tbody>\n",
       "  </tbody>\n",
       "</table>\n",
       "</div>"
      ],
      "text/plain": [
       "Empty GeoDataFrame\n",
       "Columns: [MAP_NO, REGISTRATI, IMG_NM_IND, FME_DATASE, geometry, index]\n",
       "Index: []"
      ]
     },
     "execution_count": 173,
     "metadata": {},
     "output_type": "execute_result"
    }
   ],
   "source": [
    "uac_merged_without_missing_maps[uac_merged_without_missing_maps['MAP_NO'] == 0]"
   ]
  },
  {
   "cell_type": "code",
   "execution_count": 232,
   "metadata": {},
   "outputs": [],
   "source": [
    "map_registration_dict = uac_utils.create_map_registration_dict(uac_merged_without_missing_maps)"
   ]
  },
  {
   "cell_type": "code",
   "execution_count": 233,
   "metadata": {},
   "outputs": [],
   "source": [
    "# Check if number of registration numbers for each Map No is always 1\n",
    "for key, val in map_registration_dict.items():\n",
    "    if len(val) != 1:\n",
    "        print(key, val)"
   ]
  },
  {
   "cell_type": "code",
   "execution_count": 222,
   "metadata": {},
   "outputs": [
    {
     "data": {
      "text/html": [
       "<div>\n",
       "<style scoped>\n",
       "    .dataframe tbody tr th:only-of-type {\n",
       "        vertical-align: middle;\n",
       "    }\n",
       "\n",
       "    .dataframe tbody tr th {\n",
       "        vertical-align: top;\n",
       "    }\n",
       "\n",
       "    .dataframe thead th {\n",
       "        text-align: right;\n",
       "    }\n",
       "</style>\n",
       "<table border=\"1\" class=\"dataframe\">\n",
       "  <thead>\n",
       "    <tr style=\"text-align: right;\">\n",
       "      <th></th>\n",
       "      <th>MAP_NO</th>\n",
       "      <th>REGISTRATI</th>\n",
       "      <th>IMG_NM_IND</th>\n",
       "      <th>FME_DATASE</th>\n",
       "      <th>geometry</th>\n",
       "      <th>index</th>\n",
       "    </tr>\n",
       "  </thead>\n",
       "  <tbody>\n",
       "    <tr>\n",
       "      <th>1985</th>\n",
       "      <td>1533</td>\n",
       "      <td>491</td>\n",
       "      <td>None</td>\n",
       "      <td>D:\\UC Downloads\\a-Missing Files\\1533_491_A.pdf</td>\n",
       "      <td>POLYGON ((697843.260 3166044.976, 697838.795 3...</td>\n",
       "      <td>1985</td>\n",
       "    </tr>\n",
       "    <tr>\n",
       "      <th>2011</th>\n",
       "      <td>1533</td>\n",
       "      <td>491</td>\n",
       "      <td>None</td>\n",
       "      <td>D:\\UC Downloads\\a-Missing Files\\1533_491_A.pdf</td>\n",
       "      <td>POLYGON ((698180.133 3166469.408, 698248.445 3...</td>\n",
       "      <td>2011</td>\n",
       "    </tr>\n",
       "    <tr>\n",
       "      <th>2038</th>\n",
       "      <td>1533</td>\n",
       "      <td>491</td>\n",
       "      <td>None</td>\n",
       "      <td>D:\\UC Downloads\\a-Missing Files\\1533_491_A.pdf</td>\n",
       "      <td>POLYGON ((698312.513 3166042.675, 698516.556 3...</td>\n",
       "      <td>2038</td>\n",
       "    </tr>\n",
       "    <tr>\n",
       "      <th>2065</th>\n",
       "      <td>1533</td>\n",
       "      <td>491</td>\n",
       "      <td>None</td>\n",
       "      <td>D:\\UC Downloads\\a-Missing Files\\1533_491_A.pdf</td>\n",
       "      <td>POLYGON ((697770.819 3166101.842, 697777.851 3...</td>\n",
       "      <td>2065</td>\n",
       "    </tr>\n",
       "  </tbody>\n",
       "</table>\n",
       "</div>"
      ],
      "text/plain": [
       "      MAP_NO REGISTRATI IMG_NM_IND  \\\n",
       "1985    1533        491       None   \n",
       "2011    1533        491       None   \n",
       "2038    1533        491       None   \n",
       "2065    1533        491       None   \n",
       "\n",
       "                                          FME_DATASE  \\\n",
       "1985  D:\\UC Downloads\\a-Missing Files\\1533_491_A.pdf   \n",
       "2011  D:\\UC Downloads\\a-Missing Files\\1533_491_A.pdf   \n",
       "2038  D:\\UC Downloads\\a-Missing Files\\1533_491_A.pdf   \n",
       "2065  D:\\UC Downloads\\a-Missing Files\\1533_491_A.pdf   \n",
       "\n",
       "                                               geometry  index  \n",
       "1985  POLYGON ((697843.260 3166044.976, 697838.795 3...   1985  \n",
       "2011  POLYGON ((698180.133 3166469.408, 698248.445 3...   2011  \n",
       "2038  POLYGON ((698312.513 3166042.675, 698516.556 3...   2038  \n",
       "2065  POLYGON ((697770.819 3166101.842, 697777.851 3...   2065  "
      ]
     },
     "execution_count": 222,
     "metadata": {},
     "output_type": "execute_result"
    }
   ],
   "source": [
    "uac_merged_without_missing_maps[uac_merged_without_missing_maps['MAP_NO']==1533]"
   ]
  },
  {
   "cell_type": "code",
   "execution_count": 223,
   "metadata": {},
   "outputs": [],
   "source": [
    "# Find index number and then change single value like this\n",
    "uac_merged_without_missing_maps.loc[1985, 'REGISTRATI'] = 491\n",
    "uac_merged_without_missing_maps.loc[2011, 'REGISTRATI'] = 491\n",
    "uac_merged_without_missing_maps.loc[2038, 'REGISTRATI'] = 491\n",
    "uac_merged_without_missing_maps.loc[2065, 'REGISTRATI'] = 491"
   ]
  },
  {
   "cell_type": "markdown",
   "metadata": {},
   "source": [
    "## Two GeoDataFrames for processing"
   ]
  },
  {
   "cell_type": "code",
   "execution_count": 234,
   "metadata": {},
   "outputs": [
    {
     "data": {
      "text/html": [
       "<div>\n",
       "<style scoped>\n",
       "    .dataframe tbody tr th:only-of-type {\n",
       "        vertical-align: middle;\n",
       "    }\n",
       "\n",
       "    .dataframe tbody tr th {\n",
       "        vertical-align: top;\n",
       "    }\n",
       "\n",
       "    .dataframe thead th {\n",
       "        text-align: right;\n",
       "    }\n",
       "</style>\n",
       "<table border=\"1\" class=\"dataframe\">\n",
       "  <thead>\n",
       "    <tr style=\"text-align: right;\">\n",
       "      <th></th>\n",
       "      <th>MAP_NO</th>\n",
       "      <th>REGISTRATI</th>\n",
       "      <th>IMG_NM_IND</th>\n",
       "      <th>FME_DATASE</th>\n",
       "      <th>geometry</th>\n",
       "      <th>index</th>\n",
       "    </tr>\n",
       "  </thead>\n",
       "  <tbody>\n",
       "    <tr>\n",
       "      <th>0</th>\n",
       "      <td>520</td>\n",
       "      <td>570</td>\n",
       "      <td>SHIV COLNY KATEWADA</td>\n",
       "      <td>D:\\UC Downloads\\UC_501-600-Done\\520_570.pdf</td>\n",
       "      <td>POLYGON ((8568698.722 3350778.289, 8568688.910...</td>\n",
       "      <td>0</td>\n",
       "    </tr>\n",
       "    <tr>\n",
       "      <th>1</th>\n",
       "      <td>509</td>\n",
       "      <td>888</td>\n",
       "      <td>KRISHNA COLONY</td>\n",
       "      <td>D:\\UC Downloads\\UC_501-600-Done\\509_888.pdf</td>\n",
       "      <td>POLYGON ((8580894.912 3343225.741, 8580905.114...</td>\n",
       "      <td>1</td>\n",
       "    </tr>\n",
       "  </tbody>\n",
       "</table>\n",
       "</div>"
      ],
      "text/plain": [
       "   MAP_NO REGISTRATI           IMG_NM_IND  \\\n",
       "0     520        570  SHIV COLNY KATEWADA   \n",
       "1     509        888       KRISHNA COLONY   \n",
       "\n",
       "                                    FME_DATASE  \\\n",
       "0  D:\\UC Downloads\\UC_501-600-Done\\520_570.pdf   \n",
       "1  D:\\UC Downloads\\UC_501-600-Done\\509_888.pdf   \n",
       "\n",
       "                                            geometry  index  \n",
       "0  POLYGON ((8568698.722 3350778.289, 8568688.910...      0  \n",
       "1  POLYGON ((8580894.912 3343225.741, 8580905.114...      1  "
      ]
     },
     "execution_count": 234,
     "metadata": {},
     "output_type": "execute_result"
    }
   ],
   "source": [
    "# All UAC's with map numbers\n",
    "uac_merged_without_missing_maps.head(2)"
   ]
  },
  {
   "cell_type": "code",
   "execution_count": 235,
   "metadata": {},
   "outputs": [
    {
     "data": {
      "text/html": [
       "<div>\n",
       "<style scoped>\n",
       "    .dataframe tbody tr th:only-of-type {\n",
       "        vertical-align: middle;\n",
       "    }\n",
       "\n",
       "    .dataframe tbody tr th {\n",
       "        vertical-align: top;\n",
       "    }\n",
       "\n",
       "    .dataframe thead th {\n",
       "        text-align: right;\n",
       "    }\n",
       "</style>\n",
       "<table border=\"1\" class=\"dataframe\">\n",
       "  <thead>\n",
       "    <tr style=\"text-align: right;\">\n",
       "      <th></th>\n",
       "      <th>MAP_NO</th>\n",
       "      <th>REGISTRATI</th>\n",
       "      <th>IMG_NM_IND</th>\n",
       "      <th>FME_DATASE</th>\n",
       "      <th>geometry</th>\n",
       "      <th>index</th>\n",
       "    </tr>\n",
       "  </thead>\n",
       "  <tbody>\n",
       "    <tr>\n",
       "      <th>2380</th>\n",
       "      <td>0</td>\n",
       "      <td>509</td>\n",
       "      <td>509_MOONGA NAGAR</td>\n",
       "      <td>C:\\Users\\shubh\\Desktop\\Missing pdf downloads\\1...</td>\n",
       "      <td>POLYGON ((721307.428 3177864.962, 721309.097 3...</td>\n",
       "      <td>2380</td>\n",
       "    </tr>\n",
       "    <tr>\n",
       "      <th>2381</th>\n",
       "      <td>0</td>\n",
       "      <td>1552</td>\n",
       "      <td>1552_G-2,SANGAM VIHAR GALI NO 18</td>\n",
       "      <td>C:\\Users\\shubh\\Desktop\\Missing pdf downloads\\1...</td>\n",
       "      <td>POLYGON ((719878.107 3154528.633, 719869.967 3...</td>\n",
       "      <td>2381</td>\n",
       "    </tr>\n",
       "  </tbody>\n",
       "</table>\n",
       "</div>"
      ],
      "text/plain": [
       "      MAP_NO REGISTRATI                        IMG_NM_IND  \\\n",
       "2380       0        509                  509_MOONGA NAGAR   \n",
       "2381       0       1552  1552_G-2,SANGAM VIHAR GALI NO 18   \n",
       "\n",
       "                                             FME_DATASE  \\\n",
       "2380  C:\\Users\\shubh\\Desktop\\Missing pdf downloads\\1...   \n",
       "2381  C:\\Users\\shubh\\Desktop\\Missing pdf downloads\\1...   \n",
       "\n",
       "                                               geometry  index  \n",
       "2380  POLYGON ((721307.428 3177864.962, 721309.097 3...   2380  \n",
       "2381  POLYGON ((719878.107 3154528.633, 719869.967 3...   2381  "
      ]
     },
     "execution_count": 235,
     "metadata": {},
     "output_type": "execute_result"
    }
   ],
   "source": [
    "uac_missing_maps.head(2)"
   ]
  },
  {
   "cell_type": "code",
   "execution_count": 236,
   "metadata": {},
   "outputs": [],
   "source": [
    "# Save files to disk\n",
    "uac_merged_without_missing_maps.to_file(\"uac_merged_without_missing_maps.shp\")\n",
    "uac_missing_maps.to_file(\"uac_missing_maps.shp\")"
   ]
  },
  {
   "cell_type": "code",
   "execution_count": 239,
   "metadata": {},
   "outputs": [
    {
     "data": {
      "text/html": [
       "<div>\n",
       "<style scoped>\n",
       "    .dataframe tbody tr th:only-of-type {\n",
       "        vertical-align: middle;\n",
       "    }\n",
       "\n",
       "    .dataframe tbody tr th {\n",
       "        vertical-align: top;\n",
       "    }\n",
       "\n",
       "    .dataframe thead th {\n",
       "        text-align: right;\n",
       "    }\n",
       "</style>\n",
       "<table border=\"1\" class=\"dataframe\">\n",
       "  <thead>\n",
       "    <tr style=\"text-align: right;\">\n",
       "      <th></th>\n",
       "      <th>MAP_NO</th>\n",
       "      <th>REGISTRATI</th>\n",
       "      <th>IMG_NM_IND</th>\n",
       "      <th>FME_DATASE</th>\n",
       "      <th>geometry</th>\n",
       "      <th>index</th>\n",
       "    </tr>\n",
       "  </thead>\n",
       "  <tbody>\n",
       "  </tbody>\n",
       "</table>\n",
       "</div>"
      ],
      "text/plain": [
       "Empty GeoDataFrame\n",
       "Columns: [MAP_NO, REGISTRATI, IMG_NM_IND, FME_DATASE, geometry, index]\n",
       "Index: []"
      ]
     },
     "execution_count": 239,
     "metadata": {},
     "output_type": "execute_result"
    }
   ],
   "source": [
    "# Confirming this GDF has no maps with MAP_NO=0\n",
    "uac_merged_without_missing_maps[uac_merged_without_missing_maps['MAP_NO'] == 0]"
   ]
  },
  {
   "cell_type": "code",
   "execution_count": 241,
   "metadata": {},
   "outputs": [
    {
     "data": {
      "text/html": [
       "<div>\n",
       "<style scoped>\n",
       "    .dataframe tbody tr th:only-of-type {\n",
       "        vertical-align: middle;\n",
       "    }\n",
       "\n",
       "    .dataframe tbody tr th {\n",
       "        vertical-align: top;\n",
       "    }\n",
       "\n",
       "    .dataframe thead th {\n",
       "        text-align: right;\n",
       "    }\n",
       "</style>\n",
       "<table border=\"1\" class=\"dataframe\">\n",
       "  <thead>\n",
       "    <tr style=\"text-align: right;\">\n",
       "      <th></th>\n",
       "      <th>MAP_NO</th>\n",
       "      <th>REGISTRATI</th>\n",
       "      <th>IMG_NM_IND</th>\n",
       "      <th>FME_DATASE</th>\n",
       "      <th>geometry</th>\n",
       "      <th>index</th>\n",
       "    </tr>\n",
       "  </thead>\n",
       "  <tbody>\n",
       "    <tr>\n",
       "      <th>2380</th>\n",
       "      <td>0</td>\n",
       "      <td>509</td>\n",
       "      <td>509_MOONGA NAGAR</td>\n",
       "      <td>C:\\Users\\shubh\\Desktop\\Missing pdf downloads\\1...</td>\n",
       "      <td>POLYGON ((721307.428 3177864.962, 721309.097 3...</td>\n",
       "      <td>2380</td>\n",
       "    </tr>\n",
       "    <tr>\n",
       "      <th>2381</th>\n",
       "      <td>0</td>\n",
       "      <td>1552</td>\n",
       "      <td>1552_G-2,SANGAM VIHAR GALI NO 18</td>\n",
       "      <td>C:\\Users\\shubh\\Desktop\\Missing pdf downloads\\1...</td>\n",
       "      <td>POLYGON ((719878.107 3154528.633, 719869.967 3...</td>\n",
       "      <td>2381</td>\n",
       "    </tr>\n",
       "    <tr>\n",
       "      <th>2382</th>\n",
       "      <td>0</td>\n",
       "      <td>1460</td>\n",
       "      <td>1460_NEW T BLOCK, UTTAM NAGAR NEW DELHI-59</td>\n",
       "      <td>C:\\Users\\shubh\\Desktop\\Missing pdf downloads\\1...</td>\n",
       "      <td>POLYGON ((700488.839 3166838.612, 700491.088 3...</td>\n",
       "      <td>2382</td>\n",
       "    </tr>\n",
       "    <tr>\n",
       "      <th>2383</th>\n",
       "      <td>0</td>\n",
       "      <td>16</td>\n",
       "      <td>16_SHASHTRI PARK EXT</td>\n",
       "      <td>C:\\Users\\shubh\\Desktop\\Missing pdf downloads\\1...</td>\n",
       "      <td>POLYGON ((720406.762 3173763.997, 720407.012 3...</td>\n",
       "      <td>2383</td>\n",
       "    </tr>\n",
       "    <tr>\n",
       "      <th>2384</th>\n",
       "      <td>0</td>\n",
       "      <td>1108</td>\n",
       "      <td>1108_ADAESH NAGAR JEEVAN PARK</td>\n",
       "      <td>C:\\Users\\shubh\\Desktop\\Missing pdf downloads\\1...</td>\n",
       "      <td>POLYGON ((702471.983 3166965.449, 702470.551 3...</td>\n",
       "      <td>2384</td>\n",
       "    </tr>\n",
       "    <tr>\n",
       "      <th>2385</th>\n",
       "      <td>0</td>\n",
       "      <td>1022</td>\n",
       "      <td>None</td>\n",
       "      <td>C:\\Users\\shubh\\Desktop\\Missing pdf downloads\\4...</td>\n",
       "      <td>POLYGON ((714477.145 3153632.769, 714468.179 3...</td>\n",
       "      <td>2385</td>\n",
       "    </tr>\n",
       "    <tr>\n",
       "      <th>2386</th>\n",
       "      <td>0</td>\n",
       "      <td>127</td>\n",
       "      <td>692_GOURI SHANKAR ENCLAVE</td>\n",
       "      <td>C:\\Users\\shubh\\Desktop\\Missing pdf downloads\\1...</td>\n",
       "      <td>POLYGON ((699307.403 3175151.958, 699399.435 3...</td>\n",
       "      <td>2386</td>\n",
       "    </tr>\n",
       "  </tbody>\n",
       "</table>\n",
       "</div>"
      ],
      "text/plain": [
       "      MAP_NO REGISTRATI                                  IMG_NM_IND  \\\n",
       "2380       0        509                            509_MOONGA NAGAR   \n",
       "2381       0       1552            1552_G-2,SANGAM VIHAR GALI NO 18   \n",
       "2382       0       1460  1460_NEW T BLOCK, UTTAM NAGAR NEW DELHI-59   \n",
       "2383       0         16                        16_SHASHTRI PARK EXT   \n",
       "2384       0       1108               1108_ADAESH NAGAR JEEVAN PARK   \n",
       "2385       0       1022                                        None   \n",
       "2386       0        127                   692_GOURI SHANKAR ENCLAVE   \n",
       "\n",
       "                                             FME_DATASE  \\\n",
       "2380  C:\\Users\\shubh\\Desktop\\Missing pdf downloads\\1...   \n",
       "2381  C:\\Users\\shubh\\Desktop\\Missing pdf downloads\\1...   \n",
       "2382  C:\\Users\\shubh\\Desktop\\Missing pdf downloads\\1...   \n",
       "2383  C:\\Users\\shubh\\Desktop\\Missing pdf downloads\\1...   \n",
       "2384  C:\\Users\\shubh\\Desktop\\Missing pdf downloads\\1...   \n",
       "2385  C:\\Users\\shubh\\Desktop\\Missing pdf downloads\\4...   \n",
       "2386  C:\\Users\\shubh\\Desktop\\Missing pdf downloads\\1...   \n",
       "\n",
       "                                               geometry  index  \n",
       "2380  POLYGON ((721307.428 3177864.962, 721309.097 3...   2380  \n",
       "2381  POLYGON ((719878.107 3154528.633, 719869.967 3...   2381  \n",
       "2382  POLYGON ((700488.839 3166838.612, 700491.088 3...   2382  \n",
       "2383  POLYGON ((720406.762 3173763.997, 720407.012 3...   2383  \n",
       "2384  POLYGON ((702471.983 3166965.449, 702470.551 3...   2384  \n",
       "2385  POLYGON ((714477.145 3153632.769, 714468.179 3...   2385  \n",
       "2386  POLYGON ((699307.403 3175151.958, 699399.435 3...   2386  "
      ]
     },
     "execution_count": 241,
     "metadata": {},
     "output_type": "execute_result"
    }
   ],
   "source": [
    "# Confirming this GDF has maps with MAP_NO=0\n",
    "uac_missing_maps[uac_missing_maps['MAP_NO'] == 0]"
   ]
  },
  {
   "cell_type": "markdown",
   "metadata": {},
   "source": [
    "## Find subset of Map Numbers that are Duplicated"
   ]
  },
  {
   "cell_type": "code",
   "execution_count": 237,
   "metadata": {},
   "outputs": [
    {
     "name": "stdout",
     "output_type": "stream",
     "text": [
      "Number of map numbers that are duplicated: 108\n"
     ]
    }
   ],
   "source": [
    "duplicate_map_numbers = uac_utils.maps_numbers_with_duplicate_polygons(uac_merged_without_missing_maps)"
   ]
  },
  {
   "cell_type": "markdown",
   "metadata": {},
   "source": [
    "## Generate PDF URLs from HTML file\n",
    "* Extract URL segments via regex\n",
    "* Create URLs\n",
    "* Associate each map number to PDF URL"
   ]
  },
  {
   "cell_type": "code",
   "execution_count": 243,
   "metadata": {},
   "outputs": [],
   "source": [
    "map_url_dict = uac_utils.generate_map_URLs(duplicate_map_numbers)"
   ]
  },
  {
   "cell_type": "code",
   "execution_count": 244,
   "metadata": {},
   "outputs": [
    {
     "data": {
      "text/plain": [
       "[(250, 'https://dda.org.in//tendernotices_docs/27112019/MAP%20250_277.pdf'),\n",
       " (1328, 'https://dda.org.in//tendernotices_docs/27112019/1328_1154.pdf'),\n",
       " (1324, 'https://dda.org.in//tendernotices_docs/27112019/1324_696.pdf'),\n",
       " (1330, 'https://dda.org.in//tendernotices_docs/27112019/1330_70_B.pdf'),\n",
       " (1331, 'https://dda.org.in//tendernotices_docs/27112019/1331_113-B.pdf')]"
      ]
     },
     "execution_count": 244,
     "metadata": {},
     "output_type": "execute_result"
    }
   ],
   "source": [
    "# Show first 5 entries\n",
    "list(map_url_dict.items())[:5]"
   ]
  },
  {
   "cell_type": "code",
   "execution_count": 245,
   "metadata": {},
   "outputs": [
    {
     "data": {
      "text/plain": [
       "{250: 'https://dda.org.in//tendernotices_docs/27112019/MAP%20250_277.pdf',\n",
       " 1328: 'https://dda.org.in//tendernotices_docs/27112019/1328_1154.pdf',\n",
       " 1324: 'https://dda.org.in//tendernotices_docs/27112019/1324_696.pdf',\n",
       " 1330: 'https://dda.org.in//tendernotices_docs/27112019/1330_70_B.pdf',\n",
       " 1331: 'https://dda.org.in//tendernotices_docs/27112019/1331_113-B.pdf',\n",
       " 1329: 'https://dda.org.in//tendernotices_docs/27112019/1329_845-A.pdf',\n",
       " 1325: 'https://dda.org.in//tendernotices_docs/27112019/1325_287.pdf',\n",
       " 634: 'https://dda.org.in//tendernotices_docs/27112019/634_36_LOP.pdf',\n",
       " 651: 'https://dda.org.in//tendernotices_docs/27112019/651_937.pdf',\n",
       " 649: 'https://dda.org.in//tendernotices_docs/27112019/649_447.pdf',\n",
       " 672: 'https://dda.org.in//tendernotices_docs/27112019/672_1234.pdf',\n",
       " 693: 'https://dda.org.in//tendernotices_docs/27112019/693_1585.pdf',\n",
       " 682: 'https://dda.org.in//tendernotices_docs/27112019/682_660_B.pdf',\n",
       " 662: 'https://dda.org.in//tendernotices_docs/27112019/662_716.pdf',\n",
       " 664: 'https://dda.org.in//tendernotices_docs/27112019/664_1065.pdf',\n",
       " 650: 'https://dda.org.in//tendernotices_docs/27112019/650_1332.pdf',\n",
       " 691: 'https://dda.org.in//tendernotices_docs/27112019/691_1212.pdf',\n",
       " 671: 'https://dda.org.in//tendernotices_docs/27112019/671_1226.pdf',\n",
       " 673: 'https://dda.org.in//tendernotices_docs/27112019/673_1286.pdf',\n",
       " 660: 'https://dda.org.in//tendernotices_docs/27112019/660_993.pdf',\n",
       " 657: 'https://dda.org.in//tendernotices_docs/27112019/657_356.pdf',\n",
       " 667: 'https://dda.org.in//tendernotices_docs/27112019/667_1364.pdf',\n",
       " 666: 'https://dda.org.in//tendernotices_docs/27112019/666_1003.pdf',\n",
       " 680: 'https://dda.org.in//tendernotices_docs/27112019/680_1401.pdf',\n",
       " 678: 'https://dda.org.in//tendernotices_docs/27112019/678_1080.pdf',\n",
       " 688: 'https://dda.org.in//tendernotices_docs/27112019/688_554.pdf',\n",
       " 674: 'https://dda.org.in//tendernotices_docs/27112019/674_481.pdf',\n",
       " 669: 'https://dda.org.in//tendernotices_docs/27112019/669_1215.pdf',\n",
       " 687: 'https://dda.org.in//tendernotices_docs/27112019/687_1234_B.pdf',\n",
       " 679: 'https://dda.org.in//tendernotices_docs/27112019/679_1103.pdf',\n",
       " 1454: 'https://dda.org.in//tendernotices_docs/27112019/1454_463.pdf',\n",
       " 1499: 'https://dda.org.in//tendernotices_docs/27112019/1499_1366.pdf',\n",
       " 1347: 'https://dda.org.in//tendernotices_docs/27112019/1347_816.pdf',\n",
       " 1460: 'https://dda.org.in//tendernotices_docs/27112019/1460_35-(LOP).pdf',\n",
       " 1482: 'https://dda.org.in//tendernotices_docs/27112019/1482_123_ELD.pdf',\n",
       " 1483: 'https://dda.org.in//tendernotices_docs/27112019/1483_1050.pdf',\n",
       " 1456: 'https://dda.org.in//tendernotices_docs/27112019/1456_945.pdf',\n",
       " 1461: 'https://dda.org.in//tendernotices_docs/27112019/1461_1317.pdf',\n",
       " 1497: 'https://dda.org.in//tendernotices_docs/27112019/1497_1200.pdf',\n",
       " 1500: 'https://dda.org.in//tendernotices_docs/27112019/1500_969_A.pdf',\n",
       " 1445: 'https://dda.org.in//tendernotices_docs/27112019/1445_250.pdf',\n",
       " 1496: 'https://dda.org.in//tendernotices_docs/27112019/1496_488.pdf',\n",
       " 1484: 'https://dda.org.in//tendernotices_docs/27112019/1484_531_B.pdf',\n",
       " 1346: 'https://dda.org.in//tendernotices_docs/27112019/1346_757.pdf',\n",
       " 1481: 'https://dda.org.in//tendernotices_docs/27112019/1481_4_ELD.pdf',\n",
       " 1511: 'https://dda.org.in//tendernotices_docs/27112019/1511_798.pdf',\n",
       " 1533: 'https://dda.org.in//tendernotices_docs/27112019/1533_491_A.pdf',\n",
       " 1514: 'https://dda.org.in//tendernotices_docs/27112019/1514_1504.pdf',\n",
       " 1512: 'https://dda.org.in//tendernotices_docs/27112019/1512_660.pdf',\n",
       " 1345: 'https://dda.org.in//tendernotices_docs/27112019/1345_1352-B.pdf',\n",
       " 1510: 'https://dda.org.in//tendernotices_docs/27112019/1510_498.pdf',\n",
       " 1457: 'https://dda.org.in//tendernotices_docs/27112019/1457_945__B.pdf',\n",
       " 1507: 'https://dda.org.in//tendernotices_docs/27112019/1507_1072_A.pdf',\n",
       " 1480: 'https://dda.org.in//tendernotices_docs/27112019/1480_95_ELD.pdf',\n",
       " 1504: 'https://dda.org.in//tendernotices_docs/27112019/1504_1599.pdf',\n",
       " 1502: 'https://dda.org.in//tendernotices_docs/27112019/1502_954.pdf',\n",
       " 1015: 'https://dda.org.in//tendernotices_docs/27112019/1015_664.pdf',\n",
       " 1393: 'https://dda.org.in//tendernotices_docs/27112019/1393_1541.pdf',\n",
       " 1027: 'https://dda.org.in//tendernotices_docs/27112019/1027_130.pdf',\n",
       " 1318: 'https://dda.org.in//tendernotices_docs/27112019/1318_348.pdf',\n",
       " 646: 'https://dda.org.in//tendernotices_docs/27112019/646_59-(ELD).pdf',\n",
       " 1449: 'https://dda.org.in//tendernotices_docs/27112019/1449_1509.pdf',\n",
       " 1450: 'https://dda.org.in//tendernotices_docs/27112019/1450_833.pdf',\n",
       " 1452: 'https://dda.org.in//tendernotices_docs/27112019/1452_412.pdf',\n",
       " 1451: 'https://dda.org.in//tendernotices_docs/27112019/1451_1111.pdf',\n",
       " 400: 'https://dda.org.in//tendernotices_docs/27112019/400_1276_A.pdf',\n",
       " 1477: 'https://dda.org.in//tendernotices_docs/27112019/1477_1606.pdf',\n",
       " 1475: 'https://dda.org.in//tendernotices_docs/27112019/1475_476-A.pdf',\n",
       " 1442: 'https://dda.org.in//tendernotices_docs/27112019/1442_790.pdf',\n",
       " 1472: 'https://dda.org.in//tendernotices_docs/27112019/1472_5-(LOP).pdf',\n",
       " 1473: 'https://dda.org.in//tendernotices_docs/27112019/1473_1276_C.pdf',\n",
       " 1405: 'https://dda.org.in//tendernotices_docs/27112019/1405_120%20(ELD).pdf',\n",
       " 1471: 'https://dda.org.in//tendernotices_docs/27112019/1471_1273_A.pdf',\n",
       " 633: 'https://dda.org.in//tendernotices_docs/27112019/633_52%20ELD.pdf',\n",
       " 641: 'https://dda.org.in//tendernotices_docs/27112019/641_56%20ELD.pdf',\n",
       " 642: 'https://dda.org.in//tendernotices_docs/27112019/642_121%20ELD.pdf',\n",
       " 640: 'https://dda.org.in//tendernotices_docs/27112019/640_1132.pdf',\n",
       " 1464: 'https://dda.org.in//tendernotices_docs/27112019/1464_58-(LOP).pdf',\n",
       " 1463: 'https://dda.org.in//tendernotices_docs/27112019/1463_13-(ELD).pdf',\n",
       " 1468: 'https://dda.org.in//tendernotices_docs/27112019/1468_58-(LOP).pdf',\n",
       " 289: 'https://dda.org.in//tendernotices_docs/27112019/289_607.pdf',\n",
       " 295: 'https://dda.org.in//tendernotices_docs/27112019/295_197_B.pdf',\n",
       " 22: 'https://dda.org.in//tendernotices_docs/27112019/22_107.pdf',\n",
       " 11: 'https://dda.org.in//tendernotices_docs/27112019/11_743.pdf',\n",
       " 37: 'https://dda.org.in//tendernotices_docs/27112019/37_778.pdf',\n",
       " 30: 'https://dda.org.in//tendernotices_docs/27112019/30_761.pdf',\n",
       " 4: 'URL not found',\n",
       " 1420: 'https://dda.org.in//tendernotices_docs/27112019/1420_144%20(ELD).pdf',\n",
       " 1397: 'https://dda.org.in//tendernotices_docs/27112019/1397_74.pdf',\n",
       " 1368: 'https://dda.org.in//tendernotices_docs/27112019/1368_305.pdf',\n",
       " 1364: 'https://dda.org.in//tendernotices_docs/27112019/1364_1578.pdf',\n",
       " 1366: 'https://dda.org.in//tendernotices_docs/27112019/1366_1300_B.pdf',\n",
       " 1488: 'https://dda.org.in//tendernotices_docs/27112019/1488_115.pdf',\n",
       " 1486: 'https://dda.org.in//tendernotices_docs/27112019/1486_29-(LOP).pdf',\n",
       " 1485: 'https://dda.org.in//tendernotices_docs/27112019/1485_30%20(LOP).pdf',\n",
       " 1348: 'https://dda.org.in//tendernotices_docs/27112019/1348_1492.pdf',\n",
       " 601: 'https://dda.org.in//tendernotices_docs/27112019/601_360.pdf',\n",
       " 113: 'https://dda.org.in//tendernotices_docs/27112019/113_1543.pdf',\n",
       " 617: 'https://dda.org.in//tendernotices_docs/27112019/617_15-(ELD).pdf',\n",
       " 616: 'https://dda.org.in//tendernotices_docs/27112019/616_1125_A.pdf',\n",
       " 36: 'https://dda.org.in//tendernotices_docs/27112019/36_692.pdf',\n",
       " 920: 'https://dda.org.in//tendernotices_docs/27112019/920_879.pdf',\n",
       " 1438: 'https://dda.org.in//tendernotices_docs/27112019/1438_4.pdf',\n",
       " 1436: 'https://dda.org.in//tendernotices_docs/27112019/1436_67.pdf',\n",
       " 1441: 'https://dda.org.in//tendernotices_docs/27112019/1441_762.pdf',\n",
       " 1439: 'https://dda.org.in//tendernotices_docs/27112019/1439_1531.pdf',\n",
       " 1440: 'https://dda.org.in//tendernotices_docs/27112019/1440_1059.pdf',\n",
       " 1294: 'https://dda.org.in//tendernotices_docs/27112019/1294_133.pdf'}"
      ]
     },
     "execution_count": 245,
     "metadata": {},
     "output_type": "execute_result"
    }
   ],
   "source": [
    "map_url_dict"
   ]
  },
  {
   "cell_type": "code",
   "execution_count": 247,
   "metadata": {},
   "outputs": [],
   "source": [
    "map_url_dict[4] = r\"https://dda.org.in/tendernotices_docs/27112019/04_157.pdf\""
   ]
  },
  {
   "cell_type": "code",
   "execution_count": 248,
   "metadata": {},
   "outputs": [
    {
     "data": {
      "text/plain": [
       "{250: 'https://dda.org.in//tendernotices_docs/27112019/MAP%20250_277.pdf',\n",
       " 1328: 'https://dda.org.in//tendernotices_docs/27112019/1328_1154.pdf',\n",
       " 1324: 'https://dda.org.in//tendernotices_docs/27112019/1324_696.pdf',\n",
       " 1330: 'https://dda.org.in//tendernotices_docs/27112019/1330_70_B.pdf',\n",
       " 1331: 'https://dda.org.in//tendernotices_docs/27112019/1331_113-B.pdf',\n",
       " 1329: 'https://dda.org.in//tendernotices_docs/27112019/1329_845-A.pdf',\n",
       " 1325: 'https://dda.org.in//tendernotices_docs/27112019/1325_287.pdf',\n",
       " 634: 'https://dda.org.in//tendernotices_docs/27112019/634_36_LOP.pdf',\n",
       " 651: 'https://dda.org.in//tendernotices_docs/27112019/651_937.pdf',\n",
       " 649: 'https://dda.org.in//tendernotices_docs/27112019/649_447.pdf',\n",
       " 672: 'https://dda.org.in//tendernotices_docs/27112019/672_1234.pdf',\n",
       " 693: 'https://dda.org.in//tendernotices_docs/27112019/693_1585.pdf',\n",
       " 682: 'https://dda.org.in//tendernotices_docs/27112019/682_660_B.pdf',\n",
       " 662: 'https://dda.org.in//tendernotices_docs/27112019/662_716.pdf',\n",
       " 664: 'https://dda.org.in//tendernotices_docs/27112019/664_1065.pdf',\n",
       " 650: 'https://dda.org.in//tendernotices_docs/27112019/650_1332.pdf',\n",
       " 691: 'https://dda.org.in//tendernotices_docs/27112019/691_1212.pdf',\n",
       " 671: 'https://dda.org.in//tendernotices_docs/27112019/671_1226.pdf',\n",
       " 673: 'https://dda.org.in//tendernotices_docs/27112019/673_1286.pdf',\n",
       " 660: 'https://dda.org.in//tendernotices_docs/27112019/660_993.pdf',\n",
       " 657: 'https://dda.org.in//tendernotices_docs/27112019/657_356.pdf',\n",
       " 667: 'https://dda.org.in//tendernotices_docs/27112019/667_1364.pdf',\n",
       " 666: 'https://dda.org.in//tendernotices_docs/27112019/666_1003.pdf',\n",
       " 680: 'https://dda.org.in//tendernotices_docs/27112019/680_1401.pdf',\n",
       " 678: 'https://dda.org.in//tendernotices_docs/27112019/678_1080.pdf',\n",
       " 688: 'https://dda.org.in//tendernotices_docs/27112019/688_554.pdf',\n",
       " 674: 'https://dda.org.in//tendernotices_docs/27112019/674_481.pdf',\n",
       " 669: 'https://dda.org.in//tendernotices_docs/27112019/669_1215.pdf',\n",
       " 687: 'https://dda.org.in//tendernotices_docs/27112019/687_1234_B.pdf',\n",
       " 679: 'https://dda.org.in//tendernotices_docs/27112019/679_1103.pdf',\n",
       " 1454: 'https://dda.org.in//tendernotices_docs/27112019/1454_463.pdf',\n",
       " 1499: 'https://dda.org.in//tendernotices_docs/27112019/1499_1366.pdf',\n",
       " 1347: 'https://dda.org.in//tendernotices_docs/27112019/1347_816.pdf',\n",
       " 1460: 'https://dda.org.in//tendernotices_docs/27112019/1460_35-(LOP).pdf',\n",
       " 1482: 'https://dda.org.in//tendernotices_docs/27112019/1482_123_ELD.pdf',\n",
       " 1483: 'https://dda.org.in//tendernotices_docs/27112019/1483_1050.pdf',\n",
       " 1456: 'https://dda.org.in//tendernotices_docs/27112019/1456_945.pdf',\n",
       " 1461: 'https://dda.org.in//tendernotices_docs/27112019/1461_1317.pdf',\n",
       " 1497: 'https://dda.org.in//tendernotices_docs/27112019/1497_1200.pdf',\n",
       " 1500: 'https://dda.org.in//tendernotices_docs/27112019/1500_969_A.pdf',\n",
       " 1445: 'https://dda.org.in//tendernotices_docs/27112019/1445_250.pdf',\n",
       " 1496: 'https://dda.org.in//tendernotices_docs/27112019/1496_488.pdf',\n",
       " 1484: 'https://dda.org.in//tendernotices_docs/27112019/1484_531_B.pdf',\n",
       " 1346: 'https://dda.org.in//tendernotices_docs/27112019/1346_757.pdf',\n",
       " 1481: 'https://dda.org.in//tendernotices_docs/27112019/1481_4_ELD.pdf',\n",
       " 1511: 'https://dda.org.in//tendernotices_docs/27112019/1511_798.pdf',\n",
       " 1533: 'https://dda.org.in//tendernotices_docs/27112019/1533_491_A.pdf',\n",
       " 1514: 'https://dda.org.in//tendernotices_docs/27112019/1514_1504.pdf',\n",
       " 1512: 'https://dda.org.in//tendernotices_docs/27112019/1512_660.pdf',\n",
       " 1345: 'https://dda.org.in//tendernotices_docs/27112019/1345_1352-B.pdf',\n",
       " 1510: 'https://dda.org.in//tendernotices_docs/27112019/1510_498.pdf',\n",
       " 1457: 'https://dda.org.in//tendernotices_docs/27112019/1457_945__B.pdf',\n",
       " 1507: 'https://dda.org.in//tendernotices_docs/27112019/1507_1072_A.pdf',\n",
       " 1480: 'https://dda.org.in//tendernotices_docs/27112019/1480_95_ELD.pdf',\n",
       " 1504: 'https://dda.org.in//tendernotices_docs/27112019/1504_1599.pdf',\n",
       " 1502: 'https://dda.org.in//tendernotices_docs/27112019/1502_954.pdf',\n",
       " 1015: 'https://dda.org.in//tendernotices_docs/27112019/1015_664.pdf',\n",
       " 1393: 'https://dda.org.in//tendernotices_docs/27112019/1393_1541.pdf',\n",
       " 1027: 'https://dda.org.in//tendernotices_docs/27112019/1027_130.pdf',\n",
       " 1318: 'https://dda.org.in//tendernotices_docs/27112019/1318_348.pdf',\n",
       " 646: 'https://dda.org.in//tendernotices_docs/27112019/646_59-(ELD).pdf',\n",
       " 1449: 'https://dda.org.in//tendernotices_docs/27112019/1449_1509.pdf',\n",
       " 1450: 'https://dda.org.in//tendernotices_docs/27112019/1450_833.pdf',\n",
       " 1452: 'https://dda.org.in//tendernotices_docs/27112019/1452_412.pdf',\n",
       " 1451: 'https://dda.org.in//tendernotices_docs/27112019/1451_1111.pdf',\n",
       " 400: 'https://dda.org.in//tendernotices_docs/27112019/400_1276_A.pdf',\n",
       " 1477: 'https://dda.org.in//tendernotices_docs/27112019/1477_1606.pdf',\n",
       " 1475: 'https://dda.org.in//tendernotices_docs/27112019/1475_476-A.pdf',\n",
       " 1442: 'https://dda.org.in//tendernotices_docs/27112019/1442_790.pdf',\n",
       " 1472: 'https://dda.org.in//tendernotices_docs/27112019/1472_5-(LOP).pdf',\n",
       " 1473: 'https://dda.org.in//tendernotices_docs/27112019/1473_1276_C.pdf',\n",
       " 1405: 'https://dda.org.in//tendernotices_docs/27112019/1405_120%20(ELD).pdf',\n",
       " 1471: 'https://dda.org.in//tendernotices_docs/27112019/1471_1273_A.pdf',\n",
       " 633: 'https://dda.org.in//tendernotices_docs/27112019/633_52%20ELD.pdf',\n",
       " 641: 'https://dda.org.in//tendernotices_docs/27112019/641_56%20ELD.pdf',\n",
       " 642: 'https://dda.org.in//tendernotices_docs/27112019/642_121%20ELD.pdf',\n",
       " 640: 'https://dda.org.in//tendernotices_docs/27112019/640_1132.pdf',\n",
       " 1464: 'https://dda.org.in//tendernotices_docs/27112019/1464_58-(LOP).pdf',\n",
       " 1463: 'https://dda.org.in//tendernotices_docs/27112019/1463_13-(ELD).pdf',\n",
       " 1468: 'https://dda.org.in//tendernotices_docs/27112019/1468_58-(LOP).pdf',\n",
       " 289: 'https://dda.org.in//tendernotices_docs/27112019/289_607.pdf',\n",
       " 295: 'https://dda.org.in//tendernotices_docs/27112019/295_197_B.pdf',\n",
       " 22: 'https://dda.org.in//tendernotices_docs/27112019/22_107.pdf',\n",
       " 11: 'https://dda.org.in//tendernotices_docs/27112019/11_743.pdf',\n",
       " 37: 'https://dda.org.in//tendernotices_docs/27112019/37_778.pdf',\n",
       " 30: 'https://dda.org.in//tendernotices_docs/27112019/30_761.pdf',\n",
       " 4: 'https://dda.org.in/tendernotices_docs/27112019/04_157.pdf',\n",
       " 1420: 'https://dda.org.in//tendernotices_docs/27112019/1420_144%20(ELD).pdf',\n",
       " 1397: 'https://dda.org.in//tendernotices_docs/27112019/1397_74.pdf',\n",
       " 1368: 'https://dda.org.in//tendernotices_docs/27112019/1368_305.pdf',\n",
       " 1364: 'https://dda.org.in//tendernotices_docs/27112019/1364_1578.pdf',\n",
       " 1366: 'https://dda.org.in//tendernotices_docs/27112019/1366_1300_B.pdf',\n",
       " 1488: 'https://dda.org.in//tendernotices_docs/27112019/1488_115.pdf',\n",
       " 1486: 'https://dda.org.in//tendernotices_docs/27112019/1486_29-(LOP).pdf',\n",
       " 1485: 'https://dda.org.in//tendernotices_docs/27112019/1485_30%20(LOP).pdf',\n",
       " 1348: 'https://dda.org.in//tendernotices_docs/27112019/1348_1492.pdf',\n",
       " 601: 'https://dda.org.in//tendernotices_docs/27112019/601_360.pdf',\n",
       " 113: 'https://dda.org.in//tendernotices_docs/27112019/113_1543.pdf',\n",
       " 617: 'https://dda.org.in//tendernotices_docs/27112019/617_15-(ELD).pdf',\n",
       " 616: 'https://dda.org.in//tendernotices_docs/27112019/616_1125_A.pdf',\n",
       " 36: 'https://dda.org.in//tendernotices_docs/27112019/36_692.pdf',\n",
       " 920: 'https://dda.org.in//tendernotices_docs/27112019/920_879.pdf',\n",
       " 1438: 'https://dda.org.in//tendernotices_docs/27112019/1438_4.pdf',\n",
       " 1436: 'https://dda.org.in//tendernotices_docs/27112019/1436_67.pdf',\n",
       " 1441: 'https://dda.org.in//tendernotices_docs/27112019/1441_762.pdf',\n",
       " 1439: 'https://dda.org.in//tendernotices_docs/27112019/1439_1531.pdf',\n",
       " 1440: 'https://dda.org.in//tendernotices_docs/27112019/1440_1059.pdf',\n",
       " 1294: 'https://dda.org.in//tendernotices_docs/27112019/1294_133.pdf'}"
      ]
     },
     "execution_count": 248,
     "metadata": {},
     "output_type": "execute_result"
    }
   ],
   "source": [
    "map_url_dict"
   ]
  },
  {
   "cell_type": "markdown",
   "metadata": {},
   "source": [
    "# Extract centroids from all PDF files\n",
    "* Store centroids in a data structure associated with map number\n",
    "* This PDF centroid can be used in both algorithms below."
   ]
  },
  {
   "cell_type": "code",
   "execution_count": 249,
   "metadata": {},
   "outputs": [],
   "source": [
    "map_centroid_crs_dict = uac_utils.generate_map_centroid_crs(map_url_dict)"
   ]
  },
  {
   "cell_type": "code",
   "execution_count": 250,
   "metadata": {},
   "outputs": [
    {
     "data": {
      "text/plain": [
       "[(250,\n",
       "  {'centroid': <shapely.geometry.point.Point at 0x26424b2a048>,\n",
       "   'crs': CRS.from_epsg(32643)}),\n",
       " (1328,\n",
       "  {'centroid': <shapely.geometry.point.Point at 0x26421bb7a88>,\n",
       "   'crs': CRS.from_epsg(32643)}),\n",
       " (1324,\n",
       "  {'centroid': <shapely.geometry.point.Point at 0x26424b2a5c8>,\n",
       "   'crs': CRS.from_epsg(32643)}),\n",
       " (1330,\n",
       "  {'centroid': <shapely.geometry.point.Point at 0x26424b2afc8>,\n",
       "   'crs': CRS.from_epsg(32643)}),\n",
       " (1331,\n",
       "  {'centroid': <shapely.geometry.point.Point at 0x26424b2a8c8>,\n",
       "   'crs': CRS.from_epsg(32643)})]"
      ]
     },
     "execution_count": 250,
     "metadata": {},
     "output_type": "execute_result"
    }
   ],
   "source": [
    "list(map_centroid_crs_dict.items())[:5]"
   ]
  },
  {
   "cell_type": "code",
   "execution_count": 251,
   "metadata": {},
   "outputs": [],
   "source": [
    "# Write map_centroid_crs dictionary to disk:\n",
    "\n",
    "with open('map_centroid_crs_dict_uac_without_missing_maps.data', 'wb') as fp:\n",
    "    pickle.dump(map_centroid_crs_dict, fp)"
   ]
  },
  {
   "cell_type": "code",
   "execution_count": null,
   "metadata": {},
   "outputs": [],
   "source": [
    "# Read in map_centroid_crs dictionary from disk:\n",
    "with open('map_centroid_crs_dict.data', 'rb') as fp:\n",
    "    map_centroid_crs_from_file = pickle.load(fp)"
   ]
  },
  {
   "cell_type": "markdown",
   "metadata": {},
   "source": [
    "## TODO: Create Function to Randomly Generate 29 Maps to Check"
   ]
  },
  {
   "cell_type": "code",
   "execution_count": null,
   "metadata": {},
   "outputs": [],
   "source": []
  },
  {
   "cell_type": "markdown",
   "metadata": {},
   "source": [
    "## Algorithm 1: Distance from PDF centroid to Polygon centroid "
   ]
  },
  {
   "cell_type": "code",
   "execution_count": null,
   "metadata": {},
   "outputs": [],
   "source": [
    "#uac_utils.identify_polygon_from_map_no_and_pdf(uac_merged, 733, map_centroid_crs_dict)"
   ]
  },
  {
   "cell_type": "code",
   "execution_count": 252,
   "metadata": {},
   "outputs": [],
   "source": [
    "# Create new dictionary to store results of which\n",
    "# polygons to keep vs. delete based on algorithm 1\n",
    "polygon_map_matching1 = dict()"
   ]
  },
  {
   "cell_type": "code",
   "execution_count": 253,
   "metadata": {},
   "outputs": [],
   "source": [
    "for map_number in duplicate_map_numbers:\n",
    "    polygon_map_result = uac_utils.identify_polygon_from_map_no_and_pdf(uac_merged_without_missing_maps, \n",
    "                                                                        map_number, \n",
    "                                                                        map_centroid_crs_dict)\n",
    "    polygon_map_matching1[map_number] = polygon_map_result "
   ]
  },
  {
   "cell_type": "code",
   "execution_count": 258,
   "metadata": {},
   "outputs": [
    {
     "data": {
      "text/plain": [
       "[(250, {'delete': [], 'keep': 367}),\n",
       " (1328, {'delete': [1866, 1867, 1868], 'keep': 1888}),\n",
       " (1324,\n",
       "  {'delete': [1870, 1871, 1872, 1873, 1890, 1891, 1892, 1893, 1894],\n",
       "   'keep': 1889}),\n",
       " (1330, {'delete': [1874, 1875, 1876], 'keep': 1877}),\n",
       " (1331, {'delete': [1878, 1879, 1880, 1881, 1883, 1884, 1885], 'keep': 1882}),\n",
       " (1329, {'delete': [1887], 'keep': 1886}),\n",
       " (1325, {'delete': [1895], 'keep': 1896}),\n",
       " (634, {'delete': [1901], 'keep': 1898}),\n",
       " (651, {'delete': [1916, 1926, 1941, 1979, 1983], 'keep': 1906}),\n",
       " (649, {'delete': [1919, 1959], 'keep': 1922}),\n",
       " (672, {'delete': [1927, 1967], 'keep': 1907}),\n",
       " (693, {'delete': [1929], 'keep': 1912}),\n",
       " (682, {'delete': [1932, 1938, 1940], 'keep': 1905}),\n",
       " (662, {'delete': [1943], 'keep': 1935}),\n",
       " (664, {'delete': [1946, 1981], 'keep': 1902}),\n",
       " (650, {'delete': [1921], 'keep': 1947}),\n",
       " (691, {'delete': [1950, 1980], 'keep': 1933}),\n",
       " (671, {'delete': [1954, 1972, 1973, 1975, 1976, 1978], 'keep': 1909}),\n",
       " (673, {'delete': [1911], 'keep': 1955}),\n",
       " (660, {'delete': [1956, 1969], 'keep': 1903}),\n",
       " (657, {'delete': [1917], 'keep': 1958}),\n",
       " (667, {'delete': [1961], 'keep': 1918}),\n",
       " (666, {'delete': [1915], 'keep': 1962}),\n",
       " (680, {'delete': [1964], 'keep': 1910}),\n",
       " (678, {'delete': [1948], 'keep': 1965}),\n",
       " (688, {'delete': [1968], 'keep': 1928}),\n",
       " (674, {'delete': [1923], 'keep': 1971}),\n",
       " (669, {'delete': [1914], 'keep': 1974}),\n",
       " (687, {'delete': [1977], 'keep': 1953}),\n",
       " (679, {'delete': [1924], 'keep': 1982}),\n",
       " (1454,\n",
       "  {'delete': [1984,\n",
       "    1999,\n",
       "    2013,\n",
       "    2015,\n",
       "    2021,\n",
       "    2022,\n",
       "    2023,\n",
       "    2024,\n",
       "    2027,\n",
       "    2028,\n",
       "    2029,\n",
       "    2031,\n",
       "    2032,\n",
       "    2033,\n",
       "    2034,\n",
       "    2042,\n",
       "    2043,\n",
       "    2047,\n",
       "    2048,\n",
       "    2072],\n",
       "   'keep': 1431}),\n",
       " (1499, {'delete': [1986, 2017, 2039, 2056, 2059], 'keep': 1422}),\n",
       " (1347,\n",
       "  {'delete': [1988, 2046, 2050, 2057, 2058, 2060, 2062, 2063], 'keep': 1420}),\n",
       " (1460, {'delete': [1990, 2018, 2045, 2055], 'keep': 1434}),\n",
       " (1482, {'delete': [1992], 'keep': 1423}),\n",
       " (1483, {'delete': [1993], 'keep': 1424}),\n",
       " (1456, {'delete': [1996, 2036, 2054, 2061, 2066, 2068], 'keep': 1435}),\n",
       " (1461, {'delete': [1998, 2070, 2074], 'keep': 1437}),\n",
       " (1497, {'delete': [2000, 2051], 'keep': 1425}),\n",
       " (1500, {'delete': [2002], 'keep': 1426}),\n",
       " (1445, {'delete': [2003, 2025, 2073], 'keep': 1432}),\n",
       " (1496, {'delete': [2004], 'keep': 1427}),\n",
       " (1484, {'delete': [2005], 'keep': 1428}),\n",
       " (1346, {'delete': [2007, 2049], 'keep': 1418}),\n",
       " (1481, {'delete': [2008], 'keep': 1429}),\n",
       " (1511, {'delete': [2010, 2044], 'keep': 1997}),\n",
       " (1533, {'delete': [1985, 2038, 2065], 'keep': 2011}),\n",
       " (1514, {'delete': [2012], 'keep': 2001}),\n",
       " (1512, {'delete': [2014, 2026, 2030], 'keep': 1995}),\n",
       " (1345, {'delete': [2020], 'keep': 1419}),\n",
       " (1510, {'delete': [2035, 2071], 'keep': 1987}),\n",
       " (1457, {'delete': [2037, 2067, 2069], 'keep': 1436}),\n",
       " (1507, {'delete': [1991], 'keep': 2040}),\n",
       " (1480, {'delete': [2041], 'keep': 1433}),\n",
       " (1504, {'delete': [1989, 2052], 'keep': 2053}),\n",
       " (1502, {'delete': [2064], 'keep': 1994}),\n",
       " (1015, {'delete': [2075], 'keep': 2084}),\n",
       " (1393, {'delete': [2096], 'keep': 2100}),\n",
       " (1027, {'delete': [2104, 2112], 'keep': 2108}),\n",
       " (1318, {'delete': [2095], 'keep': 2109}),\n",
       " (646, {'delete': [2122], 'keep': 2123}),\n",
       " (1449,\n",
       "  {'delete': [2125,\n",
       "    2127,\n",
       "    2128,\n",
       "    2130,\n",
       "    2131,\n",
       "    2132,\n",
       "    2133,\n",
       "    2134,\n",
       "    2136,\n",
       "    2137,\n",
       "    2138,\n",
       "    2139,\n",
       "    2140,\n",
       "    2141],\n",
       "   'keep': 1457}),\n",
       " (1450, {'delete': [2126], 'keep': 1456}),\n",
       " (1452, {'delete': [2129], 'keep': 1458}),\n",
       " (1451, {'delete': [2135], 'keep': 1459}),\n",
       " (400, {'delete': [2142], 'keep': 2143}),\n",
       " (1477, {'delete': [2147], 'keep': 1466}),\n",
       " (1475, {'delete': [2148, 2163, 2165], 'keep': 1467}),\n",
       " (1442, {'delete': [2149, 2155], 'keep': 1477}),\n",
       " (1472, {'delete': [2151, 2156, 2158, 2161], 'keep': 1479}),\n",
       " (1473, {'delete': [2152, 2157], 'keep': 1469}),\n",
       " (1405,\n",
       "  {'delete': [2145, 2153, 2160, 2162, 2164, 2166, 2167, 2169, 2170],\n",
       "   'keep': 2168}),\n",
       " (1471, {'delete': [2159], 'keep': 1478}),\n",
       " (633, {'delete': [2173, 2177, 2180, 2183, 2184], 'keep': 2182}),\n",
       " (641, {'delete': [2193, 2194, 2195], 'keep': 2192}),\n",
       " (642, {'delete': [2191], 'keep': 2197}),\n",
       " (640, {'delete': [2187], 'keep': 2198}),\n",
       " (1464, {'delete': [2199, 2205], 'keep': 1577}),\n",
       " (1463, {'delete': [2200], 'keep': 1578}),\n",
       " (1468, {'delete': [2201, 2202, 2203, 2204], 'keep': 1579}),\n",
       " (289, {'delete': [2210, 2223, 2233], 'keep': 2266}),\n",
       " (295, {'delete': [2206, 2227, 2259], 'keep': 2239}),\n",
       " (22, {'delete': [2253], 'keep': 2235}),\n",
       " (11, {'delete': [2234], 'keep': 2268}),\n",
       " (37, {'delete': [2273], 'keep': 2221}),\n",
       " (30, {'delete': [2278], 'keep': 2236}),\n",
       " (4, {'delete': [2279], 'keep': 2248}),\n",
       " (1420, {'delete': [2286, 2288, 2289, 2292], 'keep': 2287}),\n",
       " (1397, {'delete': [2294], 'keep': 2290}),\n",
       " (1368,\n",
       "  {'delete': [2295,\n",
       "    2299,\n",
       "    2300,\n",
       "    2302,\n",
       "    2303,\n",
       "    2306,\n",
       "    2307,\n",
       "    2308,\n",
       "    2309,\n",
       "    2310,\n",
       "    2311,\n",
       "    2313],\n",
       "   'keep': 2304}),\n",
       " (1364, {'delete': [2305], 'keep': 2297}),\n",
       " (1366, {'delete': [2298, 2312], 'keep': 2314}),\n",
       " (1488, {'delete': [2315], 'keep': 1812}),\n",
       " (1486, {'delete': [2316, 2320], 'keep': 1813}),\n",
       " (1485, {'delete': [2318, 2319], 'keep': 1817}),\n",
       " (1348, {'delete': [2323], 'keep': 1825}),\n",
       " (601, {'delete': [2329, 2332, 2338, 2347], 'keep': 2336}),\n",
       " (113, {'delete': [2330], 'keep': 2340}),\n",
       " (617, {'delete': [2356, 2358], 'keep': 2352}),\n",
       " (616, {'delete': [2350], 'keep': 2357}),\n",
       " (36, {'delete': [2359], 'keep': 2327}),\n",
       " (920,\n",
       "  {'delete': [2360, 2361, 2363, 2364, 2365, 2366, 2367, 2368], 'keep': 2362}),\n",
       " (1438, {'delete': [2372], 'keep': 1853})]"
      ]
     },
     "execution_count": 258,
     "metadata": {},
     "output_type": "execute_result"
    }
   ],
   "source": [
    "list(polygon_map_matching1.items())[:-5]"
   ]
  },
  {
   "cell_type": "code",
   "execution_count": null,
   "metadata": {},
   "outputs": [],
   "source": []
  },
  {
   "cell_type": "code",
   "execution_count": 255,
   "metadata": {},
   "outputs": [],
   "source": [
    "# Write polygon_map_matching1 dictionary to disk:\n",
    "\n",
    "with open('polygon_map_matching_uac_without_missing_maps.data', 'wb') as fp:\n",
    "    pickle.dump(polygon_map_matching1, fp)"
   ]
  },
  {
   "cell_type": "code",
   "execution_count": 269,
   "metadata": {},
   "outputs": [
    {
     "data": {
      "text/plain": [
       "<matplotlib.axes._subplots.AxesSubplot at 0x264262fbc88>"
      ]
     },
     "execution_count": 269,
     "metadata": {},
     "output_type": "execute_result"
    },
    {
     "data": {
      "image/png": "[encoded data removed]",
      "text/plain": [
       "<Figure size 432x288 with 1 Axes>"
      ]
     },
     "metadata": {
      "needs_background": "light"
     },
     "output_type": "display_data"
    }
   ],
   "source": [
    "# To visualize map with specific index\n",
    "uac_merged_without_missing_maps[uac_merged_without_missing_maps['index']==2327].plot()"
   ]
  },
  {
   "cell_type": "markdown",
   "metadata": {},
   "source": [
    "### Checking random 5% of duplicate maps\n",
    "* 733: Correct! (https://dda.org.in/tendernotices_docs/27112019/733_291.pdf)\n",
    "* 497: Correct! (https://dda.org.in/tendernotices_docs/27112019/497_676.pdf)\n",
    "* 348: Correct! (https://dda.org.in/tendernotices_docs/27112019/348_1378.pdf)\n",
    "* 1436: Correct! (https://dda.org.in/tendernotices_docs/27112019/1436_67.pdf)\n",
    "* 1572: (https://dda.org.in/tendernotices_docs/27112019/1572_1331.pdf)\n",
    "* 865: Correct! https://dda.org.in/tendernotices_docs/27112019/865_1354B.pdf\n",
    "* 974: Correct! (https://dda.org.in/tendernotices_docs/27112019/974_1175_A.pdf)\n",
    "* 738: Correct! (https://dda.org.in/tendernotices_docs/27112019/738_806_A.pdf)\n",
    "* 990: Correct!\n",
    "* 224: Correct!"
   ]
  },
  {
   "cell_type": "markdown",
   "metadata": {},
   "source": [
    "## Checking that no index to be deleted is in keep list (and vice versa)"
   ]
  },
  {
   "cell_type": "code",
   "execution_count": 270,
   "metadata": {},
   "outputs": [],
   "source": [
    "delete_list = []\n",
    "keep_list = []\n",
    "\n",
    "for key, val in polygon_map_matching1.items():\n",
    "    delete_list.extend(val['delete'])\n",
    "    keep_list.append(val['keep'])"
   ]
  },
  {
   "cell_type": "code",
   "execution_count": 271,
   "metadata": {},
   "outputs": [
    {
     "data": {
      "text/plain": [
       "[]"
      ]
     },
     "execution_count": 271,
     "metadata": {},
     "output_type": "execute_result"
    }
   ],
   "source": [
    "[keep_num for keep_num in keep_list if keep_num in delete_list]"
   ]
  },
  {
   "cell_type": "code",
   "execution_count": 272,
   "metadata": {},
   "outputs": [
    {
     "data": {
      "text/plain": [
       "[]"
      ]
     },
     "execution_count": 272,
     "metadata": {},
     "output_type": "execute_result"
    }
   ],
   "source": [
    "[delete_num for delete_num in delete_list if delete_num in keep_list]"
   ]
  },
  {
   "cell_type": "code",
   "execution_count": 273,
   "metadata": {},
   "outputs": [
    {
     "data": {
      "text/plain": [
       "[1866, 1867, 1868, 1870, 1871]"
      ]
     },
     "execution_count": 273,
     "metadata": {},
     "output_type": "execute_result"
    }
   ],
   "source": [
    "# Visualize first 5 of delete_list\n",
    "delete_list[:5]"
   ]
  },
  {
   "cell_type": "markdown",
   "metadata": {},
   "source": [
    "## Delete rows"
   ]
  },
  {
   "cell_type": "code",
   "execution_count": 274,
   "metadata": {},
   "outputs": [],
   "source": [
    "# Created GeoDataFrame removing all rows with an index\n",
    "# in delete_list\n",
    "uac_merged_without_missing_maps = uac_merged_without_missing_maps.drop(index=delete_list)"
   ]
  },
  {
   "cell_type": "code",
   "execution_count": 275,
   "metadata": {},
   "outputs": [
    {
     "data": {
      "text/plain": [
       "1480"
      ]
     },
     "execution_count": 275,
     "metadata": {},
     "output_type": "execute_result"
    }
   ],
   "source": [
    "# Check length of uac_merged_final\n",
    "len(uac_merged_without_missing_maps)"
   ]
  },
  {
   "cell_type": "markdown",
   "metadata": {},
   "source": [
    "## Merge Files"
   ]
  },
  {
   "cell_type": "code",
   "execution_count": 278,
   "metadata": {},
   "outputs": [],
   "source": [
    "# Make copy of uac_merged\n",
    "uac_merged_final = gpd.GeoDataFrame(pd.concat([uac_merged_without_missing_maps, uac_missing_maps]),\n",
    "                                    crs=CRS.from_epsg(3857).to_wkt(), geometry=\"geometry\")"
   ]
  },
  {
   "cell_type": "code",
   "execution_count": 279,
   "metadata": {},
   "outputs": [
    {
     "data": {
      "text/html": [
       "<div>\n",
       "<style scoped>\n",
       "    .dataframe tbody tr th:only-of-type {\n",
       "        vertical-align: middle;\n",
       "    }\n",
       "\n",
       "    .dataframe tbody tr th {\n",
       "        vertical-align: top;\n",
       "    }\n",
       "\n",
       "    .dataframe thead th {\n",
       "        text-align: right;\n",
       "    }\n",
       "</style>\n",
       "<table border=\"1\" class=\"dataframe\">\n",
       "  <thead>\n",
       "    <tr style=\"text-align: right;\">\n",
       "      <th></th>\n",
       "      <th>MAP_NO</th>\n",
       "      <th>REGISTRATI</th>\n",
       "      <th>IMG_NM_IND</th>\n",
       "      <th>FME_DATASE</th>\n",
       "      <th>geometry</th>\n",
       "      <th>index</th>\n",
       "    </tr>\n",
       "  </thead>\n",
       "  <tbody>\n",
       "    <tr>\n",
       "      <th>0</th>\n",
       "      <td>520</td>\n",
       "      <td>570</td>\n",
       "      <td>SHIV COLNY KATEWADA</td>\n",
       "      <td>D:\\UC Downloads\\UC_501-600-Done\\520_570.pdf</td>\n",
       "      <td>POLYGON ((8568698.722 3350778.289, 8568688.910...</td>\n",
       "      <td>0</td>\n",
       "    </tr>\n",
       "    <tr>\n",
       "      <th>1</th>\n",
       "      <td>509</td>\n",
       "      <td>888</td>\n",
       "      <td>KRISHNA COLONY</td>\n",
       "      <td>D:\\UC Downloads\\UC_501-600-Done\\509_888.pdf</td>\n",
       "      <td>POLYGON ((8580894.912 3343225.741, 8580905.114...</td>\n",
       "      <td>1</td>\n",
       "    </tr>\n",
       "    <tr>\n",
       "      <th>2</th>\n",
       "      <td>516</td>\n",
       "      <td>658</td>\n",
       "      <td>INDRAJ COLONY</td>\n",
       "      <td>D:\\UC Downloads\\UC_501-600-Done\\516_658.pdf</td>\n",
       "      <td>POLYGON ((8574843.534 3349736.689, 8574924.630...</td>\n",
       "      <td>2</td>\n",
       "    </tr>\n",
       "    <tr>\n",
       "      <th>3</th>\n",
       "      <td>503</td>\n",
       "      <td>200</td>\n",
       "      <td>NEW COLONY SANNOTH,NARELA</td>\n",
       "      <td>D:\\UC Downloads\\UC_501-600-Done\\503_200.pdf</td>\n",
       "      <td>POLYGON ((8578433.979 3352949.941, 8578436.107...</td>\n",
       "      <td>3</td>\n",
       "    </tr>\n",
       "    <tr>\n",
       "      <th>4</th>\n",
       "      <td>504</td>\n",
       "      <td>1194</td>\n",
       "      <td>VISHAL ENCLAVE</td>\n",
       "      <td>D:\\UC Downloads\\UC_501-600-Done\\504_1194.pdf</td>\n",
       "      <td>POLYGON ((8579255.777 3353628.687, 8579180.169...</td>\n",
       "      <td>4</td>\n",
       "    </tr>\n",
       "  </tbody>\n",
       "</table>\n",
       "</div>"
      ],
      "text/plain": [
       "   MAP_NO REGISTRATI                 IMG_NM_IND  \\\n",
       "0     520        570        SHIV COLNY KATEWADA   \n",
       "1     509        888             KRISHNA COLONY   \n",
       "2     516        658              INDRAJ COLONY   \n",
       "3     503        200  NEW COLONY SANNOTH,NARELA   \n",
       "4     504       1194             VISHAL ENCLAVE   \n",
       "\n",
       "                                     FME_DATASE  \\\n",
       "0   D:\\UC Downloads\\UC_501-600-Done\\520_570.pdf   \n",
       "1   D:\\UC Downloads\\UC_501-600-Done\\509_888.pdf   \n",
       "2   D:\\UC Downloads\\UC_501-600-Done\\516_658.pdf   \n",
       "3   D:\\UC Downloads\\UC_501-600-Done\\503_200.pdf   \n",
       "4  D:\\UC Downloads\\UC_501-600-Done\\504_1194.pdf   \n",
       "\n",
       "                                            geometry  index  \n",
       "0  POLYGON ((8568698.722 3350778.289, 8568688.910...      0  \n",
       "1  POLYGON ((8580894.912 3343225.741, 8580905.114...      1  \n",
       "2  POLYGON ((8574843.534 3349736.689, 8574924.630...      2  \n",
       "3  POLYGON ((8578433.979 3352949.941, 8578436.107...      3  \n",
       "4  POLYGON ((8579255.777 3353628.687, 8579180.169...      4  "
      ]
     },
     "execution_count": 279,
     "metadata": {},
     "output_type": "execute_result"
    }
   ],
   "source": [
    "uac_merged_final.head()"
   ]
  },
  {
   "cell_type": "code",
   "execution_count": 280,
   "metadata": {},
   "outputs": [
    {
     "data": {
      "text/plain": [
       "1487"
      ]
     },
     "execution_count": 280,
     "metadata": {},
     "output_type": "execute_result"
    }
   ],
   "source": [
    "len(uac_merged_final)"
   ]
  },
  {
   "cell_type": "code",
   "execution_count": 281,
   "metadata": {},
   "outputs": [
    {
     "data": {
      "text/plain": [
       "<Projected CRS: EPSG:3857>\n",
       "Name: WGS 84 / Pseudo-Mercator\n",
       "Axis Info [cartesian]:\n",
       "- E[east]: Easting (metre)\n",
       "- N[north]: Northing (metre)\n",
       "Area of Use:\n",
       "- name: World - 85°S to 85°N\n",
       "- bounds: (-180.0, -85.06, 180.0, 85.06)\n",
       "Coordinate Operation:\n",
       "- name: unnamed\n",
       "- method: Popular Visualisation Pseudo Mercator\n",
       "Datum: World Geodetic System 1984\n",
       "- Ellipsoid: WGS 84\n",
       "- Prime Meridian: Greenwich"
      ]
     },
     "execution_count": 281,
     "metadata": {},
     "output_type": "execute_result"
    }
   ],
   "source": [
    "uac_merged_final.crs"
   ]
  },
  {
   "cell_type": "markdown",
   "metadata": {},
   "source": [
    "## Save uac_merged_final file"
   ]
  },
  {
   "cell_type": "code",
   "execution_count": 282,
   "metadata": {},
   "outputs": [],
   "source": [
    "uac_merged_final.to_file(\"uac_final_deduplicated.shp\")"
   ]
  },
  {
   "cell_type": "markdown",
   "metadata": {},
   "source": [
    "## Random checks for Anya"
   ]
  },
  {
   "cell_type": "code",
   "execution_count": null,
   "metadata": {},
   "outputs": [],
   "source": [
    "import random\n",
    "random_ints = random.sample(range(565), 29)\n",
    "random_ints"
   ]
  },
  {
   "cell_type": "code",
   "execution_count": null,
   "metadata": {},
   "outputs": [],
   "source": []
  }
 ],
 "metadata": {
  "kernelspec": {
   "display_name": "Python 3",
   "language": "python",
   "name": "python3"
  },
  "language_info": {
   "codemirror_mode": {
    "name": "ipython",
    "version": 3
   },
   "file_extension": ".py",
   "mimetype": "text/x-python",
   "name": "python",
   "nbconvert_exporter": "python",
   "pygments_lexer": "ipython3",
   "version": "3.7.7"
  }
 },
 "nbformat": 4,
 "nbformat_minor": 4
}
