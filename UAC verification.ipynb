{
 "cells": [
  {
   "cell_type": "code",
   "execution_count": 26,
   "metadata": {},
   "outputs": [],
   "source": [
    "import os\n",
    "import random\n",
    "import math\n",
    "import pandas as pd\n",
    "import geopandas as gpd"
   ]
  },
  {
   "cell_type": "markdown",
   "metadata": {},
   "source": [
    "## Import final colonies shapefile (including UACs)"
   ]
  },
  {
   "cell_type": "code",
   "execution_count": 7,
   "metadata": {},
   "outputs": [],
   "source": [
    "colonies_fp = '../spatial_index_python/shapefiles/Spatial_Index_GIS/Colony_Shapefile/USO23Aug2020.shp'"
   ]
  },
  {
   "cell_type": "code",
   "execution_count": 10,
   "metadata": {},
   "outputs": [],
   "source": [
    "colonies = gpd.read_file(colonies_fp)"
   ]
  },
  {
   "cell_type": "code",
   "execution_count": 13,
   "metadata": {},
   "outputs": [
    {
     "data": {
      "text/html": [
       "<div>\n",
       "<style scoped>\n",
       "    .dataframe tbody tr th:only-of-type {\n",
       "        vertical-align: middle;\n",
       "    }\n",
       "\n",
       "    .dataframe tbody tr th {\n",
       "        vertical-align: top;\n",
       "    }\n",
       "\n",
       "    .dataframe thead th {\n",
       "        text-align: right;\n",
       "    }\n",
       "</style>\n",
       "<table border=\"1\" class=\"dataframe\">\n",
       "  <thead>\n",
       "    <tr style=\"text-align: right;\">\n",
       "      <th></th>\n",
       "      <th>AREA</th>\n",
       "      <th>USO_AREA_U</th>\n",
       "      <th>HOUSETAX_C</th>\n",
       "      <th>USO_FINAL</th>\n",
       "      <th>geometry</th>\n",
       "    </tr>\n",
       "  </thead>\n",
       "  <tbody>\n",
       "    <tr>\n",
       "      <th>0</th>\n",
       "      <td>NEW DELHI 36</td>\n",
       "      <td>5584</td>\n",
       "      <td>None</td>\n",
       "      <td>Planned</td>\n",
       "      <td>POLYGON Z ((1020282.788 996796.773 0.000, 1020...</td>\n",
       "    </tr>\n",
       "    <tr>\n",
       "      <th>1</th>\n",
       "      <td>NEW DELHI 35</td>\n",
       "      <td>5585</td>\n",
       "      <td>None</td>\n",
       "      <td>Planned</td>\n",
       "      <td>POLYGON Z ((1019724.475 994932.797 0.000, 1019...</td>\n",
       "    </tr>\n",
       "    <tr>\n",
       "      <th>2</th>\n",
       "      <td>NEW DELHI 34</td>\n",
       "      <td>5586</td>\n",
       "      <td>None</td>\n",
       "      <td>Planned</td>\n",
       "      <td>POLYGON Z ((1019571.955 994876.019 0.000, 1019...</td>\n",
       "    </tr>\n",
       "    <tr>\n",
       "      <th>3</th>\n",
       "      <td>NEW DELHI 33</td>\n",
       "      <td>5587</td>\n",
       "      <td>None</td>\n",
       "      <td>Planned</td>\n",
       "      <td>POLYGON Z ((1019352.702 994352.546 0.000, 1019...</td>\n",
       "    </tr>\n",
       "    <tr>\n",
       "      <th>4</th>\n",
       "      <td>NEW DELHI 32</td>\n",
       "      <td>5588</td>\n",
       "      <td>None</td>\n",
       "      <td>Planned</td>\n",
       "      <td>POLYGON Z ((1018793.292 994224.182 0.000, 1018...</td>\n",
       "    </tr>\n",
       "  </tbody>\n",
       "</table>\n",
       "</div>"
      ],
      "text/plain": [
       "           AREA  USO_AREA_U HOUSETAX_C USO_FINAL  \\\n",
       "0  NEW DELHI 36        5584       None   Planned   \n",
       "1  NEW DELHI 35        5585       None   Planned   \n",
       "2  NEW DELHI 34        5586       None   Planned   \n",
       "3  NEW DELHI 33        5587       None   Planned   \n",
       "4  NEW DELHI 32        5588       None   Planned   \n",
       "\n",
       "                                            geometry  \n",
       "0  POLYGON Z ((1020282.788 996796.773 0.000, 1020...  \n",
       "1  POLYGON Z ((1019724.475 994932.797 0.000, 1019...  \n",
       "2  POLYGON Z ((1019571.955 994876.019 0.000, 1019...  \n",
       "3  POLYGON Z ((1019352.702 994352.546 0.000, 1019...  \n",
       "4  POLYGON Z ((1018793.292 994224.182 0.000, 1018...  "
      ]
     },
     "execution_count": 13,
     "metadata": {},
     "output_type": "execute_result"
    }
   ],
   "source": [
    "colonies.head()"
   ]
  },
  {
   "cell_type": "markdown",
   "metadata": {},
   "source": [
    "## Get total count of UAC's and randomly select 5% of UACs for manual verification "
   ]
  },
  {
   "cell_type": "code",
   "execution_count": 18,
   "metadata": {},
   "outputs": [],
   "source": [
    "uac = colonies[colonies['USO_FINAL'] == 'UAC']"
   ]
  },
  {
   "cell_type": "code",
   "execution_count": 19,
   "metadata": {},
   "outputs": [
    {
     "name": "stdout",
     "output_type": "stream",
     "text": [
      "1684\n"
     ]
    }
   ],
   "source": [
    "num_uacs = len(uac)\n",
    "print(num_uacs)"
   ]
  },
  {
   "cell_type": "code",
   "execution_count": 27,
   "metadata": {},
   "outputs": [
    {
     "data": {
      "text/plain": [
       "85"
      ]
     },
     "execution_count": 27,
     "metadata": {},
     "output_type": "execute_result"
    }
   ],
   "source": [
    "# Calculate 5%\n",
    "five_percent = math.ceil(num_uacs*0.05)\n",
    "five_percent"
   ]
  },
  {
   "cell_type": "code",
   "execution_count": null,
   "metadata": {},
   "outputs": [],
   "source": []
  }
 ],
 "metadata": {
  "kernelspec": {
   "display_name": "Python 3",
   "language": "python",
   "name": "python3"
  },
  "language_info": {
   "codemirror_mode": {
    "name": "ipython",
    "version": 3
   },
   "file_extension": ".py",
   "mimetype": "text/x-python",
   "name": "python",
   "nbconvert_exporter": "python",
   "pygments_lexer": "ipython3",
   "version": "3.7.7"
  }
 },
 "nbformat": 4,
 "nbformat_minor": 4
}
