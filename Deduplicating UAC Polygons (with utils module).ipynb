{
 "cells": [
  {
   "cell_type": "markdown",
   "metadata": {},
   "source": [
    "# Unauthorized Colonies Data De-Duplication\n",
    "\n",
    "* Import all Shapefiles **[DONE]**\n",
    "* Check that there are no duplicate rows **[DONE]**\n",
    "* Set Index as Column  **[DONE]**\n",
    "* Identify which attribute has multiple labels (I think map or something like that) **[DONE]**\n",
    "* Find the subset of Map Numbers that have multiple polygons for them **[DONE]**\n",
    "* Generate PDF URLs from HTML file **[DONE]**\n",
    "    * Extract URL segments via regex\n",
    "    * Create URLs\n",
    "    * Associate each map number to PDF URL\n",
    "* Extract centroids from all PDF files **[DONE]**\n",
    "    * Store centroids in a data structure associated with map number\n",
    "    * This PDF centroid can be used in both algorithms below.\n",
    "* Algorithm 1: Distance from PDF centroid to Polygon Centroid\n",
    "    * Extract all PDF URL's from DDA website source (use combination of map no and registration number to figure out precise URL)\n",
    "    * Apply PDF bounds algorithm to this\n",
    "* **New Approach** Algorithm 2: Distance from PDF centroid to nearest polygon border\n",
    "    * Compute distance from centroid of PDF to nearest polygon: start with `shapely.ops.nearest_points`\n",
    "    * Run algorithm on random 10 selected before\n",
    "        * If all 10 correct, go to comparative approach below\n",
    "        * If not all 10 correct, just run algorithm 1 and have Anya manually inspect random 5% \n",
    "* Comparative Approach\n",
    "    * Run both algorithms (Polygon centroid vs. nearest border)\n",
    "    * If keep polygon is same for both, decide which to accept which to eliminate (return dictionary).\n",
    "        * Write function to delete all duplicate rows.\n",
    "    * If keep polygons are different, put in list for manual inspection.\n",
    "* Generate random list of 29 (5%) of map numbers to check for. This needs to be written to a text file for Anya. \n",
    "* Complete and save"
   ]
  },
  {
   "cell_type": "code",
   "execution_count": 137,
   "metadata": {},
   "outputs": [],
   "source": [
    "# Import necessary modules\n",
    "import pickle\n",
    "import re\n",
    "import importlib\n",
    "import matplotlib.pyplot as plt\n",
    "import pandas as pd\n",
    "import geopandas as gpd\n",
    "from shapely.geometry import box, Polygon, MultiPolygon, LineString, MultiLineString \n",
    "from shapely.ops import polygonize, unary_union\n",
    "from pyproj import CRS\n",
    "import rasterio\n",
    "\n",
    "import uac_utils"
   ]
  },
  {
   "cell_type": "code",
   "execution_count": 177,
   "metadata": {},
   "outputs": [
    {
     "data": {
      "text/plain": [
       "<module 'uac_utils' from \"C:\\\\Users\\\\bwbel\\\\Google Drive\\\\slum_project\\\\UAC's Data Deduplication\\\\uac_utils.py\">"
      ]
     },
     "execution_count": 177,
     "metadata": {},
     "output_type": "execute_result"
    }
   ],
   "source": [
    "# Reload uac_utils when it gets updated\n",
    "importlib.reload(uac_utils)"
   ]
  },
  {
   "cell_type": "code",
   "execution_count": 2,
   "metadata": {},
   "outputs": [],
   "source": [
    "%matplotlib inline"
   ]
  },
  {
   "cell_type": "markdown",
   "metadata": {},
   "source": [
    "## Import UAC Shapefiles"
   ]
  },
  {
   "cell_type": "code",
   "execution_count": 3,
   "metadata": {},
   "outputs": [],
   "source": [
    "uac_merged = gpd.read_file(filename=\"UAC_Merged.shp\")"
   ]
  },
  {
   "cell_type": "code",
   "execution_count": 4,
   "metadata": {},
   "outputs": [
    {
     "data": {
      "text/plain": [
       "<Projected CRS: EPSG:3857>\n",
       "Name: WGS 84 / Pseudo-Mercator\n",
       "Axis Info [cartesian]:\n",
       "- X[east]: Easting (metre)\n",
       "- Y[north]: Northing (metre)\n",
       "Area of Use:\n",
       "- name: World - 85°S to 85°N\n",
       "- bounds: (-180.0, -85.06, 180.0, 85.06)\n",
       "Coordinate Operation:\n",
       "- name: Popular Visualisation Pseudo-Mercator\n",
       "- method: Popular Visualisation Pseudo Mercator\n",
       "Datum: World Geodetic System 1984\n",
       "- Ellipsoid: WGS 84\n",
       "- Prime Meridian: Greenwich"
      ]
     },
     "execution_count": 4,
     "metadata": {},
     "output_type": "execute_result"
    }
   ],
   "source": [
    "uac_merged.crs"
   ]
  },
  {
   "cell_type": "markdown",
   "metadata": {},
   "source": [
    "## Check that there are no duplicate rows"
   ]
  },
  {
   "cell_type": "code",
   "execution_count": 5,
   "metadata": {},
   "outputs": [
    {
     "data": {
      "text/plain": [
       "False"
      ]
     },
     "execution_count": 5,
     "metadata": {},
     "output_type": "execute_result"
    }
   ],
   "source": [
    "# No duplicate rows!\n",
    "uac_utils.gdf_has_duplicate_rows(uac_merged)"
   ]
  },
  {
   "cell_type": "markdown",
   "metadata": {},
   "source": [
    "## Set Index as a Column"
   ]
  },
  {
   "cell_type": "code",
   "execution_count": 6,
   "metadata": {},
   "outputs": [],
   "source": [
    "uac_merged = uac_utils.create_index_column(uac_merged)"
   ]
  },
  {
   "cell_type": "code",
   "execution_count": 148,
   "metadata": {},
   "outputs": [
    {
     "data": {
      "text/html": [
       "<div>\n",
       "<style scoped>\n",
       "    .dataframe tbody tr th:only-of-type {\n",
       "        vertical-align: middle;\n",
       "    }\n",
       "\n",
       "    .dataframe tbody tr th {\n",
       "        vertical-align: top;\n",
       "    }\n",
       "\n",
       "    .dataframe thead th {\n",
       "        text-align: right;\n",
       "    }\n",
       "</style>\n",
       "<table border=\"1\" class=\"dataframe\">\n",
       "  <thead>\n",
       "    <tr style=\"text-align: right;\">\n",
       "      <th></th>\n",
       "      <th>OBJECTID</th>\n",
       "      <th>MAP_NO</th>\n",
       "      <th>REGISTRATI</th>\n",
       "      <th>IMG_NM_IND</th>\n",
       "      <th>FME_DATASE</th>\n",
       "      <th>layer</th>\n",
       "      <th>path</th>\n",
       "      <th>geometry</th>\n",
       "      <th>index</th>\n",
       "    </tr>\n",
       "  </thead>\n",
       "  <tbody>\n",
       "    <tr>\n",
       "      <th>0</th>\n",
       "      <td>1</td>\n",
       "      <td>520</td>\n",
       "      <td>570</td>\n",
       "      <td>SHIV COLNY KATEWADA</td>\n",
       "      <td>D:\\UC Downloads\\UC_501-600-Done\\520_570.pdf</td>\n",
       "      <td>1to600</td>\n",
       "      <td>/home/hb/Documents/USO/Spatial_Index_Project/U...</td>\n",
       "      <td>POLYGON ((8568698.722 3350778.289, 8568688.910...</td>\n",
       "      <td>0</td>\n",
       "    </tr>\n",
       "    <tr>\n",
       "      <th>1</th>\n",
       "      <td>2</td>\n",
       "      <td>509</td>\n",
       "      <td>888</td>\n",
       "      <td>KRISHNA COLONY</td>\n",
       "      <td>D:\\UC Downloads\\UC_501-600-Done\\509_888.pdf</td>\n",
       "      <td>1to600</td>\n",
       "      <td>/home/hb/Documents/USO/Spatial_Index_Project/U...</td>\n",
       "      <td>POLYGON ((8580894.912 3343225.741, 8580905.114...</td>\n",
       "      <td>1</td>\n",
       "    </tr>\n",
       "  </tbody>\n",
       "</table>\n",
       "</div>"
      ],
      "text/plain": [
       "   OBJECTID  MAP_NO REGISTRATI           IMG_NM_IND  \\\n",
       "0         1     520        570  SHIV COLNY KATEWADA   \n",
       "1         2     509        888       KRISHNA COLONY   \n",
       "\n",
       "                                    FME_DATASE   layer  \\\n",
       "0  D:\\UC Downloads\\UC_501-600-Done\\520_570.pdf  1to600   \n",
       "1  D:\\UC Downloads\\UC_501-600-Done\\509_888.pdf  1to600   \n",
       "\n",
       "                                                path  \\\n",
       "0  /home/hb/Documents/USO/Spatial_Index_Project/U...   \n",
       "1  /home/hb/Documents/USO/Spatial_Index_Project/U...   \n",
       "\n",
       "                                            geometry  index  \n",
       "0  POLYGON ((8568698.722 3350778.289, 8568688.910...      0  \n",
       "1  POLYGON ((8580894.912 3343225.741, 8580905.114...      1  "
      ]
     },
     "execution_count": 148,
     "metadata": {},
     "output_type": "execute_result"
    }
   ],
   "source": [
    "uac_merged.head(2)"
   ]
  },
  {
   "cell_type": "markdown",
   "metadata": {},
   "source": [
    "## Confirm all Geometries are (Multi)Polygons"
   ]
  },
  {
   "cell_type": "code",
   "execution_count": 8,
   "metadata": {},
   "outputs": [
    {
     "data": {
      "text/plain": [
       "True"
      ]
     },
     "execution_count": 8,
     "metadata": {},
     "output_type": "execute_result"
    }
   ],
   "source": [
    "uac_utils.all_polygon_geometries(uac_merged)"
   ]
  },
  {
   "cell_type": "markdown",
   "metadata": {},
   "source": [
    "## Identify which attribute(s) has/have multiple labels"
   ]
  },
  {
   "cell_type": "code",
   "execution_count": 9,
   "metadata": {},
   "outputs": [],
   "source": [
    "map_registration_dict = uac_utils.create_map_registration_dict(uac_merged)"
   ]
  },
  {
   "cell_type": "code",
   "execution_count": 150,
   "metadata": {},
   "outputs": [
    {
     "data": {
      "text/plain": [
       "[(520, {'570'}),\n",
       " (509, {'888'}),\n",
       " (516, {'658'}),\n",
       " (503, {'200'}),\n",
       " (504, {'1194'})]"
      ]
     },
     "execution_count": 150,
     "metadata": {},
     "output_type": "execute_result"
    }
   ],
   "source": [
    "# Show first 5\n",
    "list(map_registration_dict.items())[:5]"
   ]
  },
  {
   "cell_type": "markdown",
   "metadata": {},
   "source": [
    "Let's write some code to see if each map number has one and only one registration number"
   ]
  },
  {
   "cell_type": "code",
   "execution_count": 11,
   "metadata": {},
   "outputs": [],
   "source": [
    "# Check if number of registration numbers for each Map No is always 1\n",
    "for key, val in map_registration_dict.items():\n",
    "    if len(val) != 1:\n",
    "        print(key, val)"
   ]
  },
  {
   "cell_type": "markdown",
   "metadata": {},
   "source": [
    "## Find subset of Map Numbers that are Duplicated"
   ]
  },
  {
   "cell_type": "code",
   "execution_count": 12,
   "metadata": {},
   "outputs": [
    {
     "name": "stdout",
     "output_type": "stream",
     "text": [
      "Number of map numbers that are duplicated: 566\n"
     ]
    }
   ],
   "source": [
    "duplicate_map_numbers = uac_utils.maps_numbers_with_duplicate_polygons(uac_merged)"
   ]
  },
  {
   "cell_type": "markdown",
   "metadata": {},
   "source": [
    "## Generate PDF URLs from HTML file\n",
    "* Extract URL segments via regex\n",
    "* Create URLs\n",
    "* Associate each map number to PDF URL"
   ]
  },
  {
   "cell_type": "code",
   "execution_count": 144,
   "metadata": {},
   "outputs": [],
   "source": [
    "map_url_dict = uac_utils.generate_map_URLs(duplicate_map_numbers)"
   ]
  },
  {
   "cell_type": "code",
   "execution_count": 147,
   "metadata": {},
   "outputs": [
    {
     "data": {
      "text/plain": [
       "[(521, 'https://dda.org.in//tendernotices_docs/27112019/521_343.pdf'),\n",
       " (526, 'https://dda.org.in//tendernotices_docs/27112019/526_25.pdf'),\n",
       " (190, 'https://dda.org.in//tendernotices_docs/27112019/190_772%20A.pdf'),\n",
       " (184, 'https://dda.org.in//tendernotices_docs/27112019/184_809.pdf'),\n",
       " (166, 'https://dda.org.in//tendernotices_docs/27112019/166_444.pdf')]"
      ]
     },
     "execution_count": 147,
     "metadata": {},
     "output_type": "execute_result"
    }
   ],
   "source": [
    "# Show first 5 entries\n",
    "list(map_url_dict.items())[:5]"
   ]
  },
  {
   "cell_type": "markdown",
   "metadata": {},
   "source": [
    "# Extract centroids from all PDF files\n",
    "* Store centroids in a data structure associated with map number\n",
    "* This PDF centroid can be used in both algorithms below."
   ]
  },
  {
   "cell_type": "code",
   "execution_count": 163,
   "metadata": {},
   "outputs": [],
   "source": [
    "map_centroid_crs_dict = uac_utils.generate_map_centroid_crs(map_url_dict)"
   ]
  },
  {
   "cell_type": "code",
   "execution_count": 164,
   "metadata": {},
   "outputs": [
    {
     "data": {
      "text/plain": [
       "[(521,\n",
       "  {'centroid': <shapely.geometry.point.Point at 0x2ba6782a788>,\n",
       "   'crs': CRS.from_epsg(32643)}),\n",
       " (526,\n",
       "  {'centroid': <shapely.geometry.point.Point at 0x2ba672134c8>,\n",
       "   'crs': CRS.from_epsg(32643)}),\n",
       " (190,\n",
       "  {'centroid': <shapely.geometry.point.Point at 0x2ba6782a448>,\n",
       "   'crs': CRS.from_epsg(32643)}),\n",
       " (184,\n",
       "  {'centroid': <shapely.geometry.point.Point at 0x2ba6782a888>,\n",
       "   'crs': CRS.from_epsg(32643)}),\n",
       " (166,\n",
       "  {'centroid': <shapely.geometry.point.Point at 0x2ba6782a588>,\n",
       "   'crs': CRS.from_epsg(32643)})]"
      ]
     },
     "execution_count": 164,
     "metadata": {},
     "output_type": "execute_result"
    }
   ],
   "source": [
    "list(map_centroid_crs_dict.items())[:5]"
   ]
  },
  {
   "cell_type": "code",
   "execution_count": 165,
   "metadata": {},
   "outputs": [],
   "source": [
    "# Write map_centroid_crs dictionary to disk:\n",
    "\n",
    "with open('map_centroid_crs_dict.data', 'wb') as fp:\n",
    "    pickle.dump(map_centroid_crs_dict, fp)"
   ]
  },
  {
   "cell_type": "code",
   "execution_count": 166,
   "metadata": {},
   "outputs": [],
   "source": [
    "# Read in map_centroid_crs dictionary from disk:\n",
    "with open('map_centroid_crs_dict.data', 'rb') as fp:\n",
    "    map_centroid_crs_from_file = pickle.load(fp)"
   ]
  },
  {
   "cell_type": "markdown",
   "metadata": {},
   "source": [
    "## TODO: Create Function to Randomly Generate 29 Maps to Check"
   ]
  },
  {
   "cell_type": "code",
   "execution_count": null,
   "metadata": {},
   "outputs": [],
   "source": []
  },
  {
   "cell_type": "markdown",
   "metadata": {},
   "source": [
    "## Algorithm 1: Distance from PDF centroid to Polygon centroid "
   ]
  },
  {
   "cell_type": "code",
   "execution_count": 179,
   "metadata": {},
   "outputs": [
    {
     "data": {
      "text/plain": [
       "{'delete': [1408, 1429, 1862, 1883], 'keep': 1861}"
      ]
     },
     "execution_count": 179,
     "metadata": {},
     "output_type": "execute_result"
    }
   ],
   "source": [
    "uac_utils.identify_polygon_from_map_no_and_pdf(uac_merged, 733, map_centroid_crs_dict)"
   ]
  },
  {
   "cell_type": "code",
   "execution_count": 185,
   "metadata": {},
   "outputs": [],
   "source": [
    "# Create new dictionary to store results of which\n",
    "# polygons to keep vs. delete based on algorithm 1\n",
    "polygon_map_matching1 = dict()"
   ]
  },
  {
   "cell_type": "code",
   "execution_count": 186,
   "metadata": {},
   "outputs": [],
   "source": [
    "for map_number in duplicate_map_numbers:\n",
    "    polygon_map_result = uac_utils.identify_polygon_from_map_no_and_pdf(uac_merged, \n",
    "                                                                        map_number, \n",
    "                                                                        map_centroid_crs_dict)\n",
    "    polygon_map_matching1[map_number] = polygon_map_result "
   ]
  },
  {
   "cell_type": "code",
   "execution_count": 187,
   "metadata": {},
   "outputs": [
    {
     "data": {
      "text/plain": [
       "[(521, {'delete': [18, 672, 701, 730], 'keep': 727}),\n",
       " (526, {'delete': [26, 680, 709, 738], 'keep': 729}),\n",
       " (190,\n",
       "  {'delete': [29,\n",
       "    32,\n",
       "    45,\n",
       "    48,\n",
       "    71,\n",
       "    87,\n",
       "    92,\n",
       "    94,\n",
       "    95,\n",
       "    96,\n",
       "    97,\n",
       "    100,\n",
       "    102,\n",
       "    103,\n",
       "    104,\n",
       "    105],\n",
       "   'keep': 41}),\n",
       " (184, {'delete': [33, 72], 'keep': 93}),\n",
       " (166, {'delete': [74], 'keep': 50})]"
      ]
     },
     "execution_count": 187,
     "metadata": {},
     "output_type": "execute_result"
    }
   ],
   "source": [
    "list(polygon_map_matching1.items())[:5]"
   ]
  },
  {
   "cell_type": "code",
   "execution_count": null,
   "metadata": {},
   "outputs": [],
   "source": []
  },
  {
   "cell_type": "code",
   "execution_count": 188,
   "metadata": {},
   "outputs": [],
   "source": [
    "# Write polygon_map_matching1 dictionary to disk:\n",
    "\n",
    "with open('polygon_map_matching1.data', 'wb') as fp:\n",
    "    pickle.dump(polygon_map_matching1, fp)"
   ]
  },
  {
   "cell_type": "code",
   "execution_count": 192,
   "metadata": {},
   "outputs": [
    {
     "data": {
      "text/plain": [
       "<matplotlib.axes._subplots.AxesSubplot at 0x2ba67b59a08>"
      ]
     },
     "execution_count": 192,
     "metadata": {},
     "output_type": "execute_result"
    },
    {
     "data": {
      "image/png": "[encoded data removed]",
      "text/plain": [
       "<Figure size 432x288 with 1 Axes>"
      ]
     },
     "metadata": {
      "needs_background": "light"
     },
     "output_type": "display_data"
    }
   ],
   "source": [
    "# To visualize map with specific index\n",
    "uac_merged[uac_merged['index']==41].plot()"
   ]
  },
  {
   "cell_type": "markdown",
   "metadata": {},
   "source": [
    "### Checking random 5% of duplicate maps\n",
    "* 733: Correct! (https://dda.org.in/tendernotices_docs/27112019/733_291.pdf)\n",
    "* 497: Correct! (https://dda.org.in/tendernotices_docs/27112019/497_676.pdf)\n",
    "* 348: Correct! (https://dda.org.in/tendernotices_docs/27112019/348_1378.pdf)\n",
    "* 1436: Correct! (https://dda.org.in/tendernotices_docs/27112019/1436_67.pdf)\n",
    "* 1572: (https://dda.org.in/tendernotices_docs/27112019/1572_1331.pdf)\n",
    "* 865: Correct! https://dda.org.in/tendernotices_docs/27112019/865_1354B.pdf\n",
    "* 974: Correct! (https://dda.org.in/tendernotices_docs/27112019/974_1175_A.pdf)\n",
    "* 738: Correct! (https://dda.org.in/tendernotices_docs/27112019/738_806_A.pdf)\n",
    "* 990: Correct!\n",
    "* 224: Correct!"
   ]
  },
  {
   "cell_type": "markdown",
   "metadata": {},
   "source": [
    "## Checking that no index to be deleted is in keep list (and vice versa)"
   ]
  },
  {
   "cell_type": "code",
   "execution_count": 316,
   "metadata": {},
   "outputs": [],
   "source": [
    "delete_list = []\n",
    "keep_list = []\n",
    "\n",
    "for key, val in polygon_map_matching1.items():\n",
    "    delete_list.extend(val['delete'])\n",
    "    keep_list.append(val['keep'])"
   ]
  },
  {
   "cell_type": "code",
   "execution_count": 319,
   "metadata": {},
   "outputs": [
    {
     "data": {
      "text/plain": [
       "[]"
      ]
     },
     "execution_count": 319,
     "metadata": {},
     "output_type": "execute_result"
    }
   ],
   "source": [
    "[keep_num for keep_num in keep_list if keep_num in delete_list]"
   ]
  },
  {
   "cell_type": "code",
   "execution_count": 320,
   "metadata": {},
   "outputs": [
    {
     "data": {
      "text/plain": [
       "[]"
      ]
     },
     "execution_count": 320,
     "metadata": {},
     "output_type": "execute_result"
    }
   ],
   "source": [
    "[delete_num for delete_num in delete_list if delete_num in keep_list]"
   ]
  },
  {
   "cell_type": "code",
   "execution_count": 351,
   "metadata": {},
   "outputs": [
    {
     "data": {
      "text/plain": [
       "[18, 672, 701, 730, 26]"
      ]
     },
     "execution_count": 351,
     "metadata": {},
     "output_type": "execute_result"
    }
   ],
   "source": [
    "# Visualize first 5 of delete_list\n",
    "delete_list[:5]"
   ]
  },
  {
   "cell_type": "markdown",
   "metadata": {},
   "source": [
    "## Delete rows"
   ]
  },
  {
   "cell_type": "code",
   "execution_count": 352,
   "metadata": {},
   "outputs": [],
   "source": [
    "# Make copy of uac_merged\n",
    "uac_merged_final = uac_merged.copy()"
   ]
  },
  {
   "cell_type": "code",
   "execution_count": 353,
   "metadata": {},
   "outputs": [
    {
     "data": {
      "text/html": [
       "<div>\n",
       "<style scoped>\n",
       "    .dataframe tbody tr th:only-of-type {\n",
       "        vertical-align: middle;\n",
       "    }\n",
       "\n",
       "    .dataframe tbody tr th {\n",
       "        vertical-align: top;\n",
       "    }\n",
       "\n",
       "    .dataframe thead th {\n",
       "        text-align: right;\n",
       "    }\n",
       "</style>\n",
       "<table border=\"1\" class=\"dataframe\">\n",
       "  <thead>\n",
       "    <tr style=\"text-align: right;\">\n",
       "      <th></th>\n",
       "      <th>OBJECTID</th>\n",
       "      <th>MAP_NO</th>\n",
       "      <th>REGISTRATI</th>\n",
       "      <th>IMG_NM_IND</th>\n",
       "      <th>FME_DATASE</th>\n",
       "      <th>layer</th>\n",
       "      <th>path</th>\n",
       "      <th>geometry</th>\n",
       "      <th>index</th>\n",
       "    </tr>\n",
       "  </thead>\n",
       "  <tbody>\n",
       "    <tr>\n",
       "      <th>0</th>\n",
       "      <td>1</td>\n",
       "      <td>520</td>\n",
       "      <td>570</td>\n",
       "      <td>SHIV COLNY KATEWADA</td>\n",
       "      <td>D:\\UC Downloads\\UC_501-600-Done\\520_570.pdf</td>\n",
       "      <td>1to600</td>\n",
       "      <td>/home/hb/Documents/USO/Spatial_Index_Project/U...</td>\n",
       "      <td>POLYGON ((8568698.722 3350778.289, 8568688.910...</td>\n",
       "      <td>0</td>\n",
       "    </tr>\n",
       "    <tr>\n",
       "      <th>1</th>\n",
       "      <td>2</td>\n",
       "      <td>509</td>\n",
       "      <td>888</td>\n",
       "      <td>KRISHNA COLONY</td>\n",
       "      <td>D:\\UC Downloads\\UC_501-600-Done\\509_888.pdf</td>\n",
       "      <td>1to600</td>\n",
       "      <td>/home/hb/Documents/USO/Spatial_Index_Project/U...</td>\n",
       "      <td>POLYGON ((8580894.912 3343225.741, 8580905.114...</td>\n",
       "      <td>1</td>\n",
       "    </tr>\n",
       "  </tbody>\n",
       "</table>\n",
       "</div>"
      ],
      "text/plain": [
       "   OBJECTID  MAP_NO REGISTRATI           IMG_NM_IND  \\\n",
       "0         1     520        570  SHIV COLNY KATEWADA   \n",
       "1         2     509        888       KRISHNA COLONY   \n",
       "\n",
       "                                    FME_DATASE   layer  \\\n",
       "0  D:\\UC Downloads\\UC_501-600-Done\\520_570.pdf  1to600   \n",
       "1  D:\\UC Downloads\\UC_501-600-Done\\509_888.pdf  1to600   \n",
       "\n",
       "                                                path  \\\n",
       "0  /home/hb/Documents/USO/Spatial_Index_Project/U...   \n",
       "1  /home/hb/Documents/USO/Spatial_Index_Project/U...   \n",
       "\n",
       "                                            geometry  index  \n",
       "0  POLYGON ((8568698.722 3350778.289, 8568688.910...      0  \n",
       "1  POLYGON ((8580894.912 3343225.741, 8580905.114...      1  "
      ]
     },
     "execution_count": 353,
     "metadata": {},
     "output_type": "execute_result"
    }
   ],
   "source": [
    "# See top of GeoDataFrame\n",
    "uac_merged_final.head(2)"
   ]
  },
  {
   "cell_type": "code",
   "execution_count": 354,
   "metadata": {},
   "outputs": [],
   "source": [
    "# Created GeoDataFrame removing all rows with an index\n",
    "# in delete_list\n",
    "uac_merged_final = uac_merged_final.drop(index=delete_list)"
   ]
  },
  {
   "cell_type": "code",
   "execution_count": 355,
   "metadata": {},
   "outputs": [
    {
     "data": {
      "text/plain": [
       "1861"
      ]
     },
     "execution_count": 355,
     "metadata": {},
     "output_type": "execute_result"
    }
   ],
   "source": [
    "# Check length of uac_merged_final\n",
    "len(uac_merged_final)"
   ]
  },
  {
   "cell_type": "code",
   "execution_count": 356,
   "metadata": {},
   "outputs": [
    {
     "data": {
      "text/plain": [
       "2991"
      ]
     },
     "execution_count": 356,
     "metadata": {},
     "output_type": "execute_result"
    }
   ],
   "source": [
    "# Check length of uac_merged\n",
    "len(uac_merged)"
   ]
  },
  {
   "cell_type": "code",
   "execution_count": 357,
   "metadata": {},
   "outputs": [
    {
     "data": {
      "text/plain": [
       "2991"
      ]
     },
     "execution_count": 357,
     "metadata": {},
     "output_type": "execute_result"
    }
   ],
   "source": [
    "# Length of delete_list + length of final list = length original list\n",
    "len(delete_list) + len(uac_merged_final)"
   ]
  },
  {
   "cell_type": "markdown",
   "metadata": {},
   "source": [
    "## Save uac_merged_final file"
   ]
  },
  {
   "cell_type": "code",
   "execution_count": 359,
   "metadata": {},
   "outputs": [],
   "source": [
    "uac_merged_final.to_file(\"uac_deduplicated.shp\")"
   ]
  },
  {
   "cell_type": "markdown",
   "metadata": {},
   "source": [
    "## Random checks for Anya"
   ]
  },
  {
   "cell_type": "code",
   "execution_count": 361,
   "metadata": {},
   "outputs": [
    {
     "data": {
      "text/plain": [
       "[99,\n",
       " 460,\n",
       " 483,\n",
       " 117,\n",
       " 101,\n",
       " 179,\n",
       " 528,\n",
       " 439,\n",
       " 49,\n",
       " 0,\n",
       " 342,\n",
       " 496,\n",
       " 332,\n",
       " 352,\n",
       " 354,\n",
       " 499,\n",
       " 414,\n",
       " 137,\n",
       " 80,\n",
       " 437,\n",
       " 266,\n",
       " 230,\n",
       " 50,\n",
       " 258,\n",
       " 560,\n",
       " 359,\n",
       " 195,\n",
       " 505,\n",
       " 452]"
      ]
     },
     "execution_count": 361,
     "metadata": {},
     "output_type": "execute_result"
    }
   ],
   "source": [
    "import random\n",
    "random_ints = random.sample(range(565), 29)\n",
    "random_ints"
   ]
  },
  {
   "cell_type": "code",
   "execution_count": null,
   "metadata": {},
   "outputs": [],
   "source": []
  }
 ],
 "metadata": {
  "kernelspec": {
   "display_name": "Python 3",
   "language": "python",
   "name": "python3"
  },
  "language_info": {
   "codemirror_mode": {
    "name": "ipython",
    "version": 3
   },
   "file_extension": ".py",
   "mimetype": "text/x-python",
   "name": "python",
   "nbconvert_exporter": "python",
   "pygments_lexer": "ipython3",
   "version": "3.7.7"
  }
 },
 "nbformat": 4,
 "nbformat_minor": 4
}
