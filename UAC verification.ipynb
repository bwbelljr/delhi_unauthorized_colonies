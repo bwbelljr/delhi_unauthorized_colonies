{
 "cells": [
  {
   "cell_type": "markdown",
   "metadata": {},
   "source": [
    "# Manual verification of unauthorized colonies\n",
    "\n",
    "* Import colonies shapefile\n",
    "* Select 5% of USO ID's for unauthorized colonies\n",
    "* Find unauthorized colonies shapefile with map number and registration number. Ideally this would also have USO ID.\n",
    "* Do a spatial join (or merge based on USO ID) of unauthorized colonies with map number and registration number.\n",
    "* Export a shapefile with 5% unauthorized colonies. It should have the map number and registration number."
   ]
  },
  {
   "cell_type": "code",
   "execution_count": 1,
   "metadata": {},
   "outputs": [],
   "source": [
    "import os\n",
    "import random\n",
    "import math\n",
    "import pandas as pd\n",
    "import geopandas as gpd"
   ]
  },
  {
   "cell_type": "markdown",
   "metadata": {},
   "source": [
    "## Import final colonies shapefile (including UACs)"
   ]
  },
  {
   "cell_type": "code",
   "execution_count": 2,
   "metadata": {},
   "outputs": [],
   "source": [
    "colonies_fp = '../spatial_index_python/shapefiles/Spatial_Index_GIS/Colony_Shapefile/USO23Aug2020.shp'"
   ]
  },
  {
   "cell_type": "code",
   "execution_count": 3,
   "metadata": {},
   "outputs": [],
   "source": [
    "colonies = gpd.read_file(colonies_fp)"
   ]
  },
  {
   "cell_type": "code",
   "execution_count": 4,
   "metadata": {},
   "outputs": [
    {
     "data": {
      "text/html": [
       "<div>\n",
       "<style scoped>\n",
       "    .dataframe tbody tr th:only-of-type {\n",
       "        vertical-align: middle;\n",
       "    }\n",
       "\n",
       "    .dataframe tbody tr th {\n",
       "        vertical-align: top;\n",
       "    }\n",
       "\n",
       "    .dataframe thead th {\n",
       "        text-align: right;\n",
       "    }\n",
       "</style>\n",
       "<table border=\"1\" class=\"dataframe\">\n",
       "  <thead>\n",
       "    <tr style=\"text-align: right;\">\n",
       "      <th></th>\n",
       "      <th>AREA</th>\n",
       "      <th>USO_AREA_U</th>\n",
       "      <th>HOUSETAX_C</th>\n",
       "      <th>USO_FINAL</th>\n",
       "      <th>geometry</th>\n",
       "    </tr>\n",
       "  </thead>\n",
       "  <tbody>\n",
       "    <tr>\n",
       "      <th>0</th>\n",
       "      <td>NEW DELHI 36</td>\n",
       "      <td>5584</td>\n",
       "      <td>None</td>\n",
       "      <td>Planned</td>\n",
       "      <td>POLYGON Z ((1020282.788 996796.773 0.000, 1020...</td>\n",
       "    </tr>\n",
       "    <tr>\n",
       "      <th>1</th>\n",
       "      <td>NEW DELHI 35</td>\n",
       "      <td>5585</td>\n",
       "      <td>None</td>\n",
       "      <td>Planned</td>\n",
       "      <td>POLYGON Z ((1019724.475 994932.797 0.000, 1019...</td>\n",
       "    </tr>\n",
       "    <tr>\n",
       "      <th>2</th>\n",
       "      <td>NEW DELHI 34</td>\n",
       "      <td>5586</td>\n",
       "      <td>None</td>\n",
       "      <td>Planned</td>\n",
       "      <td>POLYGON Z ((1019571.955 994876.019 0.000, 1019...</td>\n",
       "    </tr>\n",
       "    <tr>\n",
       "      <th>3</th>\n",
       "      <td>NEW DELHI 33</td>\n",
       "      <td>5587</td>\n",
       "      <td>None</td>\n",
       "      <td>Planned</td>\n",
       "      <td>POLYGON Z ((1019352.702 994352.546 0.000, 1019...</td>\n",
       "    </tr>\n",
       "    <tr>\n",
       "      <th>4</th>\n",
       "      <td>NEW DELHI 32</td>\n",
       "      <td>5588</td>\n",
       "      <td>None</td>\n",
       "      <td>Planned</td>\n",
       "      <td>POLYGON Z ((1018793.292 994224.182 0.000, 1018...</td>\n",
       "    </tr>\n",
       "  </tbody>\n",
       "</table>\n",
       "</div>"
      ],
      "text/plain": [
       "           AREA  USO_AREA_U HOUSETAX_C USO_FINAL  \\\n",
       "0  NEW DELHI 36        5584       None   Planned   \n",
       "1  NEW DELHI 35        5585       None   Planned   \n",
       "2  NEW DELHI 34        5586       None   Planned   \n",
       "3  NEW DELHI 33        5587       None   Planned   \n",
       "4  NEW DELHI 32        5588       None   Planned   \n",
       "\n",
       "                                            geometry  \n",
       "0  POLYGON Z ((1020282.788 996796.773 0.000, 1020...  \n",
       "1  POLYGON Z ((1019724.475 994932.797 0.000, 1019...  \n",
       "2  POLYGON Z ((1019571.955 994876.019 0.000, 1019...  \n",
       "3  POLYGON Z ((1019352.702 994352.546 0.000, 1019...  \n",
       "4  POLYGON Z ((1018793.292 994224.182 0.000, 1018...  "
      ]
     },
     "execution_count": 4,
     "metadata": {},
     "output_type": "execute_result"
    }
   ],
   "source": [
    "colonies.head()"
   ]
  },
  {
   "cell_type": "markdown",
   "metadata": {},
   "source": [
    "## Get total count of UAC's and randomly select 5% of UACs for manual verification "
   ]
  },
  {
   "cell_type": "code",
   "execution_count": 5,
   "metadata": {},
   "outputs": [],
   "source": [
    "# Get subset of unauthorized colonies\n",
    "uac = colonies[colonies['USO_FINAL'] == 'UAC']"
   ]
  },
  {
   "cell_type": "code",
   "execution_count": 29,
   "metadata": {},
   "outputs": [
    {
     "name": "stdout",
     "output_type": "stream",
     "text": [
      "total number of unauthorized colonies is 1684\n",
      "five percent of unauthorized colonies is 85\n"
     ]
    }
   ],
   "source": [
    "num_uacs = len(uac)\n",
    "print('total number of unauthorized colonies is', num_uacs)\n",
    "\n",
    "# Calculate 5%\n",
    "five_percent = math.ceil(num_uacs*0.05)\n",
    "print('five percent of unauthorized colonies is', five_percent)"
   ]
  },
  {
   "cell_type": "code",
   "execution_count": 48,
   "metadata": {},
   "outputs": [
    {
     "data": {
      "text/plain": [
       "Int64Index([  79,   87,   98,  100,  134,  136,  143,  147,  152,  154,\n",
       "            ...\n",
       "            4342, 4343, 4344, 4345, 4346, 4347, 4348, 4349, 4350, 4351],\n",
       "           dtype='int64', length=1684)"
      ]
     },
     "execution_count": 48,
     "metadata": {},
     "output_type": "execute_result"
    }
   ],
   "source": [
    "# List of all indices for unauthorized colonies\n",
    "uac.index"
   ]
  },
  {
   "cell_type": "code",
   "execution_count": 51,
   "metadata": {},
   "outputs": [],
   "source": [
    "# Randomly select 5% of USO ID's for Unauthorized Colonies\n",
    "uac_uso_idx_five_percent = random.sample(list(uac.index), five_percent)"
   ]
  },
  {
   "cell_type": "code",
   "execution_count": 52,
   "metadata": {},
   "outputs": [
    {
     "data": {
      "text/plain": [
       "[4105, 3095, 856, 1695, 3873]"
      ]
     },
     "execution_count": 52,
     "metadata": {},
     "output_type": "execute_result"
    }
   ],
   "source": [
    "uac_uso_idx_five_percent[:5]"
   ]
  },
  {
   "cell_type": "code",
   "execution_count": 55,
   "metadata": {},
   "outputs": [],
   "source": [
    "uac_five_percent = uac.loc[uac_uso_idx_five_percent, :]"
   ]
  },
  {
   "cell_type": "code",
   "execution_count": 56,
   "metadata": {},
   "outputs": [
    {
     "data": {
      "text/html": [
       "<div>\n",
       "<style scoped>\n",
       "    .dataframe tbody tr th:only-of-type {\n",
       "        vertical-align: middle;\n",
       "    }\n",
       "\n",
       "    .dataframe tbody tr th {\n",
       "        vertical-align: top;\n",
       "    }\n",
       "\n",
       "    .dataframe thead th {\n",
       "        text-align: right;\n",
       "    }\n",
       "</style>\n",
       "<table border=\"1\" class=\"dataframe\">\n",
       "  <thead>\n",
       "    <tr style=\"text-align: right;\">\n",
       "      <th></th>\n",
       "      <th>AREA</th>\n",
       "      <th>USO_AREA_U</th>\n",
       "      <th>HOUSETAX_C</th>\n",
       "      <th>USO_FINAL</th>\n",
       "      <th>geometry</th>\n",
       "    </tr>\n",
       "  </thead>\n",
       "  <tbody>\n",
       "    <tr>\n",
       "      <th>4105</th>\n",
       "      <td>VIJAY NAGAR, BAWANA, DELHI-37</td>\n",
       "      <td>5311</td>\n",
       "      <td>None</td>\n",
       "      <td>UAC</td>\n",
       "      <td>POLYGON Z ((1002412.709 1001915.576 0.000, 100...</td>\n",
       "    </tr>\n",
       "    <tr>\n",
       "      <th>3095</th>\n",
       "      <td>RAM VIHAR, LONI ROAD, JOHARIPUR</td>\n",
       "      <td>4301</td>\n",
       "      <td>None</td>\n",
       "      <td>UAC</td>\n",
       "      <td>POLYGON Z ((1022233.626 1008151.185 0.000, 102...</td>\n",
       "    </tr>\n",
       "    <tr>\n",
       "      <th>856</th>\n",
       "      <td>Chander Vihar, Nilothi</td>\n",
       "      <td>1324</td>\n",
       "      <td>G</td>\n",
       "      <td>UAC</td>\n",
       "      <td>POLYGON Z ((1006650.762 1003369.507 0.000, 100...</td>\n",
       "    </tr>\n",
       "    <tr>\n",
       "      <th>1695</th>\n",
       "      <td>Hira Park, Najafgarh</td>\n",
       "      <td>1727</td>\n",
       "      <td>G</td>\n",
       "      <td>UAC</td>\n",
       "      <td>MULTIPOLYGON Z (((997966.120 999075.507 0.000,...</td>\n",
       "    </tr>\n",
       "    <tr>\n",
       "      <th>3873</th>\n",
       "      <td>RANI GARDEN ( AMBEDKAR PARK) SASTRI NAGAR DELH...</td>\n",
       "      <td>5079</td>\n",
       "      <td>None</td>\n",
       "      <td>UAC</td>\n",
       "      <td>POLYGON Z ((1027800.169 1010162.584 0.000, 102...</td>\n",
       "    </tr>\n",
       "    <tr>\n",
       "      <th>...</th>\n",
       "      <td>...</td>\n",
       "      <td>...</td>\n",
       "      <td>...</td>\n",
       "      <td>...</td>\n",
       "      <td>...</td>\n",
       "    </tr>\n",
       "    <tr>\n",
       "      <th>3212</th>\n",
       "      <td>DICHAON KALAN EXTN, MAIN DICHAON KALAN ROAD, N...</td>\n",
       "      <td>4418</td>\n",
       "      <td>None</td>\n",
       "      <td>UAC</td>\n",
       "      <td>POLYGON Z ((1028460.016 998347.856 0.000, 1028...</td>\n",
       "    </tr>\n",
       "    <tr>\n",
       "      <th>2944</th>\n",
       "      <td>SABOLI BAGH PT-I NAND NAGARI DELHI-93</td>\n",
       "      <td>4150</td>\n",
       "      <td>None</td>\n",
       "      <td>UAC</td>\n",
       "      <td>POLYGON Z ((1003183.693 999614.709 0.000, 1003...</td>\n",
       "    </tr>\n",
       "    <tr>\n",
       "      <th>3396</th>\n",
       "      <td>DEENDARPUR EXTN.NAJAFGARH, DELHI</td>\n",
       "      <td>4602</td>\n",
       "      <td>None</td>\n",
       "      <td>UAC</td>\n",
       "      <td>POLYGON Z ((1031597.864 1009254.509 0.000, 103...</td>\n",
       "    </tr>\n",
       "    <tr>\n",
       "      <th>3027</th>\n",
       "      <td>VASHISHT ENCLAVE, BABA COLONY, BURARI, DELHI-84</td>\n",
       "      <td>4233</td>\n",
       "      <td>None</td>\n",
       "      <td>UAC</td>\n",
       "      <td>POLYGON Z ((1003805.303 1001674.888 0.000, 100...</td>\n",
       "    </tr>\n",
       "    <tr>\n",
       "      <th>4304</th>\n",
       "      <td>Defence Enclave Pt-I K-5 Extn.Pt-I Mohan Garde...</td>\n",
       "      <td>5510</td>\n",
       "      <td>None</td>\n",
       "      <td>UAC</td>\n",
       "      <td>POLYGON Z ((1010109.623 1003916.657 0.000, 101...</td>\n",
       "    </tr>\n",
       "  </tbody>\n",
       "</table>\n",
       "<p>85 rows × 5 columns</p>\n",
       "</div>"
      ],
      "text/plain": [
       "                                                   AREA  USO_AREA_U  \\\n",
       "4105                      VIJAY NAGAR, BAWANA, DELHI-37        5311   \n",
       "3095                    RAM VIHAR, LONI ROAD, JOHARIPUR        4301   \n",
       "856                              Chander Vihar, Nilothi        1324   \n",
       "1695                               Hira Park, Najafgarh        1727   \n",
       "3873  RANI GARDEN ( AMBEDKAR PARK) SASTRI NAGAR DELH...        5079   \n",
       "...                                                 ...         ...   \n",
       "3212  DICHAON KALAN EXTN, MAIN DICHAON KALAN ROAD, N...        4418   \n",
       "2944              SABOLI BAGH PT-I NAND NAGARI DELHI-93        4150   \n",
       "3396                   DEENDARPUR EXTN.NAJAFGARH, DELHI        4602   \n",
       "3027    VASHISHT ENCLAVE, BABA COLONY, BURARI, DELHI-84        4233   \n",
       "4304  Defence Enclave Pt-I K-5 Extn.Pt-I Mohan Garde...        5510   \n",
       "\n",
       "     HOUSETAX_C USO_FINAL                                           geometry  \n",
       "4105       None       UAC  POLYGON Z ((1002412.709 1001915.576 0.000, 100...  \n",
       "3095       None       UAC  POLYGON Z ((1022233.626 1008151.185 0.000, 102...  \n",
       "856           G       UAC  POLYGON Z ((1006650.762 1003369.507 0.000, 100...  \n",
       "1695          G       UAC  MULTIPOLYGON Z (((997966.120 999075.507 0.000,...  \n",
       "3873       None       UAC  POLYGON Z ((1027800.169 1010162.584 0.000, 102...  \n",
       "...         ...       ...                                                ...  \n",
       "3212       None       UAC  POLYGON Z ((1028460.016 998347.856 0.000, 1028...  \n",
       "2944       None       UAC  POLYGON Z ((1003183.693 999614.709 0.000, 1003...  \n",
       "3396       None       UAC  POLYGON Z ((1031597.864 1009254.509 0.000, 103...  \n",
       "3027       None       UAC  POLYGON Z ((1003805.303 1001674.888 0.000, 100...  \n",
       "4304       None       UAC  POLYGON Z ((1010109.623 1003916.657 0.000, 101...  \n",
       "\n",
       "[85 rows x 5 columns]"
      ]
     },
     "execution_count": 56,
     "metadata": {},
     "output_type": "execute_result"
    }
   ],
   "source": [
    "uac_five_percent"
   ]
  },
  {
   "cell_type": "markdown",
   "metadata": {},
   "source": [
    "## Find unauthorized colonies shapefile"
   ]
  },
  {
   "cell_type": "code",
   "execution_count": 57,
   "metadata": {},
   "outputs": [],
   "source": [
    "uac_with_map_number = gpd.read_file('near_perfect_uac_ch.shp')"
   ]
  },
  {
   "cell_type": "code",
   "execution_count": 58,
   "metadata": {},
   "outputs": [],
   "source": [
    "# Reproject CRS to same as colonies\n",
    "uac_with_map_number = uac_with_map_number.to_crs(uac_five_percent.crs)"
   ]
  },
  {
   "cell_type": "code",
   "execution_count": 60,
   "metadata": {},
   "outputs": [
    {
     "data": {
      "text/plain": [
       "True"
      ]
     },
     "execution_count": 60,
     "metadata": {},
     "output_type": "execute_result"
    }
   ],
   "source": [
    "uac_with_map_number.crs == uac_five_percent.crs"
   ]
  },
  {
   "cell_type": "code",
   "execution_count": 72,
   "metadata": {},
   "outputs": [],
   "source": [
    "uac_for_verification = gpd.sjoin(uac_five_percent, uac_with_map_number, how='left')"
   ]
  },
  {
   "cell_type": "markdown",
   "metadata": {},
   "source": [
    "## Export to shapefile"
   ]
  },
  {
   "cell_type": "code",
   "execution_count": 73,
   "metadata": {},
   "outputs": [],
   "source": [
    "uac_for_verification.to_file('uac_verify.shp')"
   ]
  },
  {
   "cell_type": "code",
   "execution_count": 76,
   "metadata": {},
   "outputs": [],
   "source": [
    "uac_five_percent['USO_AREA_U'].to_csv('uac_uso_ids.csv')"
   ]
  },
  {
   "cell_type": "code",
   "execution_count": null,
   "metadata": {},
   "outputs": [],
   "source": []
  }
 ],
 "metadata": {
  "kernelspec": {
   "display_name": "Python 3",
   "language": "python",
   "name": "python3"
  },
  "language_info": {
   "codemirror_mode": {
    "name": "ipython",
    "version": 3
   },
   "file_extension": ".py",
   "mimetype": "text/x-python",
   "name": "python",
   "nbconvert_exporter": "python",
   "pygments_lexer": "ipython3",
   "version": "3.7.7"
  }
 },
 "nbformat": 4,
 "nbformat_minor": 4
}
