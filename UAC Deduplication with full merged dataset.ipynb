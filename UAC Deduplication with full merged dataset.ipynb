{
 "cells": [
  {
   "cell_type": "markdown",
   "metadata": {},
   "source": [
    "# UAC Data Deduplication (28 July 2020)\n",
    "\n",
    "Using the full, merged dataset with corrections to the extent (only in Delhi) and geometries (polygons, instead of polylines), I do the following to prepare the unauthorized colonies dataset for the spatial index:\n",
    "* Remove all rows with duplicate geometries\n",
    "* Select only one polygon (or row) for each map number and registration number. This involves removing all other polygons (or rows) that share the same map number and registration number.\n",
    "\n",
    "## Details of UAC Data Deduplication\n",
    "* Import 4 shapefiles \n",
    "* Data exploration and pre-processing \n",
    "    * Reproject CRS to EPSG 3857\n",
    "    * Look at rows/columns\n",
    "    * Set variables for key column names like map column, registration column, etc. Make sure they are consistent and include the data needed for deduplicating polygons from PDF.\n",
    "    * Set Index as Column \n",
    "* Check that there are no duplicate rows \n",
    "* Check that shapefile only contains polygon geometries.\n",
    "* Check for duplicate geometries.\n",
    "    * First look at sample duplicate geometries. How do they relate in terms of non-geometry attributes?\n",
    "    * Write code/function to identify which duplicate rows to delete\n",
    "    * Delete rows and check resulting GeoDataFrame length\n",
    "* Run code to remove duplicate maps\n",
    "    * May have to modify code to revise map numbers for single-digit maps. This should turn 4 -> 04\n",
    "    * Check that no index to be deleted is in keep list (and vice versa)\n",
    "* Generate USO_ID\n",
    "    * First identify the highest USO_ID in combined NDMC+JJC dataset\n",
    "    * Add USO_ID starting with some buffer (e.g., plus 100)\n",
    "* Save/export file"
   ]
  },
  {
   "cell_type": "code",
   "execution_count": 1,
   "metadata": {},
   "outputs": [],
   "source": [
    "# Import necessary modules\n",
    "import pickle\n",
    "import re\n",
    "import importlib\n",
    "import matplotlib.pyplot as plt\n",
    "import pandas as pd\n",
    "import geopandas as gpd\n",
    "from shapely.geometry import box, Polygon, MultiPolygon, LineString, MultiLineString \n",
    "from shapely.ops import polygonize, unary_union\n",
    "from pyproj import CRS\n",
    "import rasterio\n",
    "import uac_utils\n",
    "\n",
    "%matplotlib inline"
   ]
  },
  {
   "cell_type": "code",
   "execution_count": 2,
   "metadata": {},
   "outputs": [
    {
     "data": {
      "text/plain": [
       "<module 'uac_utils' from \"C:\\\\Users\\\\bwbel\\\\Google Drive\\\\slum_project\\\\UAC's Data Deduplication\\\\uac_utils.py\">"
      ]
     },
     "execution_count": 2,
     "metadata": {},
     "output_type": "execute_result"
    }
   ],
   "source": [
    "# Reload uac_utils when it gets updated\n",
    "importlib.reload(uac_utils)"
   ]
  },
  {
   "cell_type": "markdown",
   "metadata": {},
   "source": [
    "## Import shapefiles"
   ]
  },
  {
   "cell_type": "code",
   "execution_count": 3,
   "metadata": {},
   "outputs": [],
   "source": [
    "uac1 = gpd.read_file('ExtentCorrected_WithDuplicate_9July_Bijoy_QGIS.shp')\n",
    "uac2 = gpd.read_file('UC_Missing1_Polygons.shp')\n",
    "uac3 = gpd.read_file('UC_Missing2_Polygons.shp')\n",
    "uac4 = gpd.read_file('UAC_part.shp')"
   ]
  },
  {
   "cell_type": "markdown",
   "metadata": {},
   "source": [
    "## Data Exploration and Pre-Processing\n",
    "* Check (and re-project) CRS\n",
    "* Look at rows/columns\n",
    "* Set variables for key column names like map column, registration column, etc.\n",
    "* Set Index as Column "
   ]
  },
  {
   "cell_type": "markdown",
   "metadata": {},
   "source": [
    "### Reproject CRS to EPSG 3857"
   ]
  },
  {
   "cell_type": "code",
   "execution_count": 5,
   "metadata": {},
   "outputs": [
    {
     "name": "stdout",
     "output_type": "stream",
     "text": [
      "GeoDataFrame now has the following CRS:\n",
      "\n",
      "PROJCRS[\"WGS 84 / Pseudo-Mercator\",BASEGEOGCRS[\"WGS 84\",DATUM[\"World Geodetic System 1984\",ELLIPSOID[\"WGS 84\",6378137,298.257223563,LENGTHUNIT[\"metre\",1]]],PRIMEM[\"Greenwich\",0,ANGLEUNIT[\"degree\",0.0174532925199433]],ID[\"EPSG\",4326]],CONVERSION[\"Popular Visualisation Pseudo-Mercator\",METHOD[\"Popular Visualisation Pseudo Mercator\",ID[\"EPSG\",1024]],PARAMETER[\"Latitude of natural origin\",0,ANGLEUNIT[\"degree\",0.0174532925199433],ID[\"EPSG\",8801]],PARAMETER[\"Longitude of natural origin\",0,ANGLEUNIT[\"degree\",0.0174532925199433],ID[\"EPSG\",8802]],PARAMETER[\"False easting\",0,LENGTHUNIT[\"metre\",1],ID[\"EPSG\",8806]],PARAMETER[\"False northing\",0,LENGTHUNIT[\"metre\",1],ID[\"EPSG\",8807]]],CS[Cartesian,2],AXIS[\"easting (X)\",east,ORDER[1],LENGTHUNIT[\"metre\",1]],AXIS[\"northing (Y)\",north,ORDER[2],LENGTHUNIT[\"metre\",1]],USAGE[SCOPE[\"unknown\"],AREA[\"World - 85°S to 85°N\"],BBOX[-85.06,-180,85.06,180]],ID[\"EPSG\",3857]]\n"
     ]
    }
   ],
   "source": [
    "uac1 = uac_utils.reproject_gdf(uac1, 3857)"
   ]
  },
  {
   "cell_type": "code",
   "execution_count": 6,
   "metadata": {},
   "outputs": [
    {
     "name": "stdout",
     "output_type": "stream",
     "text": [
      "GeoDataFrame now has the following CRS:\n",
      "\n",
      "PROJCRS[\"WGS 84 / Pseudo-Mercator\",BASEGEOGCRS[\"WGS 84\",DATUM[\"World Geodetic System 1984\",ELLIPSOID[\"WGS 84\",6378137,298.257223563,LENGTHUNIT[\"metre\",1]]],PRIMEM[\"Greenwich\",0,ANGLEUNIT[\"degree\",0.0174532925199433]],ID[\"EPSG\",4326]],CONVERSION[\"Popular Visualisation Pseudo-Mercator\",METHOD[\"Popular Visualisation Pseudo Mercator\",ID[\"EPSG\",1024]],PARAMETER[\"Latitude of natural origin\",0,ANGLEUNIT[\"degree\",0.0174532925199433],ID[\"EPSG\",8801]],PARAMETER[\"Longitude of natural origin\",0,ANGLEUNIT[\"degree\",0.0174532925199433],ID[\"EPSG\",8802]],PARAMETER[\"False easting\",0,LENGTHUNIT[\"metre\",1],ID[\"EPSG\",8806]],PARAMETER[\"False northing\",0,LENGTHUNIT[\"metre\",1],ID[\"EPSG\",8807]]],CS[Cartesian,2],AXIS[\"easting (X)\",east,ORDER[1],LENGTHUNIT[\"metre\",1]],AXIS[\"northing (Y)\",north,ORDER[2],LENGTHUNIT[\"metre\",1]],USAGE[SCOPE[\"unknown\"],AREA[\"World - 85°S to 85°N\"],BBOX[-85.06,-180,85.06,180]],ID[\"EPSG\",3857]]\n"
     ]
    }
   ],
   "source": [
    "uac2 = uac_utils.reproject_gdf(uac2, 3857)"
   ]
  },
  {
   "cell_type": "code",
   "execution_count": 7,
   "metadata": {},
   "outputs": [
    {
     "name": "stdout",
     "output_type": "stream",
     "text": [
      "GeoDataFrame now has the following CRS:\n",
      "\n",
      "PROJCRS[\"WGS 84 / Pseudo-Mercator\",BASEGEOGCRS[\"WGS 84\",DATUM[\"World Geodetic System 1984\",ELLIPSOID[\"WGS 84\",6378137,298.257223563,LENGTHUNIT[\"metre\",1]]],PRIMEM[\"Greenwich\",0,ANGLEUNIT[\"degree\",0.0174532925199433]],ID[\"EPSG\",4326]],CONVERSION[\"Popular Visualisation Pseudo-Mercator\",METHOD[\"Popular Visualisation Pseudo Mercator\",ID[\"EPSG\",1024]],PARAMETER[\"Latitude of natural origin\",0,ANGLEUNIT[\"degree\",0.0174532925199433],ID[\"EPSG\",8801]],PARAMETER[\"Longitude of natural origin\",0,ANGLEUNIT[\"degree\",0.0174532925199433],ID[\"EPSG\",8802]],PARAMETER[\"False easting\",0,LENGTHUNIT[\"metre\",1],ID[\"EPSG\",8806]],PARAMETER[\"False northing\",0,LENGTHUNIT[\"metre\",1],ID[\"EPSG\",8807]]],CS[Cartesian,2],AXIS[\"easting (X)\",east,ORDER[1],LENGTHUNIT[\"metre\",1]],AXIS[\"northing (Y)\",north,ORDER[2],LENGTHUNIT[\"metre\",1]],USAGE[SCOPE[\"unknown\"],AREA[\"World - 85°S to 85°N\"],BBOX[-85.06,-180,85.06,180]],ID[\"EPSG\",3857]]\n"
     ]
    }
   ],
   "source": [
    "uac3 = uac_utils.reproject_gdf(uac3, 3857)"
   ]
  },
  {
   "cell_type": "code",
   "execution_count": 8,
   "metadata": {},
   "outputs": [
    {
     "name": "stdout",
     "output_type": "stream",
     "text": [
      "GeoDataFrame now has the following CRS:\n",
      "\n",
      "PROJCRS[\"WGS 84 / Pseudo-Mercator\",BASEGEOGCRS[\"WGS 84\",DATUM[\"World Geodetic System 1984\",ELLIPSOID[\"WGS 84\",6378137,298.257223563,LENGTHUNIT[\"metre\",1]]],PRIMEM[\"Greenwich\",0,ANGLEUNIT[\"degree\",0.0174532925199433]],ID[\"EPSG\",4326]],CONVERSION[\"Popular Visualisation Pseudo-Mercator\",METHOD[\"Popular Visualisation Pseudo Mercator\",ID[\"EPSG\",1024]],PARAMETER[\"Latitude of natural origin\",0,ANGLEUNIT[\"degree\",0.0174532925199433],ID[\"EPSG\",8801]],PARAMETER[\"Longitude of natural origin\",0,ANGLEUNIT[\"degree\",0.0174532925199433],ID[\"EPSG\",8802]],PARAMETER[\"False easting\",0,LENGTHUNIT[\"metre\",1],ID[\"EPSG\",8806]],PARAMETER[\"False northing\",0,LENGTHUNIT[\"metre\",1],ID[\"EPSG\",8807]]],CS[Cartesian,2],AXIS[\"easting (X)\",east,ORDER[1],LENGTHUNIT[\"metre\",1]],AXIS[\"northing (Y)\",north,ORDER[2],LENGTHUNIT[\"metre\",1]],USAGE[SCOPE[\"unknown\"],AREA[\"World - 85°S to 85°N\"],BBOX[-85.06,-180,85.06,180]],ID[\"EPSG\",3857]]\n"
     ]
    }
   ],
   "source": [
    "uac4 = uac_utils.reproject_gdf(uac4, 3857)"
   ]
  },
  {
   "cell_type": "markdown",
   "metadata": {},
   "source": [
    "### Look at rows/columns\n",
    "Common columns include the following:\n",
    "* MAP_NO\n",
    "* Registrati (except uac4)\n",
    "* fme_datase\n",
    "* geometry"
   ]
  },
  {
   "cell_type": "code",
   "execution_count": 14,
   "metadata": {},
   "outputs": [
    {
     "data": {
      "text/html": [
       "<div>\n",
       "<style scoped>\n",
       "    .dataframe tbody tr th:only-of-type {\n",
       "        vertical-align: middle;\n",
       "    }\n",
       "\n",
       "    .dataframe tbody tr th {\n",
       "        vertical-align: top;\n",
       "    }\n",
       "\n",
       "    .dataframe thead th {\n",
       "        text-align: right;\n",
       "    }\n",
       "</style>\n",
       "<table border=\"1\" class=\"dataframe\">\n",
       "  <thead>\n",
       "    <tr style=\"text-align: right;\">\n",
       "      <th></th>\n",
       "      <th>OBJECTID</th>\n",
       "      <th>MAP_NO</th>\n",
       "      <th>REGISTRATI</th>\n",
       "      <th>IMG_NM_IND</th>\n",
       "      <th>FME_DATASE</th>\n",
       "      <th>layer</th>\n",
       "      <th>path</th>\n",
       "      <th>geometry</th>\n",
       "    </tr>\n",
       "  </thead>\n",
       "  <tbody>\n",
       "    <tr>\n",
       "      <th>0</th>\n",
       "      <td>1</td>\n",
       "      <td>520</td>\n",
       "      <td>570</td>\n",
       "      <td>SHIV COLNY KATEWADA</td>\n",
       "      <td>D:\\UC Downloads\\UC_501-600-Done\\520_570.pdf</td>\n",
       "      <td>1to600</td>\n",
       "      <td>/home/hb/Documents/USO/Spatial_Index_Project/U...</td>\n",
       "      <td>POLYGON ((8568698.722 3350778.289, 8568688.910...</td>\n",
       "    </tr>\n",
       "    <tr>\n",
       "      <th>1</th>\n",
       "      <td>2</td>\n",
       "      <td>509</td>\n",
       "      <td>888</td>\n",
       "      <td>KRISHNA COLONY</td>\n",
       "      <td>D:\\UC Downloads\\UC_501-600-Done\\509_888.pdf</td>\n",
       "      <td>1to600</td>\n",
       "      <td>/home/hb/Documents/USO/Spatial_Index_Project/U...</td>\n",
       "      <td>POLYGON ((8580894.912 3343225.741, 8580905.114...</td>\n",
       "    </tr>\n",
       "  </tbody>\n",
       "</table>\n",
       "</div>"
      ],
      "text/plain": [
       "   OBJECTID  MAP_NO REGISTRATI           IMG_NM_IND  \\\n",
       "0         1     520        570  SHIV COLNY KATEWADA   \n",
       "1         2     509        888       KRISHNA COLONY   \n",
       "\n",
       "                                    FME_DATASE   layer  \\\n",
       "0  D:\\UC Downloads\\UC_501-600-Done\\520_570.pdf  1to600   \n",
       "1  D:\\UC Downloads\\UC_501-600-Done\\509_888.pdf  1to600   \n",
       "\n",
       "                                                path  \\\n",
       "0  /home/hb/Documents/USO/Spatial_Index_Project/U...   \n",
       "1  /home/hb/Documents/USO/Spatial_Index_Project/U...   \n",
       "\n",
       "                                            geometry  \n",
       "0  POLYGON ((8568698.722 3350778.289, 8568688.910...  \n",
       "1  POLYGON ((8580894.912 3343225.741, 8580905.114...  "
      ]
     },
     "execution_count": 14,
     "metadata": {},
     "output_type": "execute_result"
    }
   ],
   "source": [
    "uac1.head(2)"
   ]
  },
  {
   "cell_type": "code",
   "execution_count": 10,
   "metadata": {},
   "outputs": [
    {
     "data": {
      "text/plain": [
       "Index(['OBJECTID', 'MAP_NO', 'REGISTRATI', 'IMG_NM_IND', 'FME_DATASE', 'layer',\n",
       "       'path', 'geometry'],\n",
       "      dtype='object')"
      ]
     },
     "execution_count": 10,
     "metadata": {},
     "output_type": "execute_result"
    }
   ],
   "source": [
    "uac1.columns"
   ]
  },
  {
   "cell_type": "code",
   "execution_count": 15,
   "metadata": {},
   "outputs": [
    {
     "data": {
      "text/html": [
       "<div>\n",
       "<style scoped>\n",
       "    .dataframe tbody tr th:only-of-type {\n",
       "        vertical-align: middle;\n",
       "    }\n",
       "\n",
       "    .dataframe tbody tr th {\n",
       "        vertical-align: top;\n",
       "    }\n",
       "\n",
       "    .dataframe thead th {\n",
       "        text-align: right;\n",
       "    }\n",
       "</style>\n",
       "<table border=\"1\" class=\"dataframe\">\n",
       "  <thead>\n",
       "    <tr style=\"text-align: right;\">\n",
       "      <th></th>\n",
       "      <th>area</th>\n",
       "      <th>fme_datase</th>\n",
       "      <th>OBJECTID</th>\n",
       "      <th>Map_No</th>\n",
       "      <th>Registrati</th>\n",
       "      <th>FID_</th>\n",
       "      <th>Shape_Leng</th>\n",
       "      <th>geometry</th>\n",
       "    </tr>\n",
       "  </thead>\n",
       "  <tbody>\n",
       "    <tr>\n",
       "      <th>0</th>\n",
       "      <td>1.0</td>\n",
       "      <td>D:\\UC Downloads\\aa-Missing files\\1428_577.pdf</td>\n",
       "      <td>1</td>\n",
       "      <td>1428</td>\n",
       "      <td>577</td>\n",
       "      <td>0</td>\n",
       "      <td>7930.402876</td>\n",
       "      <td>POLYGON ((8580125.161 3355724.976, 8580175.448...</td>\n",
       "    </tr>\n",
       "    <tr>\n",
       "      <th>1</th>\n",
       "      <td>1.0</td>\n",
       "      <td>D:\\UC Downloads\\aa-Missing files\\1302_728.pdf</td>\n",
       "      <td>2</td>\n",
       "      <td>1302</td>\n",
       "      <td>728</td>\n",
       "      <td>1</td>\n",
       "      <td>7733.501951</td>\n",
       "      <td>POLYGON ((8583471.298 3344218.996, 8583550.471...</td>\n",
       "    </tr>\n",
       "  </tbody>\n",
       "</table>\n",
       "</div>"
      ],
      "text/plain": [
       "   area                                     fme_datase  OBJECTID Map_No  \\\n",
       "0   1.0  D:\\UC Downloads\\aa-Missing files\\1428_577.pdf         1   1428   \n",
       "1   1.0  D:\\UC Downloads\\aa-Missing files\\1302_728.pdf         2   1302   \n",
       "\n",
       "  Registrati  FID_   Shape_Leng  \\\n",
       "0        577     0  7930.402876   \n",
       "1        728     1  7733.501951   \n",
       "\n",
       "                                            geometry  \n",
       "0  POLYGON ((8580125.161 3355724.976, 8580175.448...  \n",
       "1  POLYGON ((8583471.298 3344218.996, 8583550.471...  "
      ]
     },
     "execution_count": 15,
     "metadata": {},
     "output_type": "execute_result"
    }
   ],
   "source": [
    "uac2.head(2)"
   ]
  },
  {
   "cell_type": "code",
   "execution_count": 16,
   "metadata": {},
   "outputs": [
    {
     "data": {
      "text/plain": [
       "Index(['area', 'fme_datase', 'OBJECTID', 'Map_No', 'Registrati', 'FID_',\n",
       "       'Shape_Leng', 'geometry'],\n",
       "      dtype='object')"
      ]
     },
     "execution_count": 16,
     "metadata": {},
     "output_type": "execute_result"
    }
   ],
   "source": [
    "uac2.columns"
   ]
  },
  {
   "cell_type": "code",
   "execution_count": 24,
   "metadata": {},
   "outputs": [
    {
     "data": {
      "text/html": [
       "<div>\n",
       "<style scoped>\n",
       "    .dataframe tbody tr th:only-of-type {\n",
       "        vertical-align: middle;\n",
       "    }\n",
       "\n",
       "    .dataframe tbody tr th {\n",
       "        vertical-align: top;\n",
       "    }\n",
       "\n",
       "    .dataframe thead th {\n",
       "        text-align: right;\n",
       "    }\n",
       "</style>\n",
       "<table border=\"1\" class=\"dataframe\">\n",
       "  <thead>\n",
       "    <tr style=\"text-align: right;\">\n",
       "      <th></th>\n",
       "      <th>FID_1</th>\n",
       "      <th>area</th>\n",
       "      <th>fme_datase</th>\n",
       "      <th>OBJECTID</th>\n",
       "      <th>Map_No</th>\n",
       "      <th>Registrati</th>\n",
       "      <th>Shape_Leng</th>\n",
       "      <th>Shape_Le_1</th>\n",
       "      <th>geometry</th>\n",
       "    </tr>\n",
       "  </thead>\n",
       "  <tbody>\n",
       "    <tr>\n",
       "      <th>0</th>\n",
       "      <td>0.0</td>\n",
       "      <td>0.0</td>\n",
       "      <td>D:\\UC Downloads\\aa-Missing files\\1327_1487.pdf</td>\n",
       "      <td>7</td>\n",
       "      <td>1286</td>\n",
       "      <td>1460</td>\n",
       "      <td>517.690474</td>\n",
       "      <td>3295.566442</td>\n",
       "      <td>POLYGON ((8592388.017 3346483.805, 8592387.299...</td>\n",
       "    </tr>\n",
       "    <tr>\n",
       "      <th>1</th>\n",
       "      <td>0.0</td>\n",
       "      <td>0.0</td>\n",
       "      <td>D:\\UC Downloads\\aa-Missing files\\1327_1487.pdf</td>\n",
       "      <td>8</td>\n",
       "      <td>1281</td>\n",
       "      <td>1108</td>\n",
       "      <td>658.088567</td>\n",
       "      <td>511.870469</td>\n",
       "      <td>POLYGON ((8591940.960 3346236.224, 8591942.331...</td>\n",
       "    </tr>\n",
       "  </tbody>\n",
       "</table>\n",
       "</div>"
      ],
      "text/plain": [
       "   FID_1  area                                      fme_datase  OBJECTID  \\\n",
       "0    0.0   0.0  D:\\UC Downloads\\aa-Missing files\\1327_1487.pdf         7   \n",
       "1    0.0   0.0  D:\\UC Downloads\\aa-Missing files\\1327_1487.pdf         8   \n",
       "\n",
       "   Map_No Registrati  Shape_Leng   Shape_Le_1  \\\n",
       "0    1286       1460  517.690474  3295.566442   \n",
       "1    1281       1108  658.088567   511.870469   \n",
       "\n",
       "                                            geometry  \n",
       "0  POLYGON ((8592388.017 3346483.805, 8592387.299...  \n",
       "1  POLYGON ((8591940.960 3346236.224, 8591942.331...  "
      ]
     },
     "execution_count": 24,
     "metadata": {},
     "output_type": "execute_result"
    }
   ],
   "source": [
    "uac3.head(2)"
   ]
  },
  {
   "cell_type": "code",
   "execution_count": 25,
   "metadata": {},
   "outputs": [
    {
     "data": {
      "text/plain": [
       "Index(['FID_1', 'area', 'fme_datase', 'OBJECTID', 'Map_No', 'Registrati',\n",
       "       'Shape_Leng', 'Shape_Le_1', 'geometry'],\n",
       "      dtype='object')"
      ]
     },
     "execution_count": 25,
     "metadata": {},
     "output_type": "execute_result"
    }
   ],
   "source": [
    "uac3.columns"
   ]
  },
  {
   "cell_type": "code",
   "execution_count": 28,
   "metadata": {},
   "outputs": [
    {
     "data": {
      "text/html": [
       "<div>\n",
       "<style scoped>\n",
       "    .dataframe tbody tr th:only-of-type {\n",
       "        vertical-align: middle;\n",
       "    }\n",
       "\n",
       "    .dataframe tbody tr th {\n",
       "        vertical-align: top;\n",
       "    }\n",
       "\n",
       "    .dataframe thead th {\n",
       "        text-align: right;\n",
       "    }\n",
       "</style>\n",
       "<table border=\"1\" class=\"dataframe\">\n",
       "  <thead>\n",
       "    <tr style=\"text-align: right;\">\n",
       "      <th></th>\n",
       "      <th>OBJECTID</th>\n",
       "      <th>SHAPE_Leng</th>\n",
       "      <th>SHAPE_Area</th>\n",
       "      <th>Map_No</th>\n",
       "      <th>FID_</th>\n",
       "      <th>IMG_NM_IND</th>\n",
       "      <th>fme_datase</th>\n",
       "      <th>Shape_Le_1</th>\n",
       "      <th>Map_No_1</th>\n",
       "      <th>geometry</th>\n",
       "    </tr>\n",
       "  </thead>\n",
       "  <tbody>\n",
       "    <tr>\n",
       "      <th>0</th>\n",
       "      <td>1</td>\n",
       "      <td>317.837099</td>\n",
       "      <td>7224.640143</td>\n",
       "      <td>471</td>\n",
       "      <td>14</td>\n",
       "      <td>None</td>\n",
       "      <td>D:\\UC Downloads\\Incomplete polygons\\471_96.pdf</td>\n",
       "      <td>317.837099</td>\n",
       "      <td>471</td>\n",
       "      <td>POLYGON ((8592962.805 3308510.763, 8592940.683...</td>\n",
       "    </tr>\n",
       "    <tr>\n",
       "      <th>1</th>\n",
       "      <td>2</td>\n",
       "      <td>504.639615</td>\n",
       "      <td>6005.492786</td>\n",
       "      <td>467</td>\n",
       "      <td>17</td>\n",
       "      <td>None</td>\n",
       "      <td>D:\\UC Downloads\\Incomplete polygons\\467_1036.pdf</td>\n",
       "      <td>504.639615</td>\n",
       "      <td>467</td>\n",
       "      <td>POLYGON ((8592960.108 3309594.120, 8592938.021...</td>\n",
       "    </tr>\n",
       "    <tr>\n",
       "      <th>2</th>\n",
       "      <td>3</td>\n",
       "      <td>659.026989</td>\n",
       "      <td>19477.553208</td>\n",
       "      <td>468</td>\n",
       "      <td>13</td>\n",
       "      <td>None</td>\n",
       "      <td>D:\\UC Downloads\\Incomplete polygons\\468_1022.pdf</td>\n",
       "      <td>659.026989</td>\n",
       "      <td>468</td>\n",
       "      <td>POLYGON ((8592905.902 3311196.386, 8592906.651...</td>\n",
       "    </tr>\n",
       "    <tr>\n",
       "      <th>3</th>\n",
       "      <td>4</td>\n",
       "      <td>1628.198637</td>\n",
       "      <td>64890.555879</td>\n",
       "      <td>1350</td>\n",
       "      <td>15</td>\n",
       "      <td>None</td>\n",
       "      <td>D:\\UC Downloads\\Incomplete polygons\\1350_1354-...</td>\n",
       "      <td>1628.198637</td>\n",
       "      <td>1350</td>\n",
       "      <td>POLYGON ((8600327.881 3312934.656, 8600314.495...</td>\n",
       "    </tr>\n",
       "    <tr>\n",
       "      <th>4</th>\n",
       "      <td>5</td>\n",
       "      <td>4607.075855</td>\n",
       "      <td>509357.278642</td>\n",
       "      <td>1492</td>\n",
       "      <td>12</td>\n",
       "      <td>None</td>\n",
       "      <td>D:\\UC Downloads\\Incomplete polygons\\1492_22_EL...</td>\n",
       "      <td>4607.075855</td>\n",
       "      <td>1492</td>\n",
       "      <td>POLYGON ((8590656.678 3314980.221, 8590472.149...</td>\n",
       "    </tr>\n",
       "    <tr>\n",
       "      <th>5</th>\n",
       "      <td>6</td>\n",
       "      <td>7894.343974</td>\n",
       "      <td>296351.871083</td>\n",
       "      <td>1469</td>\n",
       "      <td>6</td>\n",
       "      <td>None</td>\n",
       "      <td>D:\\UC Downloads\\Incomplete polygons\\1469_839.pdf</td>\n",
       "      <td>7894.343974</td>\n",
       "      <td>1469</td>\n",
       "      <td>MULTIPOLYGON (((8582474.717 3316162.490, 85824...</td>\n",
       "    </tr>\n",
       "    <tr>\n",
       "      <th>6</th>\n",
       "      <td>8</td>\n",
       "      <td>1699.209543</td>\n",
       "      <td>98900.345655</td>\n",
       "      <td>1478</td>\n",
       "      <td>4</td>\n",
       "      <td>None</td>\n",
       "      <td>D:\\UC Downloads\\Incomplete polygons\\1478_1276_...</td>\n",
       "      <td>1699.209543</td>\n",
       "      <td>1478</td>\n",
       "      <td>POLYGON ((8568664.910 3326288.959, 8568658.486...</td>\n",
       "    </tr>\n",
       "    <tr>\n",
       "      <th>7</th>\n",
       "      <td>9</td>\n",
       "      <td>935.236699</td>\n",
       "      <td>24119.459544</td>\n",
       "      <td>648</td>\n",
       "      <td>18</td>\n",
       "      <td>None</td>\n",
       "      <td>D:\\UC Downloads\\Incomplete polygons\\648_748.pdf</td>\n",
       "      <td>859.998058</td>\n",
       "      <td>648</td>\n",
       "      <td>POLYGON ((8577386.486 3326835.875, 8577387.056...</td>\n",
       "    </tr>\n",
       "    <tr>\n",
       "      <th>8</th>\n",
       "      <td>10</td>\n",
       "      <td>3348.720346</td>\n",
       "      <td>246965.771888</td>\n",
       "      <td>1394</td>\n",
       "      <td>3</td>\n",
       "      <td>None</td>\n",
       "      <td>D:\\UC Downloads\\Incomplete polygons\\1394_922.pdf</td>\n",
       "      <td>3348.720346</td>\n",
       "      <td>1394</td>\n",
       "      <td>POLYGON ((8605303.306 3328175.328, 8605419.527...</td>\n",
       "    </tr>\n",
       "    <tr>\n",
       "      <th>9</th>\n",
       "      <td>11</td>\n",
       "      <td>1389.170249</td>\n",
       "      <td>32692.729918</td>\n",
       "      <td>813</td>\n",
       "      <td>2</td>\n",
       "      <td>None</td>\n",
       "      <td>D:\\UC Downloads\\Incomplete polygons\\813_1361.pdf</td>\n",
       "      <td>1364.965548</td>\n",
       "      <td>813</td>\n",
       "      <td>POLYGON ((8575714.856 3329773.854, 8575715.263...</td>\n",
       "    </tr>\n",
       "    <tr>\n",
       "      <th>10</th>\n",
       "      <td>12</td>\n",
       "      <td>1072.868261</td>\n",
       "      <td>62448.876804</td>\n",
       "      <td>1257</td>\n",
       "      <td>11</td>\n",
       "      <td>None</td>\n",
       "      <td>D:\\UC Downloads\\Incomplete polygons\\1257_724.pdf</td>\n",
       "      <td>1064.522662</td>\n",
       "      <td>1257</td>\n",
       "      <td>POLYGON ((8603999.322 3332808.838, 8604078.548...</td>\n",
       "    </tr>\n",
       "    <tr>\n",
       "      <th>11</th>\n",
       "      <td>13</td>\n",
       "      <td>890.806532</td>\n",
       "      <td>31183.624549</td>\n",
       "      <td>27</td>\n",
       "      <td>0</td>\n",
       "      <td>167_LAXMI VIHAR,PREM NAGAR PHASE -3,DELHI-110086</td>\n",
       "      <td>D:\\UC Downloads\\Incomplete polygons\\27_167.pdf</td>\n",
       "      <td>883.933852</td>\n",
       "      <td>27</td>\n",
       "      <td>POLYGON ((8576522.039 3336941.191, 8576576.418...</td>\n",
       "    </tr>\n",
       "    <tr>\n",
       "      <th>12</th>\n",
       "      <td>14</td>\n",
       "      <td>633.354353</td>\n",
       "      <td>15717.379615</td>\n",
       "      <td>1161</td>\n",
       "      <td>9</td>\n",
       "      <td>None</td>\n",
       "      <td>D:\\UC Downloads\\Incomplete polygons\\1161_625.pdf</td>\n",
       "      <td>622.043105</td>\n",
       "      <td>1161</td>\n",
       "      <td>POLYGON ((8576663.032 3336801.506, 8576647.696...</td>\n",
       "    </tr>\n",
       "    <tr>\n",
       "      <th>13</th>\n",
       "      <td>15</td>\n",
       "      <td>3443.049064</td>\n",
       "      <td>351880.291858</td>\n",
       "      <td>1338</td>\n",
       "      <td>5</td>\n",
       "      <td>None</td>\n",
       "      <td>D:\\UC Downloads\\Incomplete polygons\\1338_650.pdf</td>\n",
       "      <td>3443.049064</td>\n",
       "      <td>1338</td>\n",
       "      <td>POLYGON ((8600711.390 3340360.255, 8600724.770...</td>\n",
       "    </tr>\n",
       "    <tr>\n",
       "      <th>14</th>\n",
       "      <td>16</td>\n",
       "      <td>4369.996486</td>\n",
       "      <td>141549.822473</td>\n",
       "      <td>882</td>\n",
       "      <td>16</td>\n",
       "      <td>None</td>\n",
       "      <td>D:\\UC Downloads\\Incomplete polygons\\882_218.pdf</td>\n",
       "      <td>4342.421483</td>\n",
       "      <td>882</td>\n",
       "      <td>POLYGON ((8575193.159 3341022.052, 8575195.388...</td>\n",
       "    </tr>\n",
       "    <tr>\n",
       "      <th>15</th>\n",
       "      <td>17</td>\n",
       "      <td>4171.870253</td>\n",
       "      <td>435182.765557</td>\n",
       "      <td>1353</td>\n",
       "      <td>10</td>\n",
       "      <td>None</td>\n",
       "      <td>D:\\UC Downloads\\Incomplete polygons\\1353_561.pdf</td>\n",
       "      <td>4171.870253</td>\n",
       "      <td>1353</td>\n",
       "      <td>POLYGON ((8574830.088 3341549.589, 8574827.767...</td>\n",
       "    </tr>\n",
       "  </tbody>\n",
       "</table>\n",
       "</div>"
      ],
      "text/plain": [
       "    OBJECTID   SHAPE_Leng     SHAPE_Area  Map_No  FID_  \\\n",
       "0          1   317.837099    7224.640143     471    14   \n",
       "1          2   504.639615    6005.492786     467    17   \n",
       "2          3   659.026989   19477.553208     468    13   \n",
       "3          4  1628.198637   64890.555879    1350    15   \n",
       "4          5  4607.075855  509357.278642    1492    12   \n",
       "5          6  7894.343974  296351.871083    1469     6   \n",
       "6          8  1699.209543   98900.345655    1478     4   \n",
       "7          9   935.236699   24119.459544     648    18   \n",
       "8         10  3348.720346  246965.771888    1394     3   \n",
       "9         11  1389.170249   32692.729918     813     2   \n",
       "10        12  1072.868261   62448.876804    1257    11   \n",
       "11        13   890.806532   31183.624549      27     0   \n",
       "12        14   633.354353   15717.379615    1161     9   \n",
       "13        15  3443.049064  351880.291858    1338     5   \n",
       "14        16  4369.996486  141549.822473     882    16   \n",
       "15        17  4171.870253  435182.765557    1353    10   \n",
       "\n",
       "                                          IMG_NM_IND  \\\n",
       "0                                               None   \n",
       "1                                               None   \n",
       "2                                               None   \n",
       "3                                               None   \n",
       "4                                               None   \n",
       "5                                               None   \n",
       "6                                               None   \n",
       "7                                               None   \n",
       "8                                               None   \n",
       "9                                               None   \n",
       "10                                              None   \n",
       "11  167_LAXMI VIHAR,PREM NAGAR PHASE -3,DELHI-110086   \n",
       "12                                              None   \n",
       "13                                              None   \n",
       "14                                              None   \n",
       "15                                              None   \n",
       "\n",
       "                                           fme_datase   Shape_Le_1  Map_No_1  \\\n",
       "0      D:\\UC Downloads\\Incomplete polygons\\471_96.pdf   317.837099       471   \n",
       "1    D:\\UC Downloads\\Incomplete polygons\\467_1036.pdf   504.639615       467   \n",
       "2    D:\\UC Downloads\\Incomplete polygons\\468_1022.pdf   659.026989       468   \n",
       "3   D:\\UC Downloads\\Incomplete polygons\\1350_1354-...  1628.198637      1350   \n",
       "4   D:\\UC Downloads\\Incomplete polygons\\1492_22_EL...  4607.075855      1492   \n",
       "5    D:\\UC Downloads\\Incomplete polygons\\1469_839.pdf  7894.343974      1469   \n",
       "6   D:\\UC Downloads\\Incomplete polygons\\1478_1276_...  1699.209543      1478   \n",
       "7     D:\\UC Downloads\\Incomplete polygons\\648_748.pdf   859.998058       648   \n",
       "8    D:\\UC Downloads\\Incomplete polygons\\1394_922.pdf  3348.720346      1394   \n",
       "9    D:\\UC Downloads\\Incomplete polygons\\813_1361.pdf  1364.965548       813   \n",
       "10   D:\\UC Downloads\\Incomplete polygons\\1257_724.pdf  1064.522662      1257   \n",
       "11     D:\\UC Downloads\\Incomplete polygons\\27_167.pdf   883.933852        27   \n",
       "12   D:\\UC Downloads\\Incomplete polygons\\1161_625.pdf   622.043105      1161   \n",
       "13   D:\\UC Downloads\\Incomplete polygons\\1338_650.pdf  3443.049064      1338   \n",
       "14    D:\\UC Downloads\\Incomplete polygons\\882_218.pdf  4342.421483       882   \n",
       "15   D:\\UC Downloads\\Incomplete polygons\\1353_561.pdf  4171.870253      1353   \n",
       "\n",
       "                                             geometry  \n",
       "0   POLYGON ((8592962.805 3308510.763, 8592940.683...  \n",
       "1   POLYGON ((8592960.108 3309594.120, 8592938.021...  \n",
       "2   POLYGON ((8592905.902 3311196.386, 8592906.651...  \n",
       "3   POLYGON ((8600327.881 3312934.656, 8600314.495...  \n",
       "4   POLYGON ((8590656.678 3314980.221, 8590472.149...  \n",
       "5   MULTIPOLYGON (((8582474.717 3316162.490, 85824...  \n",
       "6   POLYGON ((8568664.910 3326288.959, 8568658.486...  \n",
       "7   POLYGON ((8577386.486 3326835.875, 8577387.056...  \n",
       "8   POLYGON ((8605303.306 3328175.328, 8605419.527...  \n",
       "9   POLYGON ((8575714.856 3329773.854, 8575715.263...  \n",
       "10  POLYGON ((8603999.322 3332808.838, 8604078.548...  \n",
       "11  POLYGON ((8576522.039 3336941.191, 8576576.418...  \n",
       "12  POLYGON ((8576663.032 3336801.506, 8576647.696...  \n",
       "13  POLYGON ((8600711.390 3340360.255, 8600724.770...  \n",
       "14  POLYGON ((8575193.159 3341022.052, 8575195.388...  \n",
       "15  POLYGON ((8574830.088 3341549.589, 8574827.767...  "
      ]
     },
     "execution_count": 28,
     "metadata": {},
     "output_type": "execute_result"
    }
   ],
   "source": [
    "uac4.head(16)"
   ]
  },
  {
   "cell_type": "code",
   "execution_count": 27,
   "metadata": {},
   "outputs": [
    {
     "data": {
      "text/plain": [
       "Index(['OBJECTID', 'SHAPE_Leng', 'SHAPE_Area', 'Map_No', 'FID_', 'IMG_NM_IND',\n",
       "       'fme_datase', 'Shape_Le_1', 'Map_No_1', 'geometry'],\n",
       "      dtype='object')"
      ]
     },
     "execution_count": 27,
     "metadata": {},
     "output_type": "execute_result"
    }
   ],
   "source": [
    "uac4.columns"
   ]
  },
  {
   "cell_type": "code",
   "execution_count": 22,
   "metadata": {},
   "outputs": [
    {
     "data": {
      "text/plain": [
       "16"
      ]
     },
     "execution_count": 22,
     "metadata": {},
     "output_type": "execute_result"
    }
   ],
   "source": [
    "len(uac4)"
   ]
  },
  {
   "cell_type": "markdown",
   "metadata": {},
   "source": [
    "### Create registration id for uac4 shapefile (using regex)"
   ]
  },
  {
   "cell_type": "code",
   "execution_count": 30,
   "metadata": {},
   "outputs": [],
   "source": [
    "import re"
   ]
  },
  {
   "cell_type": "code",
   "execution_count": 75,
   "metadata": {},
   "outputs": [],
   "source": [
    "# Takes into account registration numbers that\n",
    "# are only numbers and those that include\n",
    "# dashes, underscores, and letters\n",
    "# We want to extract group 2.\n",
    "pattern = r\"\\\\(\\d+)_(\\d+.*).pdf\""
   ]
  },
  {
   "cell_type": "code",
   "execution_count": 77,
   "metadata": {},
   "outputs": [],
   "source": [
    "# Initialize registration number column\n",
    "uac4['registration_no'] = -1"
   ]
  },
  {
   "cell_type": "code",
   "execution_count": 78,
   "metadata": {},
   "outputs": [
    {
     "data": {
      "text/html": [
       "<div>\n",
       "<style scoped>\n",
       "    .dataframe tbody tr th:only-of-type {\n",
       "        vertical-align: middle;\n",
       "    }\n",
       "\n",
       "    .dataframe tbody tr th {\n",
       "        vertical-align: top;\n",
       "    }\n",
       "\n",
       "    .dataframe thead th {\n",
       "        text-align: right;\n",
       "    }\n",
       "</style>\n",
       "<table border=\"1\" class=\"dataframe\">\n",
       "  <thead>\n",
       "    <tr style=\"text-align: right;\">\n",
       "      <th></th>\n",
       "      <th>OBJECTID</th>\n",
       "      <th>SHAPE_Leng</th>\n",
       "      <th>SHAPE_Area</th>\n",
       "      <th>Map_No</th>\n",
       "      <th>FID_</th>\n",
       "      <th>IMG_NM_IND</th>\n",
       "      <th>fme_datase</th>\n",
       "      <th>Shape_Le_1</th>\n",
       "      <th>Map_No_1</th>\n",
       "      <th>geometry</th>\n",
       "      <th>registration_no</th>\n",
       "    </tr>\n",
       "  </thead>\n",
       "  <tbody>\n",
       "    <tr>\n",
       "      <th>0</th>\n",
       "      <td>1</td>\n",
       "      <td>317.837099</td>\n",
       "      <td>7224.640143</td>\n",
       "      <td>471</td>\n",
       "      <td>14</td>\n",
       "      <td>None</td>\n",
       "      <td>D:\\UC Downloads\\Incomplete polygons\\471_96.pdf</td>\n",
       "      <td>317.837099</td>\n",
       "      <td>471</td>\n",
       "      <td>POLYGON ((8592962.805 3308510.763, 8592940.683...</td>\n",
       "      <td>-1</td>\n",
       "    </tr>\n",
       "    <tr>\n",
       "      <th>1</th>\n",
       "      <td>2</td>\n",
       "      <td>504.639615</td>\n",
       "      <td>6005.492786</td>\n",
       "      <td>467</td>\n",
       "      <td>17</td>\n",
       "      <td>None</td>\n",
       "      <td>D:\\UC Downloads\\Incomplete polygons\\467_1036.pdf</td>\n",
       "      <td>504.639615</td>\n",
       "      <td>467</td>\n",
       "      <td>POLYGON ((8592960.108 3309594.120, 8592938.021...</td>\n",
       "      <td>-1</td>\n",
       "    </tr>\n",
       "  </tbody>\n",
       "</table>\n",
       "</div>"
      ],
      "text/plain": [
       "   OBJECTID  SHAPE_Leng   SHAPE_Area  Map_No  FID_ IMG_NM_IND  \\\n",
       "0         1  317.837099  7224.640143     471    14       None   \n",
       "1         2  504.639615  6005.492786     467    17       None   \n",
       "\n",
       "                                         fme_datase  Shape_Le_1  Map_No_1  \\\n",
       "0    D:\\UC Downloads\\Incomplete polygons\\471_96.pdf  317.837099       471   \n",
       "1  D:\\UC Downloads\\Incomplete polygons\\467_1036.pdf  504.639615       467   \n",
       "\n",
       "                                            geometry  registration_no  \n",
       "0  POLYGON ((8592962.805 3308510.763, 8592940.683...               -1  \n",
       "1  POLYGON ((8592960.108 3309594.120, 8592938.021...               -1  "
      ]
     },
     "execution_count": 78,
     "metadata": {},
     "output_type": "execute_result"
    }
   ],
   "source": [
    "# Inspect registration number column\n",
    "uac4.head(2)"
   ]
  },
  {
   "cell_type": "code",
   "execution_count": 79,
   "metadata": {},
   "outputs": [],
   "source": [
    "# Extract registration number from fme_datase entry\n",
    "# and place into its own column\n",
    "for idx, row in uac4.iterrows():\n",
    "    try:\n",
    "        matches = re.search(pattern, row['fme_datase'])\n",
    "        uac4.loc[idx, 'registration_no'] = matches.group(2)\n",
    "    except:\n",
    "        continue"
   ]
  },
  {
   "cell_type": "code",
   "execution_count": 80,
   "metadata": {},
   "outputs": [
    {
     "data": {
      "text/html": [
       "<div>\n",
       "<style scoped>\n",
       "    .dataframe tbody tr th:only-of-type {\n",
       "        vertical-align: middle;\n",
       "    }\n",
       "\n",
       "    .dataframe tbody tr th {\n",
       "        vertical-align: top;\n",
       "    }\n",
       "\n",
       "    .dataframe thead th {\n",
       "        text-align: right;\n",
       "    }\n",
       "</style>\n",
       "<table border=\"1\" class=\"dataframe\">\n",
       "  <thead>\n",
       "    <tr style=\"text-align: right;\">\n",
       "      <th></th>\n",
       "      <th>OBJECTID</th>\n",
       "      <th>SHAPE_Leng</th>\n",
       "      <th>SHAPE_Area</th>\n",
       "      <th>Map_No</th>\n",
       "      <th>FID_</th>\n",
       "      <th>IMG_NM_IND</th>\n",
       "      <th>fme_datase</th>\n",
       "      <th>Shape_Le_1</th>\n",
       "      <th>Map_No_1</th>\n",
       "      <th>geometry</th>\n",
       "      <th>registration_no</th>\n",
       "    </tr>\n",
       "  </thead>\n",
       "  <tbody>\n",
       "    <tr>\n",
       "      <th>0</th>\n",
       "      <td>1</td>\n",
       "      <td>317.837099</td>\n",
       "      <td>7224.640143</td>\n",
       "      <td>471</td>\n",
       "      <td>14</td>\n",
       "      <td>None</td>\n",
       "      <td>D:\\UC Downloads\\Incomplete polygons\\471_96.pdf</td>\n",
       "      <td>317.837099</td>\n",
       "      <td>471</td>\n",
       "      <td>POLYGON ((8592962.805 3308510.763, 8592940.683...</td>\n",
       "      <td>96</td>\n",
       "    </tr>\n",
       "    <tr>\n",
       "      <th>1</th>\n",
       "      <td>2</td>\n",
       "      <td>504.639615</td>\n",
       "      <td>6005.492786</td>\n",
       "      <td>467</td>\n",
       "      <td>17</td>\n",
       "      <td>None</td>\n",
       "      <td>D:\\UC Downloads\\Incomplete polygons\\467_1036.pdf</td>\n",
       "      <td>504.639615</td>\n",
       "      <td>467</td>\n",
       "      <td>POLYGON ((8592960.108 3309594.120, 8592938.021...</td>\n",
       "      <td>1036</td>\n",
       "    </tr>\n",
       "    <tr>\n",
       "      <th>2</th>\n",
       "      <td>3</td>\n",
       "      <td>659.026989</td>\n",
       "      <td>19477.553208</td>\n",
       "      <td>468</td>\n",
       "      <td>13</td>\n",
       "      <td>None</td>\n",
       "      <td>D:\\UC Downloads\\Incomplete polygons\\468_1022.pdf</td>\n",
       "      <td>659.026989</td>\n",
       "      <td>468</td>\n",
       "      <td>POLYGON ((8592905.902 3311196.386, 8592906.651...</td>\n",
       "      <td>1022</td>\n",
       "    </tr>\n",
       "    <tr>\n",
       "      <th>3</th>\n",
       "      <td>4</td>\n",
       "      <td>1628.198637</td>\n",
       "      <td>64890.555879</td>\n",
       "      <td>1350</td>\n",
       "      <td>15</td>\n",
       "      <td>None</td>\n",
       "      <td>D:\\UC Downloads\\Incomplete polygons\\1350_1354-...</td>\n",
       "      <td>1628.198637</td>\n",
       "      <td>1350</td>\n",
       "      <td>POLYGON ((8600327.881 3312934.656, 8600314.495...</td>\n",
       "      <td>1354-B</td>\n",
       "    </tr>\n",
       "    <tr>\n",
       "      <th>4</th>\n",
       "      <td>5</td>\n",
       "      <td>4607.075855</td>\n",
       "      <td>509357.278642</td>\n",
       "      <td>1492</td>\n",
       "      <td>12</td>\n",
       "      <td>None</td>\n",
       "      <td>D:\\UC Downloads\\Incomplete polygons\\1492_22_EL...</td>\n",
       "      <td>4607.075855</td>\n",
       "      <td>1492</td>\n",
       "      <td>POLYGON ((8590656.678 3314980.221, 8590472.149...</td>\n",
       "      <td>22_ELD</td>\n",
       "    </tr>\n",
       "    <tr>\n",
       "      <th>5</th>\n",
       "      <td>6</td>\n",
       "      <td>7894.343974</td>\n",
       "      <td>296351.871083</td>\n",
       "      <td>1469</td>\n",
       "      <td>6</td>\n",
       "      <td>None</td>\n",
       "      <td>D:\\UC Downloads\\Incomplete polygons\\1469_839.pdf</td>\n",
       "      <td>7894.343974</td>\n",
       "      <td>1469</td>\n",
       "      <td>MULTIPOLYGON (((8582474.717 3316162.490, 85824...</td>\n",
       "      <td>839</td>\n",
       "    </tr>\n",
       "    <tr>\n",
       "      <th>6</th>\n",
       "      <td>8</td>\n",
       "      <td>1699.209543</td>\n",
       "      <td>98900.345655</td>\n",
       "      <td>1478</td>\n",
       "      <td>4</td>\n",
       "      <td>None</td>\n",
       "      <td>D:\\UC Downloads\\Incomplete polygons\\1478_1276_...</td>\n",
       "      <td>1699.209543</td>\n",
       "      <td>1478</td>\n",
       "      <td>POLYGON ((8568664.910 3326288.959, 8568658.486...</td>\n",
       "      <td>1276_C</td>\n",
       "    </tr>\n",
       "    <tr>\n",
       "      <th>7</th>\n",
       "      <td>9</td>\n",
       "      <td>935.236699</td>\n",
       "      <td>24119.459544</td>\n",
       "      <td>648</td>\n",
       "      <td>18</td>\n",
       "      <td>None</td>\n",
       "      <td>D:\\UC Downloads\\Incomplete polygons\\648_748.pdf</td>\n",
       "      <td>859.998058</td>\n",
       "      <td>648</td>\n",
       "      <td>POLYGON ((8577386.486 3326835.875, 8577387.056...</td>\n",
       "      <td>748</td>\n",
       "    </tr>\n",
       "    <tr>\n",
       "      <th>8</th>\n",
       "      <td>10</td>\n",
       "      <td>3348.720346</td>\n",
       "      <td>246965.771888</td>\n",
       "      <td>1394</td>\n",
       "      <td>3</td>\n",
       "      <td>None</td>\n",
       "      <td>D:\\UC Downloads\\Incomplete polygons\\1394_922.pdf</td>\n",
       "      <td>3348.720346</td>\n",
       "      <td>1394</td>\n",
       "      <td>POLYGON ((8605303.306 3328175.328, 8605419.527...</td>\n",
       "      <td>922</td>\n",
       "    </tr>\n",
       "    <tr>\n",
       "      <th>9</th>\n",
       "      <td>11</td>\n",
       "      <td>1389.170249</td>\n",
       "      <td>32692.729918</td>\n",
       "      <td>813</td>\n",
       "      <td>2</td>\n",
       "      <td>None</td>\n",
       "      <td>D:\\UC Downloads\\Incomplete polygons\\813_1361.pdf</td>\n",
       "      <td>1364.965548</td>\n",
       "      <td>813</td>\n",
       "      <td>POLYGON ((8575714.856 3329773.854, 8575715.263...</td>\n",
       "      <td>1361</td>\n",
       "    </tr>\n",
       "    <tr>\n",
       "      <th>10</th>\n",
       "      <td>12</td>\n",
       "      <td>1072.868261</td>\n",
       "      <td>62448.876804</td>\n",
       "      <td>1257</td>\n",
       "      <td>11</td>\n",
       "      <td>None</td>\n",
       "      <td>D:\\UC Downloads\\Incomplete polygons\\1257_724.pdf</td>\n",
       "      <td>1064.522662</td>\n",
       "      <td>1257</td>\n",
       "      <td>POLYGON ((8603999.322 3332808.838, 8604078.548...</td>\n",
       "      <td>724</td>\n",
       "    </tr>\n",
       "    <tr>\n",
       "      <th>11</th>\n",
       "      <td>13</td>\n",
       "      <td>890.806532</td>\n",
       "      <td>31183.624549</td>\n",
       "      <td>27</td>\n",
       "      <td>0</td>\n",
       "      <td>167_LAXMI VIHAR,PREM NAGAR PHASE -3,DELHI-110086</td>\n",
       "      <td>D:\\UC Downloads\\Incomplete polygons\\27_167.pdf</td>\n",
       "      <td>883.933852</td>\n",
       "      <td>27</td>\n",
       "      <td>POLYGON ((8576522.039 3336941.191, 8576576.418...</td>\n",
       "      <td>167</td>\n",
       "    </tr>\n",
       "    <tr>\n",
       "      <th>12</th>\n",
       "      <td>14</td>\n",
       "      <td>633.354353</td>\n",
       "      <td>15717.379615</td>\n",
       "      <td>1161</td>\n",
       "      <td>9</td>\n",
       "      <td>None</td>\n",
       "      <td>D:\\UC Downloads\\Incomplete polygons\\1161_625.pdf</td>\n",
       "      <td>622.043105</td>\n",
       "      <td>1161</td>\n",
       "      <td>POLYGON ((8576663.032 3336801.506, 8576647.696...</td>\n",
       "      <td>625</td>\n",
       "    </tr>\n",
       "    <tr>\n",
       "      <th>13</th>\n",
       "      <td>15</td>\n",
       "      <td>3443.049064</td>\n",
       "      <td>351880.291858</td>\n",
       "      <td>1338</td>\n",
       "      <td>5</td>\n",
       "      <td>None</td>\n",
       "      <td>D:\\UC Downloads\\Incomplete polygons\\1338_650.pdf</td>\n",
       "      <td>3443.049064</td>\n",
       "      <td>1338</td>\n",
       "      <td>POLYGON ((8600711.390 3340360.255, 8600724.770...</td>\n",
       "      <td>650</td>\n",
       "    </tr>\n",
       "    <tr>\n",
       "      <th>14</th>\n",
       "      <td>16</td>\n",
       "      <td>4369.996486</td>\n",
       "      <td>141549.822473</td>\n",
       "      <td>882</td>\n",
       "      <td>16</td>\n",
       "      <td>None</td>\n",
       "      <td>D:\\UC Downloads\\Incomplete polygons\\882_218.pdf</td>\n",
       "      <td>4342.421483</td>\n",
       "      <td>882</td>\n",
       "      <td>POLYGON ((8575193.159 3341022.052, 8575195.388...</td>\n",
       "      <td>218</td>\n",
       "    </tr>\n",
       "    <tr>\n",
       "      <th>15</th>\n",
       "      <td>17</td>\n",
       "      <td>4171.870253</td>\n",
       "      <td>435182.765557</td>\n",
       "      <td>1353</td>\n",
       "      <td>10</td>\n",
       "      <td>None</td>\n",
       "      <td>D:\\UC Downloads\\Incomplete polygons\\1353_561.pdf</td>\n",
       "      <td>4171.870253</td>\n",
       "      <td>1353</td>\n",
       "      <td>POLYGON ((8574830.088 3341549.589, 8574827.767...</td>\n",
       "      <td>561</td>\n",
       "    </tr>\n",
       "  </tbody>\n",
       "</table>\n",
       "</div>"
      ],
      "text/plain": [
       "    OBJECTID   SHAPE_Leng     SHAPE_Area  Map_No  FID_  \\\n",
       "0          1   317.837099    7224.640143     471    14   \n",
       "1          2   504.639615    6005.492786     467    17   \n",
       "2          3   659.026989   19477.553208     468    13   \n",
       "3          4  1628.198637   64890.555879    1350    15   \n",
       "4          5  4607.075855  509357.278642    1492    12   \n",
       "5          6  7894.343974  296351.871083    1469     6   \n",
       "6          8  1699.209543   98900.345655    1478     4   \n",
       "7          9   935.236699   24119.459544     648    18   \n",
       "8         10  3348.720346  246965.771888    1394     3   \n",
       "9         11  1389.170249   32692.729918     813     2   \n",
       "10        12  1072.868261   62448.876804    1257    11   \n",
       "11        13   890.806532   31183.624549      27     0   \n",
       "12        14   633.354353   15717.379615    1161     9   \n",
       "13        15  3443.049064  351880.291858    1338     5   \n",
       "14        16  4369.996486  141549.822473     882    16   \n",
       "15        17  4171.870253  435182.765557    1353    10   \n",
       "\n",
       "                                          IMG_NM_IND  \\\n",
       "0                                               None   \n",
       "1                                               None   \n",
       "2                                               None   \n",
       "3                                               None   \n",
       "4                                               None   \n",
       "5                                               None   \n",
       "6                                               None   \n",
       "7                                               None   \n",
       "8                                               None   \n",
       "9                                               None   \n",
       "10                                              None   \n",
       "11  167_LAXMI VIHAR,PREM NAGAR PHASE -3,DELHI-110086   \n",
       "12                                              None   \n",
       "13                                              None   \n",
       "14                                              None   \n",
       "15                                              None   \n",
       "\n",
       "                                           fme_datase   Shape_Le_1  Map_No_1  \\\n",
       "0      D:\\UC Downloads\\Incomplete polygons\\471_96.pdf   317.837099       471   \n",
       "1    D:\\UC Downloads\\Incomplete polygons\\467_1036.pdf   504.639615       467   \n",
       "2    D:\\UC Downloads\\Incomplete polygons\\468_1022.pdf   659.026989       468   \n",
       "3   D:\\UC Downloads\\Incomplete polygons\\1350_1354-...  1628.198637      1350   \n",
       "4   D:\\UC Downloads\\Incomplete polygons\\1492_22_EL...  4607.075855      1492   \n",
       "5    D:\\UC Downloads\\Incomplete polygons\\1469_839.pdf  7894.343974      1469   \n",
       "6   D:\\UC Downloads\\Incomplete polygons\\1478_1276_...  1699.209543      1478   \n",
       "7     D:\\UC Downloads\\Incomplete polygons\\648_748.pdf   859.998058       648   \n",
       "8    D:\\UC Downloads\\Incomplete polygons\\1394_922.pdf  3348.720346      1394   \n",
       "9    D:\\UC Downloads\\Incomplete polygons\\813_1361.pdf  1364.965548       813   \n",
       "10   D:\\UC Downloads\\Incomplete polygons\\1257_724.pdf  1064.522662      1257   \n",
       "11     D:\\UC Downloads\\Incomplete polygons\\27_167.pdf   883.933852        27   \n",
       "12   D:\\UC Downloads\\Incomplete polygons\\1161_625.pdf   622.043105      1161   \n",
       "13   D:\\UC Downloads\\Incomplete polygons\\1338_650.pdf  3443.049064      1338   \n",
       "14    D:\\UC Downloads\\Incomplete polygons\\882_218.pdf  4342.421483       882   \n",
       "15   D:\\UC Downloads\\Incomplete polygons\\1353_561.pdf  4171.870253      1353   \n",
       "\n",
       "                                             geometry registration_no  \n",
       "0   POLYGON ((8592962.805 3308510.763, 8592940.683...              96  \n",
       "1   POLYGON ((8592960.108 3309594.120, 8592938.021...            1036  \n",
       "2   POLYGON ((8592905.902 3311196.386, 8592906.651...            1022  \n",
       "3   POLYGON ((8600327.881 3312934.656, 8600314.495...          1354-B  \n",
       "4   POLYGON ((8590656.678 3314980.221, 8590472.149...          22_ELD  \n",
       "5   MULTIPOLYGON (((8582474.717 3316162.490, 85824...             839  \n",
       "6   POLYGON ((8568664.910 3326288.959, 8568658.486...          1276_C  \n",
       "7   POLYGON ((8577386.486 3326835.875, 8577387.056...             748  \n",
       "8   POLYGON ((8605303.306 3328175.328, 8605419.527...             922  \n",
       "9   POLYGON ((8575714.856 3329773.854, 8575715.263...            1361  \n",
       "10  POLYGON ((8603999.322 3332808.838, 8604078.548...             724  \n",
       "11  POLYGON ((8576522.039 3336941.191, 8576576.418...             167  \n",
       "12  POLYGON ((8576663.032 3336801.506, 8576647.696...             625  \n",
       "13  POLYGON ((8600711.390 3340360.255, 8600724.770...             650  \n",
       "14  POLYGON ((8575193.159 3341022.052, 8575195.388...             218  \n",
       "15  POLYGON ((8574830.088 3341549.589, 8574827.767...             561  "
      ]
     },
     "execution_count": 80,
     "metadata": {},
     "output_type": "execute_result"
    }
   ],
   "source": [
    "uac4"
   ]
  },
  {
   "cell_type": "markdown",
   "metadata": {},
   "source": [
    "### Harmonize columns"
   ]
  },
  {
   "cell_type": "markdown",
   "metadata": {},
   "source": [
    "#### uac1"
   ]
  },
  {
   "cell_type": "code",
   "execution_count": 81,
   "metadata": {},
   "outputs": [
    {
     "data": {
      "text/plain": [
       "Index(['OBJECTID', 'MAP_NO', 'REGISTRATI', 'IMG_NM_IND', 'FME_DATASE', 'layer',\n",
       "       'path', 'geometry'],\n",
       "      dtype='object')"
      ]
     },
     "execution_count": 81,
     "metadata": {},
     "output_type": "execute_result"
    }
   ],
   "source": [
    "uac1.columns"
   ]
  },
  {
   "cell_type": "code",
   "execution_count": 82,
   "metadata": {},
   "outputs": [],
   "source": [
    "uac1_rename = {'MAP_NO': 'map_no', 'REGISTRATI': 'registration_no', 'FME_DATASE': 'fme_database'}"
   ]
  },
  {
   "cell_type": "code",
   "execution_count": 84,
   "metadata": {},
   "outputs": [],
   "source": [
    "uac1 = uac1.rename(columns=uac1_rename)"
   ]
  },
  {
   "cell_type": "code",
   "execution_count": 85,
   "metadata": {},
   "outputs": [],
   "source": [
    "uac1 = uac1[['map_no', 'registration_no', 'fme_database', 'geometry']]"
   ]
  },
  {
   "cell_type": "code",
   "execution_count": 86,
   "metadata": {},
   "outputs": [
    {
     "data": {
      "text/html": [
       "<div>\n",
       "<style scoped>\n",
       "    .dataframe tbody tr th:only-of-type {\n",
       "        vertical-align: middle;\n",
       "    }\n",
       "\n",
       "    .dataframe tbody tr th {\n",
       "        vertical-align: top;\n",
       "    }\n",
       "\n",
       "    .dataframe thead th {\n",
       "        text-align: right;\n",
       "    }\n",
       "</style>\n",
       "<table border=\"1\" class=\"dataframe\">\n",
       "  <thead>\n",
       "    <tr style=\"text-align: right;\">\n",
       "      <th></th>\n",
       "      <th>map_no</th>\n",
       "      <th>registration_no</th>\n",
       "      <th>fme_database</th>\n",
       "      <th>geometry</th>\n",
       "    </tr>\n",
       "  </thead>\n",
       "  <tbody>\n",
       "    <tr>\n",
       "      <th>0</th>\n",
       "      <td>520</td>\n",
       "      <td>570</td>\n",
       "      <td>D:\\UC Downloads\\UC_501-600-Done\\520_570.pdf</td>\n",
       "      <td>POLYGON ((8568698.722 3350778.289, 8568688.910...</td>\n",
       "    </tr>\n",
       "    <tr>\n",
       "      <th>1</th>\n",
       "      <td>509</td>\n",
       "      <td>888</td>\n",
       "      <td>D:\\UC Downloads\\UC_501-600-Done\\509_888.pdf</td>\n",
       "      <td>POLYGON ((8580894.912 3343225.741, 8580905.114...</td>\n",
       "    </tr>\n",
       "    <tr>\n",
       "      <th>2</th>\n",
       "      <td>516</td>\n",
       "      <td>658</td>\n",
       "      <td>D:\\UC Downloads\\UC_501-600-Done\\516_658.pdf</td>\n",
       "      <td>POLYGON ((8574843.534 3349736.689, 8574924.630...</td>\n",
       "    </tr>\n",
       "    <tr>\n",
       "      <th>3</th>\n",
       "      <td>503</td>\n",
       "      <td>200</td>\n",
       "      <td>D:\\UC Downloads\\UC_501-600-Done\\503_200.pdf</td>\n",
       "      <td>POLYGON ((8578433.979 3352949.941, 8578436.107...</td>\n",
       "    </tr>\n",
       "    <tr>\n",
       "      <th>4</th>\n",
       "      <td>504</td>\n",
       "      <td>1194</td>\n",
       "      <td>D:\\UC Downloads\\UC_501-600-Done\\504_1194.pdf</td>\n",
       "      <td>POLYGON ((8579255.777 3353628.687, 8579180.169...</td>\n",
       "    </tr>\n",
       "  </tbody>\n",
       "</table>\n",
       "</div>"
      ],
      "text/plain": [
       "   map_no registration_no                                  fme_database  \\\n",
       "0     520             570   D:\\UC Downloads\\UC_501-600-Done\\520_570.pdf   \n",
       "1     509             888   D:\\UC Downloads\\UC_501-600-Done\\509_888.pdf   \n",
       "2     516             658   D:\\UC Downloads\\UC_501-600-Done\\516_658.pdf   \n",
       "3     503             200   D:\\UC Downloads\\UC_501-600-Done\\503_200.pdf   \n",
       "4     504            1194  D:\\UC Downloads\\UC_501-600-Done\\504_1194.pdf   \n",
       "\n",
       "                                            geometry  \n",
       "0  POLYGON ((8568698.722 3350778.289, 8568688.910...  \n",
       "1  POLYGON ((8580894.912 3343225.741, 8580905.114...  \n",
       "2  POLYGON ((8574843.534 3349736.689, 8574924.630...  \n",
       "3  POLYGON ((8578433.979 3352949.941, 8578436.107...  \n",
       "4  POLYGON ((8579255.777 3353628.687, 8579180.169...  "
      ]
     },
     "execution_count": 86,
     "metadata": {},
     "output_type": "execute_result"
    }
   ],
   "source": [
    "uac1.head()"
   ]
  },
  {
   "cell_type": "markdown",
   "metadata": {},
   "source": [
    "#### uac2"
   ]
  },
  {
   "cell_type": "code",
   "execution_count": 87,
   "metadata": {},
   "outputs": [
    {
     "data": {
      "text/plain": [
       "Index(['area', 'fme_datase', 'OBJECTID', 'Map_No', 'Registrati', 'FID_',\n",
       "       'Shape_Leng', 'geometry'],\n",
       "      dtype='object')"
      ]
     },
     "execution_count": 87,
     "metadata": {},
     "output_type": "execute_result"
    }
   ],
   "source": [
    "uac2.columns"
   ]
  },
  {
   "cell_type": "code",
   "execution_count": 88,
   "metadata": {},
   "outputs": [],
   "source": [
    "uac2_rename = {'Map_No': 'map_no', 'Registrati': 'registration_no', 'fme_datase': 'fme_database'}"
   ]
  },
  {
   "cell_type": "code",
   "execution_count": 89,
   "metadata": {},
   "outputs": [],
   "source": [
    "uac2 = uac2.rename(columns=uac2_rename)"
   ]
  },
  {
   "cell_type": "code",
   "execution_count": 90,
   "metadata": {},
   "outputs": [],
   "source": [
    "uac2 = uac2[['map_no', 'registration_no', 'fme_database', 'geometry']]"
   ]
  },
  {
   "cell_type": "code",
   "execution_count": 92,
   "metadata": {},
   "outputs": [
    {
     "data": {
      "text/html": [
       "<div>\n",
       "<style scoped>\n",
       "    .dataframe tbody tr th:only-of-type {\n",
       "        vertical-align: middle;\n",
       "    }\n",
       "\n",
       "    .dataframe tbody tr th {\n",
       "        vertical-align: top;\n",
       "    }\n",
       "\n",
       "    .dataframe thead th {\n",
       "        text-align: right;\n",
       "    }\n",
       "</style>\n",
       "<table border=\"1\" class=\"dataframe\">\n",
       "  <thead>\n",
       "    <tr style=\"text-align: right;\">\n",
       "      <th></th>\n",
       "      <th>map_no</th>\n",
       "      <th>registration_no</th>\n",
       "      <th>fme_database</th>\n",
       "      <th>geometry</th>\n",
       "    </tr>\n",
       "  </thead>\n",
       "  <tbody>\n",
       "    <tr>\n",
       "      <th>0</th>\n",
       "      <td>1428</td>\n",
       "      <td>577</td>\n",
       "      <td>D:\\UC Downloads\\aa-Missing files\\1428_577.pdf</td>\n",
       "      <td>POLYGON ((8580125.161 3355724.976, 8580175.448...</td>\n",
       "    </tr>\n",
       "    <tr>\n",
       "      <th>1</th>\n",
       "      <td>1302</td>\n",
       "      <td>728</td>\n",
       "      <td>D:\\UC Downloads\\aa-Missing files\\1302_728.pdf</td>\n",
       "      <td>POLYGON ((8583471.298 3344218.996, 8583550.471...</td>\n",
       "    </tr>\n",
       "    <tr>\n",
       "      <th>2</th>\n",
       "      <td>1300</td>\n",
       "      <td>1404</td>\n",
       "      <td>D:\\UC Downloads\\aa-Missing files\\1300_1404.pdf</td>\n",
       "      <td>POLYGON ((8589460.134 3342855.629, 8589451.497...</td>\n",
       "    </tr>\n",
       "    <tr>\n",
       "      <th>3</th>\n",
       "      <td>MAP 196</td>\n",
       "      <td>904</td>\n",
       "      <td>D:\\UC Downloads\\aa-Missing files\\MAP 196_904.pdf</td>\n",
       "      <td>POLYGON ((8590506.463 3344879.281, 8590663.658...</td>\n",
       "    </tr>\n",
       "    <tr>\n",
       "      <th>4</th>\n",
       "      <td>MAP 197</td>\n",
       "      <td>905</td>\n",
       "      <td>D:\\UC Downloads\\aa-Missing files\\MAP 197_905.pdf</td>\n",
       "      <td>POLYGON ((8589225.195 3344690.195, 8589226.925...</td>\n",
       "    </tr>\n",
       "    <tr>\n",
       "      <th>5</th>\n",
       "      <td>1321</td>\n",
       "      <td>27-(LOP)</td>\n",
       "      <td>D:\\UC Downloads\\aa-Missing files\\1321_27-(LOP)...</td>\n",
       "      <td>POLYGON ((8590682.723 3345966.645, 8590667.854...</td>\n",
       "    </tr>\n",
       "    <tr>\n",
       "      <th>6</th>\n",
       "      <td>1304</td>\n",
       "      <td>1588</td>\n",
       "      <td>D:\\UC Downloads\\aa-Missing files\\1304_1588.pdf</td>\n",
       "      <td>POLYGON ((8590903.305 3347923.009, 8590902.582...</td>\n",
       "    </tr>\n",
       "    <tr>\n",
       "      <th>7</th>\n",
       "      <td>1308</td>\n",
       "      <td>3</td>\n",
       "      <td>D:\\UC Downloads\\aa-Missing files\\1308_3_LOP.pdf</td>\n",
       "      <td>POLYGON ((8591062.050 3347550.620, 8591062.297...</td>\n",
       "    </tr>\n",
       "    <tr>\n",
       "      <th>8</th>\n",
       "      <td>MAP 194</td>\n",
       "      <td>470</td>\n",
       "      <td>D:\\UC Downloads\\aa-Missing files\\MAP 194_470.pdf</td>\n",
       "      <td>POLYGON ((8590556.502 3345562.504, 8590557.880...</td>\n",
       "    </tr>\n",
       "    <tr>\n",
       "      <th>9</th>\n",
       "      <td>1428</td>\n",
       "      <td>577</td>\n",
       "      <td>D:\\UC Downloads\\aa-Missing files\\1428_577.pdf</td>\n",
       "      <td>POLYGON ((8580544.696 3354910.504, 8580568.877...</td>\n",
       "    </tr>\n",
       "  </tbody>\n",
       "</table>\n",
       "</div>"
      ],
      "text/plain": [
       "    map_no registration_no                                       fme_database  \\\n",
       "0     1428             577      D:\\UC Downloads\\aa-Missing files\\1428_577.pdf   \n",
       "1     1302             728      D:\\UC Downloads\\aa-Missing files\\1302_728.pdf   \n",
       "2     1300            1404     D:\\UC Downloads\\aa-Missing files\\1300_1404.pdf   \n",
       "3  MAP 196             904   D:\\UC Downloads\\aa-Missing files\\MAP 196_904.pdf   \n",
       "4  MAP 197             905   D:\\UC Downloads\\aa-Missing files\\MAP 197_905.pdf   \n",
       "5     1321        27-(LOP)  D:\\UC Downloads\\aa-Missing files\\1321_27-(LOP)...   \n",
       "6     1304            1588     D:\\UC Downloads\\aa-Missing files\\1304_1588.pdf   \n",
       "7     1308               3    D:\\UC Downloads\\aa-Missing files\\1308_3_LOP.pdf   \n",
       "8  MAP 194             470   D:\\UC Downloads\\aa-Missing files\\MAP 194_470.pdf   \n",
       "9     1428             577      D:\\UC Downloads\\aa-Missing files\\1428_577.pdf   \n",
       "\n",
       "                                            geometry  \n",
       "0  POLYGON ((8580125.161 3355724.976, 8580175.448...  \n",
       "1  POLYGON ((8583471.298 3344218.996, 8583550.471...  \n",
       "2  POLYGON ((8589460.134 3342855.629, 8589451.497...  \n",
       "3  POLYGON ((8590506.463 3344879.281, 8590663.658...  \n",
       "4  POLYGON ((8589225.195 3344690.195, 8589226.925...  \n",
       "5  POLYGON ((8590682.723 3345966.645, 8590667.854...  \n",
       "6  POLYGON ((8590903.305 3347923.009, 8590902.582...  \n",
       "7  POLYGON ((8591062.050 3347550.620, 8591062.297...  \n",
       "8  POLYGON ((8590556.502 3345562.504, 8590557.880...  \n",
       "9  POLYGON ((8580544.696 3354910.504, 8580568.877...  "
      ]
     },
     "execution_count": 92,
     "metadata": {},
     "output_type": "execute_result"
    }
   ],
   "source": [
    "uac2.head(10)"
   ]
  },
  {
   "cell_type": "markdown",
   "metadata": {},
   "source": [
    "#### uac3"
   ]
  },
  {
   "cell_type": "code",
   "execution_count": 93,
   "metadata": {},
   "outputs": [
    {
     "data": {
      "text/plain": [
       "Index(['FID_1', 'area', 'fme_datase', 'OBJECTID', 'Map_No', 'Registrati',\n",
       "       'Shape_Leng', 'Shape_Le_1', 'geometry'],\n",
       "      dtype='object')"
      ]
     },
     "execution_count": 93,
     "metadata": {},
     "output_type": "execute_result"
    }
   ],
   "source": [
    "uac3.columns"
   ]
  },
  {
   "cell_type": "code",
   "execution_count": 94,
   "metadata": {},
   "outputs": [],
   "source": [
    "uac3_rename = {'Map_No': 'map_no', 'Registrati': 'registration_no', 'fme_datase': 'fme_database'}"
   ]
  },
  {
   "cell_type": "code",
   "execution_count": 95,
   "metadata": {},
   "outputs": [],
   "source": [
    "uac3 = uac3.rename(columns=uac3_rename)"
   ]
  },
  {
   "cell_type": "code",
   "execution_count": 96,
   "metadata": {},
   "outputs": [],
   "source": [
    "uac3 = uac3[['map_no', 'registration_no', 'fme_database', 'geometry']]"
   ]
  },
  {
   "cell_type": "code",
   "execution_count": 97,
   "metadata": {},
   "outputs": [
    {
     "data": {
      "text/html": [
       "<div>\n",
       "<style scoped>\n",
       "    .dataframe tbody tr th:only-of-type {\n",
       "        vertical-align: middle;\n",
       "    }\n",
       "\n",
       "    .dataframe tbody tr th {\n",
       "        vertical-align: top;\n",
       "    }\n",
       "\n",
       "    .dataframe thead th {\n",
       "        text-align: right;\n",
       "    }\n",
       "</style>\n",
       "<table border=\"1\" class=\"dataframe\">\n",
       "  <thead>\n",
       "    <tr style=\"text-align: right;\">\n",
       "      <th></th>\n",
       "      <th>map_no</th>\n",
       "      <th>registration_no</th>\n",
       "      <th>fme_database</th>\n",
       "      <th>geometry</th>\n",
       "    </tr>\n",
       "  </thead>\n",
       "  <tbody>\n",
       "    <tr>\n",
       "      <th>0</th>\n",
       "      <td>1286</td>\n",
       "      <td>1460</td>\n",
       "      <td>D:\\UC Downloads\\aa-Missing files\\1327_1487.pdf</td>\n",
       "      <td>POLYGON ((8592388.017 3346483.805, 8592387.299...</td>\n",
       "    </tr>\n",
       "    <tr>\n",
       "      <th>1</th>\n",
       "      <td>1281</td>\n",
       "      <td>1108</td>\n",
       "      <td>D:\\UC Downloads\\aa-Missing files\\1327_1487.pdf</td>\n",
       "      <td>POLYGON ((8591940.960 3346236.224, 8591942.331...</td>\n",
       "    </tr>\n",
       "    <tr>\n",
       "      <th>2</th>\n",
       "      <td>1344</td>\n",
       "      <td>389A</td>\n",
       "      <td>D:\\UC Downloads\\aa-Missing files\\1274_509.pdf</td>\n",
       "      <td>POLYGON ((8601158.086 3338679.042, 8601159.936...</td>\n",
       "    </tr>\n",
       "    <tr>\n",
       "      <th>3</th>\n",
       "      <td>1443</td>\n",
       "      <td>513A</td>\n",
       "      <td>D:\\UC Downloads\\aa-Missing files\\1288_1552.pdf</td>\n",
       "      <td>POLYGON ((8599031.183 3312021.877, 8599021.988...</td>\n",
       "    </tr>\n",
       "    <tr>\n",
       "      <th>4</th>\n",
       "      <td>1474</td>\n",
       "      <td>1276</td>\n",
       "      <td>D:\\UC Downloads\\aa-Missing files\\1286_1460.pdf</td>\n",
       "      <td>POLYGON ((8577231.243 3326492.044, 8577236.413...</td>\n",
       "    </tr>\n",
       "  </tbody>\n",
       "</table>\n",
       "</div>"
      ],
      "text/plain": [
       "   map_no registration_no                                    fme_database  \\\n",
       "0    1286            1460  D:\\UC Downloads\\aa-Missing files\\1327_1487.pdf   \n",
       "1    1281            1108  D:\\UC Downloads\\aa-Missing files\\1327_1487.pdf   \n",
       "2    1344            389A   D:\\UC Downloads\\aa-Missing files\\1274_509.pdf   \n",
       "3    1443            513A  D:\\UC Downloads\\aa-Missing files\\1288_1552.pdf   \n",
       "4    1474            1276  D:\\UC Downloads\\aa-Missing files\\1286_1460.pdf   \n",
       "\n",
       "                                            geometry  \n",
       "0  POLYGON ((8592388.017 3346483.805, 8592387.299...  \n",
       "1  POLYGON ((8591940.960 3346236.224, 8591942.331...  \n",
       "2  POLYGON ((8601158.086 3338679.042, 8601159.936...  \n",
       "3  POLYGON ((8599031.183 3312021.877, 8599021.988...  \n",
       "4  POLYGON ((8577231.243 3326492.044, 8577236.413...  "
      ]
     },
     "execution_count": 97,
     "metadata": {},
     "output_type": "execute_result"
    }
   ],
   "source": [
    "uac3.head()"
   ]
  },
  {
   "cell_type": "markdown",
   "metadata": {},
   "source": [
    "#### uac4"
   ]
  },
  {
   "cell_type": "code",
   "execution_count": 98,
   "metadata": {},
   "outputs": [
    {
     "data": {
      "text/plain": [
       "Index(['OBJECTID', 'SHAPE_Leng', 'SHAPE_Area', 'Map_No', 'FID_', 'IMG_NM_IND',\n",
       "       'fme_datase', 'Shape_Le_1', 'Map_No_1', 'geometry', 'registration_no'],\n",
       "      dtype='object')"
      ]
     },
     "execution_count": 98,
     "metadata": {},
     "output_type": "execute_result"
    }
   ],
   "source": [
    "uac4.columns"
   ]
  },
  {
   "cell_type": "code",
   "execution_count": 100,
   "metadata": {},
   "outputs": [],
   "source": [
    "uac4_rename = {'Map_No': 'map_no', 'fme_datase': 'fme_database'}"
   ]
  },
  {
   "cell_type": "code",
   "execution_count": 101,
   "metadata": {},
   "outputs": [],
   "source": [
    "uac4 = uac4.rename(columns=uac4_rename)"
   ]
  },
  {
   "cell_type": "code",
   "execution_count": 102,
   "metadata": {},
   "outputs": [],
   "source": [
    "uac4 = uac4[['map_no', 'registration_no', 'fme_database', 'geometry']]"
   ]
  },
  {
   "cell_type": "code",
   "execution_count": 103,
   "metadata": {},
   "outputs": [
    {
     "data": {
      "text/html": [
       "<div>\n",
       "<style scoped>\n",
       "    .dataframe tbody tr th:only-of-type {\n",
       "        vertical-align: middle;\n",
       "    }\n",
       "\n",
       "    .dataframe tbody tr th {\n",
       "        vertical-align: top;\n",
       "    }\n",
       "\n",
       "    .dataframe thead th {\n",
       "        text-align: right;\n",
       "    }\n",
       "</style>\n",
       "<table border=\"1\" class=\"dataframe\">\n",
       "  <thead>\n",
       "    <tr style=\"text-align: right;\">\n",
       "      <th></th>\n",
       "      <th>map_no</th>\n",
       "      <th>registration_no</th>\n",
       "      <th>fme_database</th>\n",
       "      <th>geometry</th>\n",
       "    </tr>\n",
       "  </thead>\n",
       "  <tbody>\n",
       "    <tr>\n",
       "      <th>0</th>\n",
       "      <td>471</td>\n",
       "      <td>96</td>\n",
       "      <td>D:\\UC Downloads\\Incomplete polygons\\471_96.pdf</td>\n",
       "      <td>POLYGON ((8592962.805 3308510.763, 8592940.683...</td>\n",
       "    </tr>\n",
       "    <tr>\n",
       "      <th>1</th>\n",
       "      <td>467</td>\n",
       "      <td>1036</td>\n",
       "      <td>D:\\UC Downloads\\Incomplete polygons\\467_1036.pdf</td>\n",
       "      <td>POLYGON ((8592960.108 3309594.120, 8592938.021...</td>\n",
       "    </tr>\n",
       "    <tr>\n",
       "      <th>2</th>\n",
       "      <td>468</td>\n",
       "      <td>1022</td>\n",
       "      <td>D:\\UC Downloads\\Incomplete polygons\\468_1022.pdf</td>\n",
       "      <td>POLYGON ((8592905.902 3311196.386, 8592906.651...</td>\n",
       "    </tr>\n",
       "    <tr>\n",
       "      <th>3</th>\n",
       "      <td>1350</td>\n",
       "      <td>1354-B</td>\n",
       "      <td>D:\\UC Downloads\\Incomplete polygons\\1350_1354-...</td>\n",
       "      <td>POLYGON ((8600327.881 3312934.656, 8600314.495...</td>\n",
       "    </tr>\n",
       "    <tr>\n",
       "      <th>4</th>\n",
       "      <td>1492</td>\n",
       "      <td>22_ELD</td>\n",
       "      <td>D:\\UC Downloads\\Incomplete polygons\\1492_22_EL...</td>\n",
       "      <td>POLYGON ((8590656.678 3314980.221, 8590472.149...</td>\n",
       "    </tr>\n",
       "  </tbody>\n",
       "</table>\n",
       "</div>"
      ],
      "text/plain": [
       "   map_no registration_no                                       fme_database  \\\n",
       "0     471              96     D:\\UC Downloads\\Incomplete polygons\\471_96.pdf   \n",
       "1     467            1036   D:\\UC Downloads\\Incomplete polygons\\467_1036.pdf   \n",
       "2     468            1022   D:\\UC Downloads\\Incomplete polygons\\468_1022.pdf   \n",
       "3    1350          1354-B  D:\\UC Downloads\\Incomplete polygons\\1350_1354-...   \n",
       "4    1492          22_ELD  D:\\UC Downloads\\Incomplete polygons\\1492_22_EL...   \n",
       "\n",
       "                                            geometry  \n",
       "0  POLYGON ((8592962.805 3308510.763, 8592940.683...  \n",
       "1  POLYGON ((8592960.108 3309594.120, 8592938.021...  \n",
       "2  POLYGON ((8592905.902 3311196.386, 8592906.651...  \n",
       "3  POLYGON ((8600327.881 3312934.656, 8600314.495...  \n",
       "4  POLYGON ((8590656.678 3314980.221, 8590472.149...  "
      ]
     },
     "execution_count": 103,
     "metadata": {},
     "output_type": "execute_result"
    }
   ],
   "source": [
    "uac4.head()"
   ]
  },
  {
   "cell_type": "markdown",
   "metadata": {},
   "source": [
    "### Check data types for map number and registration number "
   ]
  },
  {
   "cell_type": "code",
   "execution_count": 110,
   "metadata": {},
   "outputs": [
    {
     "data": {
      "text/plain": [
       "dtype('int64')"
      ]
     },
     "execution_count": 110,
     "metadata": {},
     "output_type": "execute_result"
    }
   ],
   "source": [
    "uac1['map_no'].dtype"
   ]
  },
  {
   "cell_type": "code",
   "execution_count": 109,
   "metadata": {},
   "outputs": [
    {
     "data": {
      "text/plain": [
       "0        570\n",
       "1        888\n",
       "2        658\n",
       "3        200\n",
       "4       1194\n",
       "        ... \n",
       "3499    1460\n",
       "3500      16\n",
       "3501    1108\n",
       "3502    1022\n",
       "3503     127\n",
       "Name: registration_no, Length: 3504, dtype: object"
      ]
     },
     "execution_count": 109,
     "metadata": {},
     "output_type": "execute_result"
    }
   ],
   "source": [
    "uac1['registration_no']"
   ]
  },
  {
   "cell_type": "code",
   "execution_count": 111,
   "metadata": {},
   "outputs": [
    {
     "data": {
      "text/plain": [
       "0        1428\n",
       "1        1302\n",
       "2        1300\n",
       "3     MAP 196\n",
       "4     MAP 197\n",
       "       ...   \n",
       "82       1493\n",
       "83       1295\n",
       "84       1437\n",
       "85       1295\n",
       "86       1437\n",
       "Name: map_no, Length: 87, dtype: object"
      ]
     },
     "execution_count": 111,
     "metadata": {},
     "output_type": "execute_result"
    }
   ],
   "source": [
    "uac2['map_no']"
   ]
  },
  {
   "cell_type": "code",
   "execution_count": 112,
   "metadata": {},
   "outputs": [
    {
     "data": {
      "text/plain": [
       "0      577\n",
       "1      728\n",
       "2     1404\n",
       "3      904\n",
       "4      905\n",
       "      ... \n",
       "82      40\n",
       "83     702\n",
       "84     168\n",
       "85     702\n",
       "86     168\n",
       "Name: registration_no, Length: 87, dtype: object"
      ]
     },
     "execution_count": 112,
     "metadata": {},
     "output_type": "execute_result"
    }
   ],
   "source": [
    "uac2['registration_no']"
   ]
  },
  {
   "cell_type": "code",
   "execution_count": 114,
   "metadata": {},
   "outputs": [
    {
     "data": {
      "text/plain": [
       "dtype('int64')"
      ]
     },
     "execution_count": 114,
     "metadata": {},
     "output_type": "execute_result"
    }
   ],
   "source": [
    "uac3['map_no'].dtype"
   ]
  },
  {
   "cell_type": "code",
   "execution_count": 116,
   "metadata": {},
   "outputs": [
    {
     "data": {
      "text/plain": [
       "dtype('O')"
      ]
     },
     "execution_count": 116,
     "metadata": {},
     "output_type": "execute_result"
    }
   ],
   "source": [
    "uac3['registration_no'].dtype"
   ]
  },
  {
   "cell_type": "code",
   "execution_count": 117,
   "metadata": {},
   "outputs": [
    {
     "data": {
      "text/plain": [
       "dtype('int64')"
      ]
     },
     "execution_count": 117,
     "metadata": {},
     "output_type": "execute_result"
    }
   ],
   "source": [
    "uac4['map_no'].dtype"
   ]
  },
  {
   "cell_type": "code",
   "execution_count": 118,
   "metadata": {},
   "outputs": [
    {
     "data": {
      "text/plain": [
       "0         96\n",
       "1       1036\n",
       "2       1022\n",
       "3     1354-B\n",
       "4     22_ELD\n",
       "5        839\n",
       "6     1276_C\n",
       "7        748\n",
       "8        922\n",
       "9       1361\n",
       "10       724\n",
       "11       167\n",
       "12       625\n",
       "13       650\n",
       "14       218\n",
       "15       561\n",
       "Name: registration_no, dtype: object"
      ]
     },
     "execution_count": 118,
     "metadata": {},
     "output_type": "execute_result"
    }
   ],
   "source": [
    "uac4['registration_no']"
   ]
  },
  {
   "cell_type": "markdown",
   "metadata": {},
   "source": [
    "### Fix uac2 map number column\n",
    "* Extract number\n",
    "* Convert to integer\n",
    "* store in new column: `map_no_int`\n",
    "* Remove `map_no` and rename `map_no_int` as `map_no`"
   ]
  },
  {
   "cell_type": "code",
   "execution_count": 127,
   "metadata": {},
   "outputs": [],
   "source": [
    "pattern = r\"(\\d+)\""
   ]
  },
  {
   "cell_type": "code",
   "execution_count": 128,
   "metadata": {},
   "outputs": [],
   "source": [
    "uac2['map_no_int'] = -1"
   ]
  },
  {
   "cell_type": "code",
   "execution_count": 129,
   "metadata": {},
   "outputs": [],
   "source": [
    "# iterate across all rows\n",
    "for idx, row in uac2.iterrows():\n",
    "    try:\n",
    "        # Extract numbers from map_no\n",
    "        matches = re.search(pattern, row['map_no'])\n",
    "        \n",
    "        # Place map number as integer in `map_no_int`\n",
    "        uac2.loc[idx, 'map_no_int'] = int(matches.group(1))\n",
    "    except:\n",
    "        # If regex above does not work, skip this row entry\n",
    "        continue"
   ]
  },
  {
   "cell_type": "code",
   "execution_count": 130,
   "metadata": {},
   "outputs": [
    {
     "data": {
      "text/html": [
       "<div>\n",
       "<style scoped>\n",
       "    .dataframe tbody tr th:only-of-type {\n",
       "        vertical-align: middle;\n",
       "    }\n",
       "\n",
       "    .dataframe tbody tr th {\n",
       "        vertical-align: top;\n",
       "    }\n",
       "\n",
       "    .dataframe thead th {\n",
       "        text-align: right;\n",
       "    }\n",
       "</style>\n",
       "<table border=\"1\" class=\"dataframe\">\n",
       "  <thead>\n",
       "    <tr style=\"text-align: right;\">\n",
       "      <th></th>\n",
       "      <th>map_no</th>\n",
       "      <th>registration_no</th>\n",
       "      <th>fme_database</th>\n",
       "      <th>geometry</th>\n",
       "      <th>map_no_int</th>\n",
       "    </tr>\n",
       "  </thead>\n",
       "  <tbody>\n",
       "    <tr>\n",
       "      <th>0</th>\n",
       "      <td>1428</td>\n",
       "      <td>577</td>\n",
       "      <td>D:\\UC Downloads\\aa-Missing files\\1428_577.pdf</td>\n",
       "      <td>POLYGON ((8580125.161 3355724.976, 8580175.448...</td>\n",
       "      <td>1428</td>\n",
       "    </tr>\n",
       "    <tr>\n",
       "      <th>1</th>\n",
       "      <td>1302</td>\n",
       "      <td>728</td>\n",
       "      <td>D:\\UC Downloads\\aa-Missing files\\1302_728.pdf</td>\n",
       "      <td>POLYGON ((8583471.298 3344218.996, 8583550.471...</td>\n",
       "      <td>1302</td>\n",
       "    </tr>\n",
       "    <tr>\n",
       "      <th>2</th>\n",
       "      <td>1300</td>\n",
       "      <td>1404</td>\n",
       "      <td>D:\\UC Downloads\\aa-Missing files\\1300_1404.pdf</td>\n",
       "      <td>POLYGON ((8589460.134 3342855.629, 8589451.497...</td>\n",
       "      <td>1300</td>\n",
       "    </tr>\n",
       "    <tr>\n",
       "      <th>3</th>\n",
       "      <td>MAP 196</td>\n",
       "      <td>904</td>\n",
       "      <td>D:\\UC Downloads\\aa-Missing files\\MAP 196_904.pdf</td>\n",
       "      <td>POLYGON ((8590506.463 3344879.281, 8590663.658...</td>\n",
       "      <td>196</td>\n",
       "    </tr>\n",
       "    <tr>\n",
       "      <th>4</th>\n",
       "      <td>MAP 197</td>\n",
       "      <td>905</td>\n",
       "      <td>D:\\UC Downloads\\aa-Missing files\\MAP 197_905.pdf</td>\n",
       "      <td>POLYGON ((8589225.195 3344690.195, 8589226.925...</td>\n",
       "      <td>197</td>\n",
       "    </tr>\n",
       "  </tbody>\n",
       "</table>\n",
       "</div>"
      ],
      "text/plain": [
       "    map_no registration_no                                      fme_database  \\\n",
       "0     1428             577     D:\\UC Downloads\\aa-Missing files\\1428_577.pdf   \n",
       "1     1302             728     D:\\UC Downloads\\aa-Missing files\\1302_728.pdf   \n",
       "2     1300            1404    D:\\UC Downloads\\aa-Missing files\\1300_1404.pdf   \n",
       "3  MAP 196             904  D:\\UC Downloads\\aa-Missing files\\MAP 196_904.pdf   \n",
       "4  MAP 197             905  D:\\UC Downloads\\aa-Missing files\\MAP 197_905.pdf   \n",
       "\n",
       "                                            geometry  map_no_int  \n",
       "0  POLYGON ((8580125.161 3355724.976, 8580175.448...        1428  \n",
       "1  POLYGON ((8583471.298 3344218.996, 8583550.471...        1302  \n",
       "2  POLYGON ((8589460.134 3342855.629, 8589451.497...        1300  \n",
       "3  POLYGON ((8590506.463 3344879.281, 8590663.658...         196  \n",
       "4  POLYGON ((8589225.195 3344690.195, 8589226.925...         197  "
      ]
     },
     "execution_count": 130,
     "metadata": {},
     "output_type": "execute_result"
    }
   ],
   "source": [
    "uac2.head()"
   ]
  },
  {
   "cell_type": "code",
   "execution_count": 134,
   "metadata": {},
   "outputs": [
    {
     "data": {
      "text/plain": [
       "dtype('int64')"
      ]
     },
     "execution_count": 134,
     "metadata": {},
     "output_type": "execute_result"
    }
   ],
   "source": [
    "# Check that map number is an integer\n",
    "uac2.map_no_int.dtype"
   ]
  },
  {
   "cell_type": "code",
   "execution_count": 135,
   "metadata": {},
   "outputs": [],
   "source": [
    "# Drop `map_no` as columns\n",
    "uac2 = uac2.drop(columns=['map_no'])"
   ]
  },
  {
   "cell_type": "code",
   "execution_count": 136,
   "metadata": {},
   "outputs": [],
   "source": [
    "# Rename `map_no_int` as `map_no`\n",
    "uac2 = uac2.rename(columns={'map_no_int':'map_no'})"
   ]
  },
  {
   "cell_type": "code",
   "execution_count": 137,
   "metadata": {},
   "outputs": [
    {
     "data": {
      "text/plain": [
       "dtype('int64')"
      ]
     },
     "execution_count": 137,
     "metadata": {},
     "output_type": "execute_result"
    }
   ],
   "source": [
    "uac2.map_no.dtype"
   ]
  },
  {
   "cell_type": "code",
   "execution_count": 138,
   "metadata": {},
   "outputs": [
    {
     "data": {
      "text/html": [
       "<div>\n",
       "<style scoped>\n",
       "    .dataframe tbody tr th:only-of-type {\n",
       "        vertical-align: middle;\n",
       "    }\n",
       "\n",
       "    .dataframe tbody tr th {\n",
       "        vertical-align: top;\n",
       "    }\n",
       "\n",
       "    .dataframe thead th {\n",
       "        text-align: right;\n",
       "    }\n",
       "</style>\n",
       "<table border=\"1\" class=\"dataframe\">\n",
       "  <thead>\n",
       "    <tr style=\"text-align: right;\">\n",
       "      <th></th>\n",
       "      <th>registration_no</th>\n",
       "      <th>fme_database</th>\n",
       "      <th>geometry</th>\n",
       "      <th>map_no</th>\n",
       "    </tr>\n",
       "  </thead>\n",
       "  <tbody>\n",
       "    <tr>\n",
       "      <th>0</th>\n",
       "      <td>577</td>\n",
       "      <td>D:\\UC Downloads\\aa-Missing files\\1428_577.pdf</td>\n",
       "      <td>POLYGON ((8580125.161 3355724.976, 8580175.448...</td>\n",
       "      <td>1428</td>\n",
       "    </tr>\n",
       "    <tr>\n",
       "      <th>1</th>\n",
       "      <td>728</td>\n",
       "      <td>D:\\UC Downloads\\aa-Missing files\\1302_728.pdf</td>\n",
       "      <td>POLYGON ((8583471.298 3344218.996, 8583550.471...</td>\n",
       "      <td>1302</td>\n",
       "    </tr>\n",
       "    <tr>\n",
       "      <th>2</th>\n",
       "      <td>1404</td>\n",
       "      <td>D:\\UC Downloads\\aa-Missing files\\1300_1404.pdf</td>\n",
       "      <td>POLYGON ((8589460.134 3342855.629, 8589451.497...</td>\n",
       "      <td>1300</td>\n",
       "    </tr>\n",
       "    <tr>\n",
       "      <th>3</th>\n",
       "      <td>904</td>\n",
       "      <td>D:\\UC Downloads\\aa-Missing files\\MAP 196_904.pdf</td>\n",
       "      <td>POLYGON ((8590506.463 3344879.281, 8590663.658...</td>\n",
       "      <td>196</td>\n",
       "    </tr>\n",
       "    <tr>\n",
       "      <th>4</th>\n",
       "      <td>905</td>\n",
       "      <td>D:\\UC Downloads\\aa-Missing files\\MAP 197_905.pdf</td>\n",
       "      <td>POLYGON ((8589225.195 3344690.195, 8589226.925...</td>\n",
       "      <td>197</td>\n",
       "    </tr>\n",
       "  </tbody>\n",
       "</table>\n",
       "</div>"
      ],
      "text/plain": [
       "  registration_no                                      fme_database  \\\n",
       "0             577     D:\\UC Downloads\\aa-Missing files\\1428_577.pdf   \n",
       "1             728     D:\\UC Downloads\\aa-Missing files\\1302_728.pdf   \n",
       "2            1404    D:\\UC Downloads\\aa-Missing files\\1300_1404.pdf   \n",
       "3             904  D:\\UC Downloads\\aa-Missing files\\MAP 196_904.pdf   \n",
       "4             905  D:\\UC Downloads\\aa-Missing files\\MAP 197_905.pdf   \n",
       "\n",
       "                                            geometry  map_no  \n",
       "0  POLYGON ((8580125.161 3355724.976, 8580175.448...    1428  \n",
       "1  POLYGON ((8583471.298 3344218.996, 8583550.471...    1302  \n",
       "2  POLYGON ((8589460.134 3342855.629, 8589451.497...    1300  \n",
       "3  POLYGON ((8590506.463 3344879.281, 8590663.658...     196  \n",
       "4  POLYGON ((8589225.195 3344690.195, 8589226.925...     197  "
      ]
     },
     "execution_count": 138,
     "metadata": {},
     "output_type": "execute_result"
    }
   ],
   "source": [
    "uac2.head()"
   ]
  },
  {
   "cell_type": "markdown",
   "metadata": {},
   "source": [
    "### Merge uac1, uac2, uac3, uac4 into `uac`"
   ]
  },
  {
   "cell_type": "code",
   "execution_count": 141,
   "metadata": {},
   "outputs": [],
   "source": [
    "concat_df = pd.concat([uac1, uac2, uac3, uac4], ignore_index=True)"
   ]
  },
  {
   "cell_type": "code",
   "execution_count": 143,
   "metadata": {},
   "outputs": [],
   "source": [
    "uac = gpd.GeoDataFrame(concat_df, geometry='geometry')"
   ]
  },
  {
   "cell_type": "code",
   "execution_count": 144,
   "metadata": {},
   "outputs": [
    {
     "data": {
      "text/plain": [
       "3642"
      ]
     },
     "execution_count": 144,
     "metadata": {},
     "output_type": "execute_result"
    }
   ],
   "source": [
    "len(uac)"
   ]
  },
  {
   "cell_type": "code",
   "execution_count": 145,
   "metadata": {},
   "outputs": [
    {
     "data": {
      "text/html": [
       "<div>\n",
       "<style scoped>\n",
       "    .dataframe tbody tr th:only-of-type {\n",
       "        vertical-align: middle;\n",
       "    }\n",
       "\n",
       "    .dataframe tbody tr th {\n",
       "        vertical-align: top;\n",
       "    }\n",
       "\n",
       "    .dataframe thead th {\n",
       "        text-align: right;\n",
       "    }\n",
       "</style>\n",
       "<table border=\"1\" class=\"dataframe\">\n",
       "  <thead>\n",
       "    <tr style=\"text-align: right;\">\n",
       "      <th></th>\n",
       "      <th>map_no</th>\n",
       "      <th>registration_no</th>\n",
       "      <th>fme_database</th>\n",
       "      <th>geometry</th>\n",
       "    </tr>\n",
       "  </thead>\n",
       "  <tbody>\n",
       "    <tr>\n",
       "      <th>0</th>\n",
       "      <td>520</td>\n",
       "      <td>570</td>\n",
       "      <td>D:\\UC Downloads\\UC_501-600-Done\\520_570.pdf</td>\n",
       "      <td>POLYGON ((8568698.722 3350778.289, 8568688.910...</td>\n",
       "    </tr>\n",
       "    <tr>\n",
       "      <th>1</th>\n",
       "      <td>509</td>\n",
       "      <td>888</td>\n",
       "      <td>D:\\UC Downloads\\UC_501-600-Done\\509_888.pdf</td>\n",
       "      <td>POLYGON ((8580894.912 3343225.741, 8580905.114...</td>\n",
       "    </tr>\n",
       "    <tr>\n",
       "      <th>2</th>\n",
       "      <td>516</td>\n",
       "      <td>658</td>\n",
       "      <td>D:\\UC Downloads\\UC_501-600-Done\\516_658.pdf</td>\n",
       "      <td>POLYGON ((8574843.534 3349736.689, 8574924.630...</td>\n",
       "    </tr>\n",
       "    <tr>\n",
       "      <th>3</th>\n",
       "      <td>503</td>\n",
       "      <td>200</td>\n",
       "      <td>D:\\UC Downloads\\UC_501-600-Done\\503_200.pdf</td>\n",
       "      <td>POLYGON ((8578433.979 3352949.941, 8578436.107...</td>\n",
       "    </tr>\n",
       "    <tr>\n",
       "      <th>4</th>\n",
       "      <td>504</td>\n",
       "      <td>1194</td>\n",
       "      <td>D:\\UC Downloads\\UC_501-600-Done\\504_1194.pdf</td>\n",
       "      <td>POLYGON ((8579255.777 3353628.687, 8579180.169...</td>\n",
       "    </tr>\n",
       "  </tbody>\n",
       "</table>\n",
       "</div>"
      ],
      "text/plain": [
       "   map_no registration_no                                  fme_database  \\\n",
       "0     520             570   D:\\UC Downloads\\UC_501-600-Done\\520_570.pdf   \n",
       "1     509             888   D:\\UC Downloads\\UC_501-600-Done\\509_888.pdf   \n",
       "2     516             658   D:\\UC Downloads\\UC_501-600-Done\\516_658.pdf   \n",
       "3     503             200   D:\\UC Downloads\\UC_501-600-Done\\503_200.pdf   \n",
       "4     504            1194  D:\\UC Downloads\\UC_501-600-Done\\504_1194.pdf   \n",
       "\n",
       "                                            geometry  \n",
       "0  POLYGON ((8568698.722 3350778.289, 8568688.910...  \n",
       "1  POLYGON ((8580894.912 3343225.741, 8580905.114...  \n",
       "2  POLYGON ((8574843.534 3349736.689, 8574924.630...  \n",
       "3  POLYGON ((8578433.979 3352949.941, 8578436.107...  \n",
       "4  POLYGON ((8579255.777 3353628.687, 8579180.169...  "
      ]
     },
     "execution_count": 145,
     "metadata": {},
     "output_type": "execute_result"
    }
   ],
   "source": [
    "uac.head()"
   ]
  },
  {
   "cell_type": "markdown",
   "metadata": {},
   "source": [
    "### Set index as column"
   ]
  },
  {
   "cell_type": "code",
   "execution_count": 146,
   "metadata": {},
   "outputs": [],
   "source": [
    "uac['index'] = uac.index"
   ]
  },
  {
   "cell_type": "code",
   "execution_count": 147,
   "metadata": {},
   "outputs": [
    {
     "data": {
      "text/html": [
       "<div>\n",
       "<style scoped>\n",
       "    .dataframe tbody tr th:only-of-type {\n",
       "        vertical-align: middle;\n",
       "    }\n",
       "\n",
       "    .dataframe tbody tr th {\n",
       "        vertical-align: top;\n",
       "    }\n",
       "\n",
       "    .dataframe thead th {\n",
       "        text-align: right;\n",
       "    }\n",
       "</style>\n",
       "<table border=\"1\" class=\"dataframe\">\n",
       "  <thead>\n",
       "    <tr style=\"text-align: right;\">\n",
       "      <th></th>\n",
       "      <th>map_no</th>\n",
       "      <th>registration_no</th>\n",
       "      <th>fme_database</th>\n",
       "      <th>geometry</th>\n",
       "      <th>index</th>\n",
       "    </tr>\n",
       "  </thead>\n",
       "  <tbody>\n",
       "    <tr>\n",
       "      <th>0</th>\n",
       "      <td>520</td>\n",
       "      <td>570</td>\n",
       "      <td>D:\\UC Downloads\\UC_501-600-Done\\520_570.pdf</td>\n",
       "      <td>POLYGON ((8568698.722 3350778.289, 8568688.910...</td>\n",
       "      <td>0</td>\n",
       "    </tr>\n",
       "    <tr>\n",
       "      <th>1</th>\n",
       "      <td>509</td>\n",
       "      <td>888</td>\n",
       "      <td>D:\\UC Downloads\\UC_501-600-Done\\509_888.pdf</td>\n",
       "      <td>POLYGON ((8580894.912 3343225.741, 8580905.114...</td>\n",
       "      <td>1</td>\n",
       "    </tr>\n",
       "    <tr>\n",
       "      <th>2</th>\n",
       "      <td>516</td>\n",
       "      <td>658</td>\n",
       "      <td>D:\\UC Downloads\\UC_501-600-Done\\516_658.pdf</td>\n",
       "      <td>POLYGON ((8574843.534 3349736.689, 8574924.630...</td>\n",
       "      <td>2</td>\n",
       "    </tr>\n",
       "    <tr>\n",
       "      <th>3</th>\n",
       "      <td>503</td>\n",
       "      <td>200</td>\n",
       "      <td>D:\\UC Downloads\\UC_501-600-Done\\503_200.pdf</td>\n",
       "      <td>POLYGON ((8578433.979 3352949.941, 8578436.107...</td>\n",
       "      <td>3</td>\n",
       "    </tr>\n",
       "    <tr>\n",
       "      <th>4</th>\n",
       "      <td>504</td>\n",
       "      <td>1194</td>\n",
       "      <td>D:\\UC Downloads\\UC_501-600-Done\\504_1194.pdf</td>\n",
       "      <td>POLYGON ((8579255.777 3353628.687, 8579180.169...</td>\n",
       "      <td>4</td>\n",
       "    </tr>\n",
       "  </tbody>\n",
       "</table>\n",
       "</div>"
      ],
      "text/plain": [
       "   map_no registration_no                                  fme_database  \\\n",
       "0     520             570   D:\\UC Downloads\\UC_501-600-Done\\520_570.pdf   \n",
       "1     509             888   D:\\UC Downloads\\UC_501-600-Done\\509_888.pdf   \n",
       "2     516             658   D:\\UC Downloads\\UC_501-600-Done\\516_658.pdf   \n",
       "3     503             200   D:\\UC Downloads\\UC_501-600-Done\\503_200.pdf   \n",
       "4     504            1194  D:\\UC Downloads\\UC_501-600-Done\\504_1194.pdf   \n",
       "\n",
       "                                            geometry  index  \n",
       "0  POLYGON ((8568698.722 3350778.289, 8568688.910...      0  \n",
       "1  POLYGON ((8580894.912 3343225.741, 8580905.114...      1  \n",
       "2  POLYGON ((8574843.534 3349736.689, 8574924.630...      2  \n",
       "3  POLYGON ((8578433.979 3352949.941, 8578436.107...      3  \n",
       "4  POLYGON ((8579255.777 3353628.687, 8579180.169...      4  "
      ]
     },
     "execution_count": 147,
     "metadata": {},
     "output_type": "execute_result"
    }
   ],
   "source": [
    "uac.head()"
   ]
  },
  {
   "cell_type": "code",
   "execution_count": 148,
   "metadata": {},
   "outputs": [
    {
     "data": {
      "text/html": [
       "<div>\n",
       "<style scoped>\n",
       "    .dataframe tbody tr th:only-of-type {\n",
       "        vertical-align: middle;\n",
       "    }\n",
       "\n",
       "    .dataframe tbody tr th {\n",
       "        vertical-align: top;\n",
       "    }\n",
       "\n",
       "    .dataframe thead th {\n",
       "        text-align: right;\n",
       "    }\n",
       "</style>\n",
       "<table border=\"1\" class=\"dataframe\">\n",
       "  <thead>\n",
       "    <tr style=\"text-align: right;\">\n",
       "      <th></th>\n",
       "      <th>map_no</th>\n",
       "      <th>registration_no</th>\n",
       "      <th>fme_database</th>\n",
       "      <th>geometry</th>\n",
       "      <th>index</th>\n",
       "    </tr>\n",
       "  </thead>\n",
       "  <tbody>\n",
       "    <tr>\n",
       "      <th>3637</th>\n",
       "      <td>27</td>\n",
       "      <td>167</td>\n",
       "      <td>D:\\UC Downloads\\Incomplete polygons\\27_167.pdf</td>\n",
       "      <td>POLYGON ((8576522.039 3336941.191, 8576576.418...</td>\n",
       "      <td>3637</td>\n",
       "    </tr>\n",
       "    <tr>\n",
       "      <th>3638</th>\n",
       "      <td>1161</td>\n",
       "      <td>625</td>\n",
       "      <td>D:\\UC Downloads\\Incomplete polygons\\1161_625.pdf</td>\n",
       "      <td>POLYGON ((8576663.032 3336801.506, 8576647.696...</td>\n",
       "      <td>3638</td>\n",
       "    </tr>\n",
       "    <tr>\n",
       "      <th>3639</th>\n",
       "      <td>1338</td>\n",
       "      <td>650</td>\n",
       "      <td>D:\\UC Downloads\\Incomplete polygons\\1338_650.pdf</td>\n",
       "      <td>POLYGON ((8600711.390 3340360.255, 8600724.770...</td>\n",
       "      <td>3639</td>\n",
       "    </tr>\n",
       "    <tr>\n",
       "      <th>3640</th>\n",
       "      <td>882</td>\n",
       "      <td>218</td>\n",
       "      <td>D:\\UC Downloads\\Incomplete polygons\\882_218.pdf</td>\n",
       "      <td>POLYGON ((8575193.159 3341022.052, 8575195.388...</td>\n",
       "      <td>3640</td>\n",
       "    </tr>\n",
       "    <tr>\n",
       "      <th>3641</th>\n",
       "      <td>1353</td>\n",
       "      <td>561</td>\n",
       "      <td>D:\\UC Downloads\\Incomplete polygons\\1353_561.pdf</td>\n",
       "      <td>POLYGON ((8574830.088 3341549.589, 8574827.767...</td>\n",
       "      <td>3641</td>\n",
       "    </tr>\n",
       "  </tbody>\n",
       "</table>\n",
       "</div>"
      ],
      "text/plain": [
       "      map_no registration_no  \\\n",
       "3637      27             167   \n",
       "3638    1161             625   \n",
       "3639    1338             650   \n",
       "3640     882             218   \n",
       "3641    1353             561   \n",
       "\n",
       "                                          fme_database  \\\n",
       "3637    D:\\UC Downloads\\Incomplete polygons\\27_167.pdf   \n",
       "3638  D:\\UC Downloads\\Incomplete polygons\\1161_625.pdf   \n",
       "3639  D:\\UC Downloads\\Incomplete polygons\\1338_650.pdf   \n",
       "3640   D:\\UC Downloads\\Incomplete polygons\\882_218.pdf   \n",
       "3641  D:\\UC Downloads\\Incomplete polygons\\1353_561.pdf   \n",
       "\n",
       "                                               geometry  index  \n",
       "3637  POLYGON ((8576522.039 3336941.191, 8576576.418...   3637  \n",
       "3638  POLYGON ((8576663.032 3336801.506, 8576647.696...   3638  \n",
       "3639  POLYGON ((8600711.390 3340360.255, 8600724.770...   3639  \n",
       "3640  POLYGON ((8575193.159 3341022.052, 8575195.388...   3640  \n",
       "3641  POLYGON ((8574830.088 3341549.589, 8574827.767...   3641  "
      ]
     },
     "execution_count": 148,
     "metadata": {},
     "output_type": "execute_result"
    }
   ],
   "source": [
    "uac.tail()"
   ]
  },
  {
   "cell_type": "markdown",
   "metadata": {},
   "source": [
    "### Set variables for column names"
   ]
  },
  {
   "cell_type": "code",
   "execution_count": 20,
   "metadata": {},
   "outputs": [],
   "source": [
    "index_colname = 'index'\n",
    "map_colname = 'MAP_NO'\n",
    "registration_colname = 'REGISTRATI'"
   ]
  },
  {
   "cell_type": "code",
   "execution_count": 21,
   "metadata": {},
   "outputs": [
    {
     "data": {
      "text/plain": [
       "0    0\n",
       "1    1\n",
       "2    2\n",
       "3    3\n",
       "4    4\n",
       "Name: index, dtype: int64"
      ]
     },
     "execution_count": 21,
     "metadata": {},
     "output_type": "execute_result"
    }
   ],
   "source": [
    "uac[index_colname].head()"
   ]
  },
  {
   "cell_type": "code",
   "execution_count": 22,
   "metadata": {},
   "outputs": [
    {
     "data": {
      "text/plain": [
       "0    520\n",
       "1    509\n",
       "2    516\n",
       "3    503\n",
       "4    504\n",
       "Name: MAP_NO, dtype: int64"
      ]
     },
     "execution_count": 22,
     "metadata": {},
     "output_type": "execute_result"
    }
   ],
   "source": [
    "uac[map_colname].head()"
   ]
  },
  {
   "cell_type": "code",
   "execution_count": 23,
   "metadata": {},
   "outputs": [
    {
     "data": {
      "text/plain": [
       "0     570\n",
       "1     888\n",
       "2     658\n",
       "3     200\n",
       "4    1194\n",
       "Name: REGISTRATI, dtype: object"
      ]
     },
     "execution_count": 23,
     "metadata": {},
     "output_type": "execute_result"
    }
   ],
   "source": [
    "uac[registration_colname].head()"
   ]
  },
  {
   "cell_type": "markdown",
   "metadata": {},
   "source": [
    "## Check for duplicate rows"
   ]
  },
  {
   "cell_type": "code",
   "execution_count": 150,
   "metadata": {},
   "outputs": [
    {
     "data": {
      "text/plain": [
       "False"
      ]
     },
     "execution_count": 150,
     "metadata": {},
     "output_type": "execute_result"
    }
   ],
   "source": [
    "uac_utils.gdf_has_duplicate_rows(uac)"
   ]
  },
  {
   "cell_type": "markdown",
   "metadata": {},
   "source": [
    "## Check for only polygon geometries"
   ]
  },
  {
   "cell_type": "code",
   "execution_count": 152,
   "metadata": {},
   "outputs": [
    {
     "data": {
      "text/plain": [
       "True"
      ]
     },
     "execution_count": 152,
     "metadata": {},
     "output_type": "execute_result"
    }
   ],
   "source": [
    "uac_utils.all_polygon_geometries(uac)"
   ]
  },
  {
   "cell_type": "code",
   "execution_count": null,
   "metadata": {},
   "outputs": [],
   "source": []
  }
 ],
 "metadata": {
  "kernelspec": {
   "display_name": "Python 3",
   "language": "python",
   "name": "python3"
  },
  "language_info": {
   "codemirror_mode": {
    "name": "ipython",
    "version": 3
   },
   "file_extension": ".py",
   "mimetype": "text/x-python",
   "name": "python",
   "nbconvert_exporter": "python",
   "pygments_lexer": "ipython3",
   "version": "3.7.7"
  }
 },
 "nbformat": 4,
 "nbformat_minor": 4
}
